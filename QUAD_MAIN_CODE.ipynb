{
  "nbformat": 4,
  "nbformat_minor": 0,
  "metadata": {
    "colab": {
      "name": "QUAD_MAIN_CODE.ipynb",
      "provenance": []
    },
    "kernelspec": {
      "name": "python3",
      "display_name": "Python 3"
    }
  },
  "cells": [
    {
      "cell_type": "code",
      "metadata": {
        "id": "Oz8Ot5n1IPHt"
      },
      "source": [
        "#install important python packages\n",
        "import numpy as np\n",
        "import pandas as pd"
      ],
      "execution_count": null,
      "outputs": []
    },
    {
      "cell_type": "code",
      "metadata": {
        "id": "tT4WTZ-NJDdc"
      },
      "source": [
        "#install some modules form sklearn\n",
        "from sklearn.model_selection import train_test_split\n",
        "from sklearn.svm import LinearSVC\n",
        "from sklearn.metrics import accuracy_score, classification_report, confusion_matrix\n",
        "from sklearn.feature_extraction.text import TfidfVectorizer\n"
      ],
      "execution_count": null,
      "outputs": []
    },
    {
      "cell_type": "code",
      "metadata": {
        "colab": {
          "base_uri": "https://localhost:8080/"
        },
        "id": "r5au63iQ_Gij",
        "outputId": "427b075d-ad89-499f-d455-58c05e4fd0bd"
      },
      "source": [
        "!pip install git+https://github.com/laxmimerit/preprocess_kgptalkie.git\n",
        "import preprocess_kgptalkie as pp\n",
        "from textblob import TextBlob\n",
        "import pickle"
      ],
      "execution_count": null,
      "outputs": [
        {
          "output_type": "stream",
          "text": [
            "Collecting git+https://github.com/laxmimerit/preprocess_kgptalkie.git\n",
            "  Cloning https://github.com/laxmimerit/preprocess_kgptalkie.git to /tmp/pip-req-build-zosldqnv\n",
            "  Running command git clone -q https://github.com/laxmimerit/preprocess_kgptalkie.git /tmp/pip-req-build-zosldqnv\n",
            "Requirement already satisfied (use --upgrade to upgrade): preprocess-kgptalkie==0.1.3 from git+https://github.com/laxmimerit/preprocess_kgptalkie.git in /usr/local/lib/python3.6/dist-packages\n",
            "Building wheels for collected packages: preprocess-kgptalkie\n",
            "  Building wheel for preprocess-kgptalkie (setup.py) ... \u001b[?25l\u001b[?25hdone\n",
            "  Created wheel for preprocess-kgptalkie: filename=preprocess_kgptalkie-0.1.3-cp36-none-any.whl size=11742 sha256=31b8a60051c3363f4528426834bf7e35c0fddc9d01aac2e657a4f5e7fd22e684\n",
            "  Stored in directory: /tmp/pip-ephem-wheel-cache-_vn8vijk/wheels/a8/18/22/90afa4bd43247fb9a75b710a4a3fcd94966c022ce9e3c7d0a6\n",
            "Successfully built preprocess-kgptalkie\n"
          ],
          "name": "stdout"
        }
      ]
    },
    {
      "cell_type": "code",
      "metadata": {
        "id": "e8pLfjd05dTl"
      },
      "source": [
        "url1='https://raw.githubusercontent.com/divyansh0608/QUAD/main/21nov/en.csv'\n",
        "url2='https://raw.githubusercontent.com/divyansh0608/QUAD/main/22nov/en.csv'\n",
        "url3='https://raw.githubusercontent.com/divyansh0608/QUAD/main/22nov/en2.csv'\n",
        "url4='https://raw.githubusercontent.com/divyansh0608/QUAD/main/23nov/en.csv'\n",
        "url5='https://raw.githubusercontent.com/divyansh0608/QUAD/main/23nov/en2.csv'\n",
        "url6='https://raw.githubusercontent.com/divyansh0608/QUAD/main/26nov/en.csv'\n",
        "url7='https://raw.githubusercontent.com/divyansh0608/QUAD/main/26nov/en3.csv'\n",
        "url8='https://raw.githubusercontent.com/divyansh0608/QUAD/main/26nov/en4.csv'\n",
        "url9='https://raw.githubusercontent.com/divyansh0608/QUAD/main/5dec/en.csv'\n",
        "url10='https://raw.githubusercontent.com/divyansh0608/QUAD/main/5dec/en2.csv'\n",
        "url11='https://raw.githubusercontent.com/divyansh0608/QUAD/main/6dec/en.csv'\n",
        "url12='https://raw.githubusercontent.com/divyansh0608/QUAD/main/7dec/en.csv'\n",
        "url13='https://raw.githubusercontent.com/divyansh0608/QUAD/main/7dec/en3.csv'\n",
        "url14='https://raw.githubusercontent.com/divyansh0608/QUAD/main/15dec/en1%23quad.csv'\n",
        "url15='https://raw.githubusercontent.com/divyansh0608/QUAD/main/15dec/en2%23indo-pacific.csv'\n",
        "url16='https://raw.githubusercontent.com/divyansh0608/QUAD/main/22dec/en.csv'\n",
        "url17='https://raw.githubusercontent.com/divyansh0608/QUAD/main/22dec/en_indo_pacific.csv'\n",
        "url18='https://raw.githubusercontent.com/divyansh0608/QUAD/main/10jan/en_indo_pacific.csv'\n",
        "url19='https://raw.githubusercontent.com/divyansh0608/QUAD/main/10jan/en_quad.csv'\n",
        "\n",
        "url20='https://raw.githubusercontent.com/divyansh0608/QUAD/main/21nov/hi.csv'\n",
        "url21='https://raw.githubusercontent.com/divyansh0608/QUAD/main/22nov/hi.csv'\n",
        "url22='https://raw.githubusercontent.com/divyansh0608/QUAD/main/23nov/hi.csv'\n",
        "url23='https://raw.githubusercontent.com/divyansh0608/QUAD/main/26nov/hi.csv'\n",
        "url24='https://raw.githubusercontent.com/divyansh0608/QUAD/main/26nov/hi2.csv'\n",
        "url25='https://raw.githubusercontent.com/divyansh0608/QUAD/main/7dec/hi.csv'\n",
        "url26='https://raw.githubusercontent.com/divyansh0608/QUAD/main/15dec/hi1%23quad.csv'\n",
        "url27='https://raw.githubusercontent.com/divyansh0608/QUAD/main/15dec/hi_indopacific.csv'\n",
        "url28='https://raw.githubusercontent.com/divyansh0608/QUAD/main/22dec/hi_indo_pacific.csv'\n",
        "url29='https://raw.githubusercontent.com/divyansh0608/QUAD/main/22dec/hiquad.csv'\n",
        "\n",
        "url30='https://raw.githubusercontent.com/divyansh0608/QUAD/main/7dec/ja.csv'\n",
        "url31='https://raw.githubusercontent.com/divyansh0608/QUAD/main/15dec/ja_indopacific.csv'\n",
        "url32='https://raw.githubusercontent.com/divyansh0608/QUAD/main/22dec/ja_indo_pacific.csv'\n",
        "url33='https://raw.githubusercontent.com/divyansh0608/QUAD/main/10jan/ja_indo_pacific.csv'\n",
        "\n",
        "\n",
        "url35='https://raw.githubusercontent.com/taranjeet/hindi-tokenizer/master/stopwords.txt'\n",
        "stopword=pd.read_csv(url35,index_col=0)\n",
        "\n",
        "en1 = pd.read_csv(url1,index_col=0)\n",
        "en2= pd.read_csv(url2,index_col=0)\n",
        "en3= pd.read_csv(url3,index_col=0)\n",
        "en4= pd.read_csv(url4,index_col=0)\n",
        "en5= pd.read_csv(url5,index_col=0)\n",
        "en6= pd.read_csv(url6,index_col=0)\n",
        "en7= pd.read_csv(url7,index_col=0)\n",
        "en8= pd.read_csv(url8,index_col=0)\n",
        "en9= pd.read_csv(url9,index_col=0)\n",
        "en10= pd.read_csv(url10,index_col=0)\n",
        "en11= pd.read_csv(url11,index_col=0)\n",
        "en12= pd.read_csv(url12,index_col=0)\n",
        "en13= pd.read_csv(url13,index_col=0)\n",
        "en14= pd.read_csv(url14,index_col=0)\n",
        "en15= pd.read_csv(url15,index_col=0)\n",
        "en16= pd.read_csv(url16,index_col=0)\n",
        "en17= pd.read_csv(url17,index_col=0)\n",
        "en18= pd.read_csv(url18,index_col=0)\n",
        "en19= pd.read_csv(url19,index_col=0)\n",
        "\n",
        "en20= pd.read_csv(url20,index_col=0)\n",
        "en21= pd.read_csv(url21,index_col=0)\n",
        "en22= pd.read_csv(url22,index_col=0)\n",
        "en23= pd.read_csv(url23,index_col=0)\n",
        "en24= pd.read_csv(url24,index_col=0)\n",
        "en25= pd.read_csv(url25,index_col=0)\n",
        "en26= pd.read_csv(url26,index_col=0)\n",
        "en27= pd.read_csv(url27,index_col=0)\n",
        "en28= pd.read_csv(url28,index_col=0)\n",
        "en29= pd.read_csv(url29,index_col=0)\n",
        "\n",
        "en30= pd.read_csv(url30,index_col=0)\n",
        "en31= pd.read_csv(url31,index_col=0)\n",
        "en32= pd.read_csv(url32,index_col=0)\n",
        "en33= pd.read_csv(url33,index_col=0)\n"
      ],
      "execution_count": null,
      "outputs": []
    },
    {
      "cell_type": "code",
      "metadata": {
        "id": "gLQn3e0M2X9S"
      },
      "source": [
        "eni= pd.concat([en1,en2,en3,en4,en5,en6,en7,en8,en9,en10,en11,en12,en13,en14,en15,en16,en17,en18,en19])"
      ],
      "execution_count": null,
      "outputs": []
    },
    {
      "cell_type": "code",
      "metadata": {
        "id": "UV7xdbCfiXHf"
      },
      "source": [
        "hi= pd.concat([en19,en20,en21,en22,en23,en24,en25,en26,en27,en28,en29])\r\n",
        "ja= pd.concat([en30,en31,en32,en33])"
      ],
      "execution_count": null,
      "outputs": []
    },
    {
      "cell_type": "code",
      "metadata": {
        "id": "6C4iEqo2_aId"
      },
      "source": [
        "eni2=eni.sort_values(by=['Date'])\r\n",
        "hi2=hi.sort_values(by=['Date'])\r\n",
        "ja2=ja.sort_values(by=['Date'])"
      ],
      "execution_count": null,
      "outputs": []
    },
    {
      "cell_type": "code",
      "metadata": {
        "id": "El9hJWa-B3nb"
      },
      "source": [
        "eni2['index_col'] = range(1, len(eni2) + 1)\r\n",
        "hi2['index_col'] = range(1, len(hi2) + 1)\r\n",
        "ja2['index_col'] = range(1, len(ja2) + 1)"
      ],
      "execution_count": null,
      "outputs": []
    },
    {
      "cell_type": "code",
      "metadata": {
        "id": "F_x08eA_BRAA"
      },
      "source": [
        "df= eni2\r\n",
        "dfhi= hi2\r\n",
        "dfja= ja2"
      ],
      "execution_count": null,
      "outputs": []
    },
    {
      "cell_type": "code",
      "metadata": {
        "colab": {
          "base_uri": "https://localhost:8080/",
          "height": 431
        },
        "id": "SGUXgOUv-8R4",
        "outputId": "23e5fc41-9993-4282-f903-7a673a7cbd02"
      },
      "source": [
        "df"
      ],
      "execution_count": null,
      "outputs": [
        {
          "output_type": "execute_result",
          "data": {
            "text/html": [
              "<div>\n",
              "<style scoped>\n",
              "    .dataframe tbody tr th:only-of-type {\n",
              "        vertical-align: middle;\n",
              "    }\n",
              "\n",
              "    .dataframe tbody tr th {\n",
              "        vertical-align: top;\n",
              "    }\n",
              "\n",
              "    .dataframe thead th {\n",
              "        text-align: right;\n",
              "    }\n",
              "</style>\n",
              "<table border=\"1\" class=\"dataframe\">\n",
              "  <thead>\n",
              "    <tr style=\"text-align: right;\">\n",
              "      <th></th>\n",
              "      <th>location</th>\n",
              "      <th>tweet</th>\n",
              "      <th>Date</th>\n",
              "      <th>Tweet Coordinates</th>\n",
              "      <th>index_col</th>\n",
              "    </tr>\n",
              "    <tr>\n",
              "      <th>user</th>\n",
              "      <th></th>\n",
              "      <th></th>\n",
              "      <th></th>\n",
              "      <th></th>\n",
              "      <th></th>\n",
              "    </tr>\n",
              "  </thead>\n",
              "  <tbody>\n",
              "    <tr>\n",
              "      <th>jagadishrjain</th>\n",
              "      <td>Hyderabad</td>\n",
              "      <td>RT @RRRameshRRR: 50% of the #Quad (Japan &amp;amp;...</td>\n",
              "      <td>2020-11-15 09:00:05</td>\n",
              "      <td>NaN</td>\n",
              "      <td>1</td>\n",
              "    </tr>\n",
              "    <tr>\n",
              "      <th>hellfire_81</th>\n",
              "      <td>NaN</td>\n",
              "      <td>Cool.\\n\\n#Quad (riplegic) military grouping 🙄 ...</td>\n",
              "      <td>2020-11-15 09:09:46</td>\n",
              "      <td>NaN</td>\n",
              "      <td>2</td>\n",
              "    </tr>\n",
              "    <tr>\n",
              "      <th>Savitri4Ever</th>\n",
              "      <td>NaN</td>\n",
              "      <td>RT @hellfire_81: Cool.\\n\\n#Quad (riplegic) mil...</td>\n",
              "      <td>2020-11-15 09:19:10</td>\n",
              "      <td>NaN</td>\n",
              "      <td>3</td>\n",
              "    </tr>\n",
              "    <tr>\n",
              "      <th>orfonline</th>\n",
              "      <td>India</td>\n",
              "      <td>The creation of the #Quad — with implications ...</td>\n",
              "      <td>2020-11-15 09:25:00</td>\n",
              "      <td>NaN</td>\n",
              "      <td>4</td>\n",
              "    </tr>\n",
              "    <tr>\n",
              "      <th>InsightGL</th>\n",
              "      <td>NaN</td>\n",
              "      <td>RT @asthana_shashi: #Jaishankar attends East A...</td>\n",
              "      <td>2020-11-15 09:36:43</td>\n",
              "      <td>NaN</td>\n",
              "      <td>5</td>\n",
              "    </tr>\n",
              "    <tr>\n",
              "      <th>...</th>\n",
              "      <td>...</td>\n",
              "      <td>...</td>\n",
              "      <td>...</td>\n",
              "      <td>...</td>\n",
              "      <td>...</td>\n",
              "    </tr>\n",
              "    <tr>\n",
              "      <th>RamKuma19784093</th>\n",
              "      <td>Puducherry</td>\n",
              "      <td>India, France discuss counter-terrorism, coope...</td>\n",
              "      <td>2021-01-10 06:52:00</td>\n",
              "      <td>NaN</td>\n",
              "      <td>29495</td>\n",
              "    </tr>\n",
              "    <tr>\n",
              "      <th>CPR_India</th>\n",
              "      <td>New Delhi</td>\n",
              "      <td>As #Quad prepares to meet the Chinese challeng...</td>\n",
              "      <td>2021-01-10 07:30:00</td>\n",
              "      <td>NaN</td>\n",
              "      <td>29496</td>\n",
              "    </tr>\n",
              "    <tr>\n",
              "      <th>Resort_Skelin</th>\n",
              "      <td>Hrvatska</td>\n",
              "      <td>Every team is different. Let's create a perfec...</td>\n",
              "      <td>2021-01-10 07:31:08</td>\n",
              "      <td>NaN</td>\n",
              "      <td>29497</td>\n",
              "    </tr>\n",
              "    <tr>\n",
              "      <th>KBhairava1</th>\n",
              "      <td>NaN</td>\n",
              "      <td>This here is very tricky.. \\nYes It's true Aus...</td>\n",
              "      <td>2021-01-10 07:39:52</td>\n",
              "      <td>NaN</td>\n",
              "      <td>29498</td>\n",
              "    </tr>\n",
              "    <tr>\n",
              "      <th>Deepakk79951168</th>\n",
              "      <td>Deoghar, Jharkhand</td>\n",
              "      <td>RT @CPR_India: As #Quad prepares to meet the C...</td>\n",
              "      <td>2021-01-10 07:52:47</td>\n",
              "      <td>NaN</td>\n",
              "      <td>29499</td>\n",
              "    </tr>\n",
              "  </tbody>\n",
              "</table>\n",
              "<p>29499 rows × 5 columns</p>\n",
              "</div>"
            ],
            "text/plain": [
              "                           location  ... index_col\n",
              "user                                 ...          \n",
              "jagadishrjain             Hyderabad  ...         1\n",
              "hellfire_81                     NaN  ...         2\n",
              "Savitri4Ever                    NaN  ...         3\n",
              "orfonline                     India  ...         4\n",
              "InsightGL                       NaN  ...         5\n",
              "...                             ...  ...       ...\n",
              "RamKuma19784093          Puducherry  ...     29495\n",
              "CPR_India                 New Delhi  ...     29496\n",
              "Resort_Skelin              Hrvatska  ...     29497\n",
              "KBhairava1                      NaN  ...     29498\n",
              "Deepakk79951168  Deoghar, Jharkhand  ...     29499\n",
              "\n",
              "[29499 rows x 5 columns]"
            ]
          },
          "metadata": {
            "tags": []
          },
          "execution_count": 22
        }
      ]
    },
    {
      "cell_type": "code",
      "metadata": {
        "colab": {
          "base_uri": "https://localhost:8080/",
          "height": 431
        },
        "id": "VXDvc3AdjGl7",
        "outputId": "b1278665-612f-4baf-d99d-d433e2dd56f9"
      },
      "source": [
        "dfhi"
      ],
      "execution_count": null,
      "outputs": [
        {
          "output_type": "execute_result",
          "data": {
            "text/html": [
              "<div>\n",
              "<style scoped>\n",
              "    .dataframe tbody tr th:only-of-type {\n",
              "        vertical-align: middle;\n",
              "    }\n",
              "\n",
              "    .dataframe tbody tr th {\n",
              "        vertical-align: top;\n",
              "    }\n",
              "\n",
              "    .dataframe thead th {\n",
              "        text-align: right;\n",
              "    }\n",
              "</style>\n",
              "<table border=\"1\" class=\"dataframe\">\n",
              "  <thead>\n",
              "    <tr style=\"text-align: right;\">\n",
              "      <th></th>\n",
              "      <th>location</th>\n",
              "      <th>tweet</th>\n",
              "      <th>Date</th>\n",
              "      <th>Tweet Coordinates</th>\n",
              "      <th>index_col</th>\n",
              "    </tr>\n",
              "    <tr>\n",
              "      <th>user</th>\n",
              "      <th></th>\n",
              "      <th></th>\n",
              "      <th></th>\n",
              "      <th></th>\n",
              "      <th></th>\n",
              "    </tr>\n",
              "  </thead>\n",
              "  <tbody>\n",
              "    <tr>\n",
              "      <th>TV9Bharatvarsh</th>\n",
              "      <td>Noida, India</td>\n",
              "      <td>अरब सागर में मालाबार युद्धाभ्यास का दूसरा फेज ...</td>\n",
              "      <td>2020-11-17 03:06:00</td>\n",
              "      <td>NaN</td>\n",
              "      <td>1</td>\n",
              "    </tr>\n",
              "    <tr>\n",
              "      <th>TV9Bharatvarsh</th>\n",
              "      <td>Noida, India</td>\n",
              "      <td>अरब सागर में मालाबार युद्धाभ्यास का दूसरा फेज ...</td>\n",
              "      <td>2020-11-17 03:06:00</td>\n",
              "      <td>NaN</td>\n",
              "      <td>2</td>\n",
              "    </tr>\n",
              "    <tr>\n",
              "      <th>TV9Bharatvarsh</th>\n",
              "      <td>Noida, India</td>\n",
              "      <td>अरब सागर में मालाबार युद्धाभ्यास का दूसरा फेज ...</td>\n",
              "      <td>2020-11-17 03:06:00</td>\n",
              "      <td>NaN</td>\n",
              "      <td>3</td>\n",
              "    </tr>\n",
              "    <tr>\n",
              "      <th>TV9Bharatvarsh</th>\n",
              "      <td>Noida, India</td>\n",
              "      <td>देखिए देश-दुनिया की हर बड़ी खबर, लोकल To ग्लोब...</td>\n",
              "      <td>2020-11-17 03:19:32</td>\n",
              "      <td>NaN</td>\n",
              "      <td>4</td>\n",
              "    </tr>\n",
              "    <tr>\n",
              "      <th>TV9Bharatvarsh</th>\n",
              "      <td>Noida, India</td>\n",
              "      <td>देखिए देश-दुनिया की हर बड़ी खबर, लोकल To ग्लोब...</td>\n",
              "      <td>2020-11-17 03:19:32</td>\n",
              "      <td>NaN</td>\n",
              "      <td>5</td>\n",
              "    </tr>\n",
              "    <tr>\n",
              "      <th>...</th>\n",
              "      <td>...</td>\n",
              "      <td>...</td>\n",
              "      <td>...</td>\n",
              "      <td>...</td>\n",
              "      <td>...</td>\n",
              "    </tr>\n",
              "    <tr>\n",
              "      <th>Harry_Robots</th>\n",
              "      <td>Renton, WA</td>\n",
              "      <td>RT @r_frojd: It's all about the details! 😃\\nTe...</td>\n",
              "      <td>2021-01-10 05:38:30</td>\n",
              "      <td>NaN</td>\n",
              "      <td>670</td>\n",
              "    </tr>\n",
              "    <tr>\n",
              "      <th>CPR_India</th>\n",
              "      <td>New Delhi</td>\n",
              "      <td>As #Quad prepares to meet the Chinese challeng...</td>\n",
              "      <td>2021-01-10 07:30:00</td>\n",
              "      <td>NaN</td>\n",
              "      <td>671</td>\n",
              "    </tr>\n",
              "    <tr>\n",
              "      <th>Resort_Skelin</th>\n",
              "      <td>Hrvatska</td>\n",
              "      <td>Every team is different. Let's create a perfec...</td>\n",
              "      <td>2021-01-10 07:31:08</td>\n",
              "      <td>NaN</td>\n",
              "      <td>672</td>\n",
              "    </tr>\n",
              "    <tr>\n",
              "      <th>KBhairava1</th>\n",
              "      <td>NaN</td>\n",
              "      <td>This here is very tricky.. \\nYes It's true Aus...</td>\n",
              "      <td>2021-01-10 07:39:52</td>\n",
              "      <td>NaN</td>\n",
              "      <td>673</td>\n",
              "    </tr>\n",
              "    <tr>\n",
              "      <th>Deepakk79951168</th>\n",
              "      <td>Deoghar, Jharkhand</td>\n",
              "      <td>RT @CPR_India: As #Quad prepares to meet the C...</td>\n",
              "      <td>2021-01-10 07:52:47</td>\n",
              "      <td>NaN</td>\n",
              "      <td>674</td>\n",
              "    </tr>\n",
              "  </tbody>\n",
              "</table>\n",
              "<p>674 rows × 5 columns</p>\n",
              "</div>"
            ],
            "text/plain": [
              "                           location  ... index_col\n",
              "user                                 ...          \n",
              "TV9Bharatvarsh         Noida, India  ...         1\n",
              "TV9Bharatvarsh         Noida, India  ...         2\n",
              "TV9Bharatvarsh         Noida, India  ...         3\n",
              "TV9Bharatvarsh         Noida, India  ...         4\n",
              "TV9Bharatvarsh         Noida, India  ...         5\n",
              "...                             ...  ...       ...\n",
              "Harry_Robots             Renton, WA  ...       670\n",
              "CPR_India                 New Delhi  ...       671\n",
              "Resort_Skelin              Hrvatska  ...       672\n",
              "KBhairava1                      NaN  ...       673\n",
              "Deepakk79951168  Deoghar, Jharkhand  ...       674\n",
              "\n",
              "[674 rows x 5 columns]"
            ]
          },
          "metadata": {
            "tags": []
          },
          "execution_count": 11
        }
      ]
    },
    {
      "cell_type": "code",
      "metadata": {
        "colab": {
          "base_uri": "https://localhost:8080/",
          "height": 616
        },
        "id": "1pLTPLN4nVXr",
        "outputId": "fbbcd34c-8d3a-4074-ebe1-b8ba9c260013"
      },
      "source": [
        "dfja"
      ],
      "execution_count": null,
      "outputs": [
        {
          "output_type": "execute_result",
          "data": {
            "text/html": [
              "<div>\n",
              "<style scoped>\n",
              "    .dataframe tbody tr th:only-of-type {\n",
              "        vertical-align: middle;\n",
              "    }\n",
              "\n",
              "    .dataframe tbody tr th {\n",
              "        vertical-align: top;\n",
              "    }\n",
              "\n",
              "    .dataframe thead th {\n",
              "        text-align: right;\n",
              "    }\n",
              "</style>\n",
              "<table border=\"1\" class=\"dataframe\">\n",
              "  <thead>\n",
              "    <tr style=\"text-align: right;\">\n",
              "      <th></th>\n",
              "      <th>location</th>\n",
              "      <th>tweet</th>\n",
              "      <th>Date</th>\n",
              "      <th>Tweet Coordinates</th>\n",
              "      <th>index_col</th>\n",
              "    </tr>\n",
              "    <tr>\n",
              "      <th>user</th>\n",
              "      <th></th>\n",
              "      <th></th>\n",
              "      <th></th>\n",
              "      <th></th>\n",
              "      <th></th>\n",
              "    </tr>\n",
              "  </thead>\n",
              "  <tbody>\n",
              "    <tr>\n",
              "      <th>Ln__o0</th>\n",
              "      <td>ゲームしてる人だけᔦꙬᔨ</td>\n",
              "      <td>@yuk1dqma_quad 私の2リグか4リグ更新してもろて🥺</td>\n",
              "      <td>2020-11-30 15:03:14</td>\n",
              "      <td>NaN</td>\n",
              "      <td>1</td>\n",
              "    </tr>\n",
              "    <tr>\n",
              "      <th>QUad_R_ANgle</th>\n",
              "      <td>///りがくぶ・くりかえす・ふじまめ ←一言メッセージ</td>\n",
              "      <td>RT @samemizu: ゲーム開発初めて6か月、ついにアプリをリリース出来ました🎉\\n『...</td>\n",
              "      <td>2020-11-30 15:03:40</td>\n",
              "      <td>NaN</td>\n",
              "      <td>2</td>\n",
              "    </tr>\n",
              "    <tr>\n",
              "      <th>QUad_R_ANgle</th>\n",
              "      <td>///りがくぶ・くりかえす・ふじまめ ←一言メッセージ</td>\n",
              "      <td>今日からペンパアドベントか</td>\n",
              "      <td>2020-11-30 15:04:40</td>\n",
              "      <td>NaN</td>\n",
              "      <td>3</td>\n",
              "    </tr>\n",
              "    <tr>\n",
              "      <th>hisakdan4</th>\n",
              "      <td>.gif</td>\n",
              "      <td>キーボード足で踏んでSEGAをQuadする動画めっちゃ見たいですね</td>\n",
              "      <td>2020-11-30 15:07:34</td>\n",
              "      <td>NaN</td>\n",
              "      <td>4</td>\n",
              "    </tr>\n",
              "    <tr>\n",
              "      <th>yuk1dqma_quad</th>\n",
              "      <td>クアホしか勝たん♡</td>\n",
              "      <td>@Ln__o0 任せてください💪</td>\n",
              "      <td>2020-11-30 15:08:46</td>\n",
              "      <td>NaN</td>\n",
              "      <td>5</td>\n",
              "    </tr>\n",
              "    <tr>\n",
              "      <th>...</th>\n",
              "      <td>...</td>\n",
              "      <td>...</td>\n",
              "      <td>...</td>\n",
              "      <td>...</td>\n",
              "      <td>...</td>\n",
              "    </tr>\n",
              "    <tr>\n",
              "      <th>riekohayakawa</th>\n",
              "      <td>Pacific-NZ-Kyoto</td>\n",
              "      <td>＜インドとオセアニア　可能性と機会 ＞クレオ・パスカルとファカファヌア卿 - インド太平洋研...</td>\n",
              "      <td>2021-01-09 21:49:14</td>\n",
              "      <td>NaN</td>\n",
              "      <td>4624</td>\n",
              "    </tr>\n",
              "    <tr>\n",
              "      <th>LesFW7SuraWxotB</th>\n",
              "      <td>［呪い返し］</td>\n",
              "      <td>RT @riekohayakawa: ＜インドとオセアニア　可能性と機会 ＞クレオ・パスカル...</td>\n",
              "      <td>2021-01-09 21:56:10</td>\n",
              "      <td>NaN</td>\n",
              "      <td>4625</td>\n",
              "    </tr>\n",
              "    <tr>\n",
              "      <th>riuemonn</th>\n",
              "      <td>２４時間ついった監視業(ﾟσ ﾟ) ﾎｼﾞﾎｼﾞ</td>\n",
              "      <td>RT @riekohayakawa: ＜インドとオセアニア　可能性と機会 ＞クレオ・パスカル...</td>\n",
              "      <td>2021-01-09 22:28:59</td>\n",
              "      <td>NaN</td>\n",
              "      <td>4626</td>\n",
              "    </tr>\n",
              "    <tr>\n",
              "      <th>FumiNozoe</th>\n",
              "      <td>NaN</td>\n",
              "      <td>ルールに基づいたインド太平洋戦略というならディエゴガルシアからはじめよと。たしかに民主主義や...</td>\n",
              "      <td>2021-01-10 02:59:11</td>\n",
              "      <td>NaN</td>\n",
              "      <td>4627</td>\n",
              "    </tr>\n",
              "    <tr>\n",
              "      <th>sharkisamazing</th>\n",
              "      <td>NaN</td>\n",
              "      <td>・レモンザメ（全長:3.8mまで 生息地:インド太平洋の熱帯域）（Sicklefin Lem...</td>\n",
              "      <td>2021-01-10 04:54:34</td>\n",
              "      <td>NaN</td>\n",
              "      <td>4628</td>\n",
              "    </tr>\n",
              "  </tbody>\n",
              "</table>\n",
              "<p>4628 rows × 5 columns</p>\n",
              "</div>"
            ],
            "text/plain": [
              "                                    location  ... index_col\n",
              "user                                          ...          \n",
              "Ln__o0                          ゲームしてる人だけᔦꙬᔨ  ...         1\n",
              "QUad_R_ANgle     ///りがくぶ・くりかえす・ふじまめ ←一言メッセージ  ...         2\n",
              "QUad_R_ANgle     ///りがくぶ・くりかえす・ふじまめ ←一言メッセージ  ...         3\n",
              "hisakdan4                               .gif  ...         4\n",
              "yuk1dqma_quad                      クアホしか勝たん♡  ...         5\n",
              "...                                      ...  ...       ...\n",
              "riekohayakawa               Pacific-NZ-Kyoto  ...      4624\n",
              "LesFW7SuraWxotB                       ［呪い返し］  ...      4625\n",
              "riuemonn            ２４時間ついった監視業(ﾟσ ﾟ) ﾎｼﾞﾎｼﾞ  ...      4626\n",
              "FumiNozoe                                NaN  ...      4627\n",
              "sharkisamazing                           NaN  ...      4628\n",
              "\n",
              "[4628 rows x 5 columns]"
            ]
          },
          "metadata": {
            "tags": []
          },
          "execution_count": 12
        }
      ]
    },
    {
      "cell_type": "code",
      "metadata": {
        "colab": {
          "base_uri": "https://localhost:8080/"
        },
        "id": "r44GoOem6c4T",
        "outputId": "beb7e66f-a00a-479e-ab06-40453b19770a"
      },
      "source": [
        "cols = list(df.columns.values)\n",
        "cols"
      ],
      "execution_count": null,
      "outputs": [
        {
          "output_type": "execute_result",
          "data": {
            "text/plain": [
              "['location', 'tweet', 'Date', 'Tweet Coordinates', 'index_col']"
            ]
          },
          "metadata": {
            "tags": []
          },
          "execution_count": 23
        }
      ]
    },
    {
      "cell_type": "code",
      "metadata": {
        "colab": {
          "base_uri": "https://localhost:8080/",
          "height": 431
        },
        "id": "pXz8-5uG6kpz",
        "outputId": "d57f3327-6006-4e2c-9c51-c2d8ef639703"
      },
      "source": [
        "df=df[[ 'index_col','location', 'tweet', 'Date', 'Tweet Coordinates']]\n",
        "dfhi=dfhi[[ 'index_col','location', 'tweet', 'Date', 'Tweet Coordinates']]\n",
        "dfja=dfja[[ 'index_col','location', 'tweet', 'Date', 'Tweet Coordinates']]\n",
        "df"
      ],
      "execution_count": null,
      "outputs": [
        {
          "output_type": "execute_result",
          "data": {
            "text/html": [
              "<div>\n",
              "<style scoped>\n",
              "    .dataframe tbody tr th:only-of-type {\n",
              "        vertical-align: middle;\n",
              "    }\n",
              "\n",
              "    .dataframe tbody tr th {\n",
              "        vertical-align: top;\n",
              "    }\n",
              "\n",
              "    .dataframe thead th {\n",
              "        text-align: right;\n",
              "    }\n",
              "</style>\n",
              "<table border=\"1\" class=\"dataframe\">\n",
              "  <thead>\n",
              "    <tr style=\"text-align: right;\">\n",
              "      <th></th>\n",
              "      <th>index_col</th>\n",
              "      <th>location</th>\n",
              "      <th>tweet</th>\n",
              "      <th>Date</th>\n",
              "      <th>Tweet Coordinates</th>\n",
              "    </tr>\n",
              "    <tr>\n",
              "      <th>user</th>\n",
              "      <th></th>\n",
              "      <th></th>\n",
              "      <th></th>\n",
              "      <th></th>\n",
              "      <th></th>\n",
              "    </tr>\n",
              "  </thead>\n",
              "  <tbody>\n",
              "    <tr>\n",
              "      <th>jagadishrjain</th>\n",
              "      <td>1</td>\n",
              "      <td>Hyderabad</td>\n",
              "      <td>RT @RRRameshRRR: 50% of the #Quad (Japan &amp;amp;...</td>\n",
              "      <td>2020-11-15 09:00:05</td>\n",
              "      <td>NaN</td>\n",
              "    </tr>\n",
              "    <tr>\n",
              "      <th>hellfire_81</th>\n",
              "      <td>2</td>\n",
              "      <td>NaN</td>\n",
              "      <td>Cool.\\n\\n#Quad (riplegic) military grouping 🙄 ...</td>\n",
              "      <td>2020-11-15 09:09:46</td>\n",
              "      <td>NaN</td>\n",
              "    </tr>\n",
              "    <tr>\n",
              "      <th>Savitri4Ever</th>\n",
              "      <td>3</td>\n",
              "      <td>NaN</td>\n",
              "      <td>RT @hellfire_81: Cool.\\n\\n#Quad (riplegic) mil...</td>\n",
              "      <td>2020-11-15 09:19:10</td>\n",
              "      <td>NaN</td>\n",
              "    </tr>\n",
              "    <tr>\n",
              "      <th>orfonline</th>\n",
              "      <td>4</td>\n",
              "      <td>India</td>\n",
              "      <td>The creation of the #Quad — with implications ...</td>\n",
              "      <td>2020-11-15 09:25:00</td>\n",
              "      <td>NaN</td>\n",
              "    </tr>\n",
              "    <tr>\n",
              "      <th>InsightGL</th>\n",
              "      <td>5</td>\n",
              "      <td>NaN</td>\n",
              "      <td>RT @asthana_shashi: #Jaishankar attends East A...</td>\n",
              "      <td>2020-11-15 09:36:43</td>\n",
              "      <td>NaN</td>\n",
              "    </tr>\n",
              "    <tr>\n",
              "      <th>...</th>\n",
              "      <td>...</td>\n",
              "      <td>...</td>\n",
              "      <td>...</td>\n",
              "      <td>...</td>\n",
              "      <td>...</td>\n",
              "    </tr>\n",
              "    <tr>\n",
              "      <th>RamKuma19784093</th>\n",
              "      <td>29495</td>\n",
              "      <td>Puducherry</td>\n",
              "      <td>India, France discuss counter-terrorism, coope...</td>\n",
              "      <td>2021-01-10 06:52:00</td>\n",
              "      <td>NaN</td>\n",
              "    </tr>\n",
              "    <tr>\n",
              "      <th>CPR_India</th>\n",
              "      <td>29496</td>\n",
              "      <td>New Delhi</td>\n",
              "      <td>As #Quad prepares to meet the Chinese challeng...</td>\n",
              "      <td>2021-01-10 07:30:00</td>\n",
              "      <td>NaN</td>\n",
              "    </tr>\n",
              "    <tr>\n",
              "      <th>Resort_Skelin</th>\n",
              "      <td>29497</td>\n",
              "      <td>Hrvatska</td>\n",
              "      <td>Every team is different. Let's create a perfec...</td>\n",
              "      <td>2021-01-10 07:31:08</td>\n",
              "      <td>NaN</td>\n",
              "    </tr>\n",
              "    <tr>\n",
              "      <th>KBhairava1</th>\n",
              "      <td>29498</td>\n",
              "      <td>NaN</td>\n",
              "      <td>This here is very tricky.. \\nYes It's true Aus...</td>\n",
              "      <td>2021-01-10 07:39:52</td>\n",
              "      <td>NaN</td>\n",
              "    </tr>\n",
              "    <tr>\n",
              "      <th>Deepakk79951168</th>\n",
              "      <td>29499</td>\n",
              "      <td>Deoghar, Jharkhand</td>\n",
              "      <td>RT @CPR_India: As #Quad prepares to meet the C...</td>\n",
              "      <td>2021-01-10 07:52:47</td>\n",
              "      <td>NaN</td>\n",
              "    </tr>\n",
              "  </tbody>\n",
              "</table>\n",
              "<p>29499 rows × 5 columns</p>\n",
              "</div>"
            ],
            "text/plain": [
              "                 index_col  ... Tweet Coordinates\n",
              "user                        ...                  \n",
              "jagadishrjain            1  ...               NaN\n",
              "hellfire_81              2  ...               NaN\n",
              "Savitri4Ever             3  ...               NaN\n",
              "orfonline                4  ...               NaN\n",
              "InsightGL                5  ...               NaN\n",
              "...                    ...  ...               ...\n",
              "RamKuma19784093      29495  ...               NaN\n",
              "CPR_India            29496  ...               NaN\n",
              "Resort_Skelin        29497  ...               NaN\n",
              "KBhairava1           29498  ...               NaN\n",
              "Deepakk79951168      29499  ...               NaN\n",
              "\n",
              "[29499 rows x 5 columns]"
            ]
          },
          "metadata": {
            "tags": []
          },
          "execution_count": 24
        }
      ]
    },
    {
      "cell_type": "code",
      "metadata": {
        "id": "1K68PDLC8ayq"
      },
      "source": [
        "df=df.drop_duplicates(['tweet'])\r\n",
        "dfhi=dfhi.drop_duplicates(['tweet'])\r\n",
        "dfja=dfja.drop_duplicates(['tweet'])"
      ],
      "execution_count": null,
      "outputs": []
    },
    {
      "cell_type": "code",
      "metadata": {
        "colab": {
          "base_uri": "https://localhost:8080/",
          "height": 431
        },
        "id": "vLXVDzsUIe40",
        "outputId": "620c4c12-64e0-4044-88ba-f48f3f78716c"
      },
      "source": [
        "df['index_col'] = range(1, len(df) + 1)\n",
        "dfhi['index_col'] = range(1, len(dfhi) + 1)\n",
        "dfja['index_col'] = range(1, len(dfja) + 1)\n",
        "df"
      ],
      "execution_count": null,
      "outputs": [
        {
          "output_type": "execute_result",
          "data": {
            "text/html": [
              "<div>\n",
              "<style scoped>\n",
              "    .dataframe tbody tr th:only-of-type {\n",
              "        vertical-align: middle;\n",
              "    }\n",
              "\n",
              "    .dataframe tbody tr th {\n",
              "        vertical-align: top;\n",
              "    }\n",
              "\n",
              "    .dataframe thead th {\n",
              "        text-align: right;\n",
              "    }\n",
              "</style>\n",
              "<table border=\"1\" class=\"dataframe\">\n",
              "  <thead>\n",
              "    <tr style=\"text-align: right;\">\n",
              "      <th></th>\n",
              "      <th>index_col</th>\n",
              "      <th>location</th>\n",
              "      <th>tweet</th>\n",
              "      <th>Date</th>\n",
              "      <th>Tweet Coordinates</th>\n",
              "    </tr>\n",
              "    <tr>\n",
              "      <th>user</th>\n",
              "      <th></th>\n",
              "      <th></th>\n",
              "      <th></th>\n",
              "      <th></th>\n",
              "      <th></th>\n",
              "    </tr>\n",
              "  </thead>\n",
              "  <tbody>\n",
              "    <tr>\n",
              "      <th>jagadishrjain</th>\n",
              "      <td>1</td>\n",
              "      <td>Hyderabad</td>\n",
              "      <td>RT @RRRameshRRR: 50% of the #Quad (Japan &amp;amp;...</td>\n",
              "      <td>2020-11-15 09:00:05</td>\n",
              "      <td>NaN</td>\n",
              "    </tr>\n",
              "    <tr>\n",
              "      <th>hellfire_81</th>\n",
              "      <td>2</td>\n",
              "      <td>NaN</td>\n",
              "      <td>Cool.\\n\\n#Quad (riplegic) military grouping 🙄 ...</td>\n",
              "      <td>2020-11-15 09:09:46</td>\n",
              "      <td>NaN</td>\n",
              "    </tr>\n",
              "    <tr>\n",
              "      <th>Savitri4Ever</th>\n",
              "      <td>3</td>\n",
              "      <td>NaN</td>\n",
              "      <td>RT @hellfire_81: Cool.\\n\\n#Quad (riplegic) mil...</td>\n",
              "      <td>2020-11-15 09:19:10</td>\n",
              "      <td>NaN</td>\n",
              "    </tr>\n",
              "    <tr>\n",
              "      <th>orfonline</th>\n",
              "      <td>4</td>\n",
              "      <td>India</td>\n",
              "      <td>The creation of the #Quad — with implications ...</td>\n",
              "      <td>2020-11-15 09:25:00</td>\n",
              "      <td>NaN</td>\n",
              "    </tr>\n",
              "    <tr>\n",
              "      <th>InsightGL</th>\n",
              "      <td>5</td>\n",
              "      <td>NaN</td>\n",
              "      <td>RT @asthana_shashi: #Jaishankar attends East A...</td>\n",
              "      <td>2020-11-15 09:36:43</td>\n",
              "      <td>NaN</td>\n",
              "    </tr>\n",
              "    <tr>\n",
              "      <th>...</th>\n",
              "      <td>...</td>\n",
              "      <td>...</td>\n",
              "      <td>...</td>\n",
              "      <td>...</td>\n",
              "      <td>...</td>\n",
              "    </tr>\n",
              "    <tr>\n",
              "      <th>RamKuma19784093</th>\n",
              "      <td>29495</td>\n",
              "      <td>Puducherry</td>\n",
              "      <td>India, France discuss counter-terrorism, coope...</td>\n",
              "      <td>2021-01-10 06:52:00</td>\n",
              "      <td>NaN</td>\n",
              "    </tr>\n",
              "    <tr>\n",
              "      <th>CPR_India</th>\n",
              "      <td>29496</td>\n",
              "      <td>New Delhi</td>\n",
              "      <td>As #Quad prepares to meet the Chinese challeng...</td>\n",
              "      <td>2021-01-10 07:30:00</td>\n",
              "      <td>NaN</td>\n",
              "    </tr>\n",
              "    <tr>\n",
              "      <th>Resort_Skelin</th>\n",
              "      <td>29497</td>\n",
              "      <td>Hrvatska</td>\n",
              "      <td>Every team is different. Let's create a perfec...</td>\n",
              "      <td>2021-01-10 07:31:08</td>\n",
              "      <td>NaN</td>\n",
              "    </tr>\n",
              "    <tr>\n",
              "      <th>KBhairava1</th>\n",
              "      <td>29498</td>\n",
              "      <td>NaN</td>\n",
              "      <td>This here is very tricky.. \\nYes It's true Aus...</td>\n",
              "      <td>2021-01-10 07:39:52</td>\n",
              "      <td>NaN</td>\n",
              "    </tr>\n",
              "    <tr>\n",
              "      <th>Deepakk79951168</th>\n",
              "      <td>29499</td>\n",
              "      <td>Deoghar, Jharkhand</td>\n",
              "      <td>RT @CPR_India: As #Quad prepares to meet the C...</td>\n",
              "      <td>2021-01-10 07:52:47</td>\n",
              "      <td>NaN</td>\n",
              "    </tr>\n",
              "  </tbody>\n",
              "</table>\n",
              "<p>29499 rows × 5 columns</p>\n",
              "</div>"
            ],
            "text/plain": [
              "                 index_col  ... Tweet Coordinates\n",
              "user                        ...                  \n",
              "jagadishrjain            1  ...               NaN\n",
              "hellfire_81              2  ...               NaN\n",
              "Savitri4Ever             3  ...               NaN\n",
              "orfonline                4  ...               NaN\n",
              "InsightGL                5  ...               NaN\n",
              "...                    ...  ...               ...\n",
              "RamKuma19784093      29495  ...               NaN\n",
              "CPR_India            29496  ...               NaN\n",
              "Resort_Skelin        29497  ...               NaN\n",
              "KBhairava1           29498  ...               NaN\n",
              "Deepakk79951168      29499  ...               NaN\n",
              "\n",
              "[29499 rows x 5 columns]"
            ]
          },
          "metadata": {
            "tags": []
          },
          "execution_count": 25
        }
      ]
    },
    {
      "cell_type": "code",
      "metadata": {
        "colab": {
          "base_uri": "https://localhost:8080/",
          "height": 431
        },
        "id": "c7l2-VjrjhdF",
        "outputId": "953ddfd5-231f-4221-fc5a-5b192c921210"
      },
      "source": [
        "dfhi"
      ],
      "execution_count": null,
      "outputs": [
        {
          "output_type": "execute_result",
          "data": {
            "text/html": [
              "<div>\n",
              "<style scoped>\n",
              "    .dataframe tbody tr th:only-of-type {\n",
              "        vertical-align: middle;\n",
              "    }\n",
              "\n",
              "    .dataframe tbody tr th {\n",
              "        vertical-align: top;\n",
              "    }\n",
              "\n",
              "    .dataframe thead th {\n",
              "        text-align: right;\n",
              "    }\n",
              "</style>\n",
              "<table border=\"1\" class=\"dataframe\">\n",
              "  <thead>\n",
              "    <tr style=\"text-align: right;\">\n",
              "      <th></th>\n",
              "      <th>index_col</th>\n",
              "      <th>location</th>\n",
              "      <th>tweet</th>\n",
              "      <th>Date</th>\n",
              "      <th>Tweet Coordinates</th>\n",
              "    </tr>\n",
              "    <tr>\n",
              "      <th>user</th>\n",
              "      <th></th>\n",
              "      <th></th>\n",
              "      <th></th>\n",
              "      <th></th>\n",
              "      <th></th>\n",
              "    </tr>\n",
              "  </thead>\n",
              "  <tbody>\n",
              "    <tr>\n",
              "      <th>TV9Bharatvarsh</th>\n",
              "      <td>1</td>\n",
              "      <td>Noida, India</td>\n",
              "      <td>अरब सागर में मालाबार युद्धाभ्यास का दूसरा फेज ...</td>\n",
              "      <td>2020-11-17 03:06:00</td>\n",
              "      <td>NaN</td>\n",
              "    </tr>\n",
              "    <tr>\n",
              "      <th>TV9Bharatvarsh</th>\n",
              "      <td>2</td>\n",
              "      <td>Noida, India</td>\n",
              "      <td>देखिए देश-दुनिया की हर बड़ी खबर, लोकल To ग्लोब...</td>\n",
              "      <td>2020-11-17 03:19:32</td>\n",
              "      <td>NaN</td>\n",
              "    </tr>\n",
              "    <tr>\n",
              "      <th>TV9Bharatvarsh</th>\n",
              "      <td>3</td>\n",
              "      <td>Noida, India</td>\n",
              "      <td>समंदर में चीन के खिलाफ #QUAD देशों की तैयारी.....</td>\n",
              "      <td>2020-11-17 07:00:39</td>\n",
              "      <td>NaN</td>\n",
              "    </tr>\n",
              "    <tr>\n",
              "      <th>SDeviputra</th>\n",
              "      <td>4</td>\n",
              "      <td>Jodhpur, India</td>\n",
              "      <td>RT @TV9Bharatvarsh: अरब सागर में मालाबार युद्ध...</td>\n",
              "      <td>2020-11-17 10:06:59</td>\n",
              "      <td>NaN</td>\n",
              "    </tr>\n",
              "    <tr>\n",
              "      <th>TV9Bharatvarsh</th>\n",
              "      <td>5</td>\n",
              "      <td>Noida, India</td>\n",
              "      <td>मालाबार एक्सरसाइज से चीन की हालात खराब...देखिए...</td>\n",
              "      <td>2020-11-17 11:24:37</td>\n",
              "      <td>NaN</td>\n",
              "    </tr>\n",
              "    <tr>\n",
              "      <th>...</th>\n",
              "      <td>...</td>\n",
              "      <td>...</td>\n",
              "      <td>...</td>\n",
              "      <td>...</td>\n",
              "      <td>...</td>\n",
              "    </tr>\n",
              "    <tr>\n",
              "      <th>darking2jarlie</th>\n",
              "      <td>341</td>\n",
              "      <td>Space</td>\n",
              "      <td>@SecPompeo for 2024🇺🇲🎃\\nThis man is great🙏🏽 th...</td>\n",
              "      <td>2021-01-10 04:04:02</td>\n",
              "      <td>NaN</td>\n",
              "    </tr>\n",
              "    <tr>\n",
              "      <th>CPR_India</th>\n",
              "      <td>342</td>\n",
              "      <td>New Delhi</td>\n",
              "      <td>As #Quad prepares to meet the Chinese challeng...</td>\n",
              "      <td>2021-01-10 07:30:00</td>\n",
              "      <td>NaN</td>\n",
              "    </tr>\n",
              "    <tr>\n",
              "      <th>Resort_Skelin</th>\n",
              "      <td>343</td>\n",
              "      <td>Hrvatska</td>\n",
              "      <td>Every team is different. Let's create a perfec...</td>\n",
              "      <td>2021-01-10 07:31:08</td>\n",
              "      <td>NaN</td>\n",
              "    </tr>\n",
              "    <tr>\n",
              "      <th>KBhairava1</th>\n",
              "      <td>344</td>\n",
              "      <td>NaN</td>\n",
              "      <td>This here is very tricky.. \\nYes It's true Aus...</td>\n",
              "      <td>2021-01-10 07:39:52</td>\n",
              "      <td>NaN</td>\n",
              "    </tr>\n",
              "    <tr>\n",
              "      <th>Deepakk79951168</th>\n",
              "      <td>345</td>\n",
              "      <td>Deoghar, Jharkhand</td>\n",
              "      <td>RT @CPR_India: As #Quad prepares to meet the C...</td>\n",
              "      <td>2021-01-10 07:52:47</td>\n",
              "      <td>NaN</td>\n",
              "    </tr>\n",
              "  </tbody>\n",
              "</table>\n",
              "<p>345 rows × 5 columns</p>\n",
              "</div>"
            ],
            "text/plain": [
              "                 index_col  ... Tweet Coordinates\n",
              "user                        ...                  \n",
              "TV9Bharatvarsh           1  ...               NaN\n",
              "TV9Bharatvarsh           2  ...               NaN\n",
              "TV9Bharatvarsh           3  ...               NaN\n",
              "SDeviputra               4  ...               NaN\n",
              "TV9Bharatvarsh           5  ...               NaN\n",
              "...                    ...  ...               ...\n",
              "darking2jarlie         341  ...               NaN\n",
              "CPR_India              342  ...               NaN\n",
              "Resort_Skelin          343  ...               NaN\n",
              "KBhairava1             344  ...               NaN\n",
              "Deepakk79951168        345  ...               NaN\n",
              "\n",
              "[345 rows x 5 columns]"
            ]
          },
          "metadata": {
            "tags": []
          },
          "execution_count": 16
        }
      ]
    },
    {
      "cell_type": "code",
      "metadata": {
        "colab": {
          "base_uri": "https://localhost:8080/",
          "height": 969
        },
        "id": "9tro4M6ynmbr",
        "outputId": "68a238c8-0df6-4d2d-c02c-ac7423f45fd7"
      },
      "source": [
        "dfja"
      ],
      "execution_count": null,
      "outputs": [
        {
          "output_type": "execute_result",
          "data": {
            "text/html": [
              "<div>\n",
              "<style scoped>\n",
              "    .dataframe tbody tr th:only-of-type {\n",
              "        vertical-align: middle;\n",
              "    }\n",
              "\n",
              "    .dataframe tbody tr th {\n",
              "        vertical-align: top;\n",
              "    }\n",
              "\n",
              "    .dataframe thead th {\n",
              "        text-align: right;\n",
              "    }\n",
              "</style>\n",
              "<table border=\"1\" class=\"dataframe\">\n",
              "  <thead>\n",
              "    <tr style=\"text-align: right;\">\n",
              "      <th></th>\n",
              "      <th>index_col</th>\n",
              "      <th>location</th>\n",
              "      <th>tweet</th>\n",
              "      <th>Date</th>\n",
              "      <th>Tweet Coordinates</th>\n",
              "    </tr>\n",
              "    <tr>\n",
              "      <th>user</th>\n",
              "      <th></th>\n",
              "      <th></th>\n",
              "      <th></th>\n",
              "      <th></th>\n",
              "      <th></th>\n",
              "    </tr>\n",
              "  </thead>\n",
              "  <tbody>\n",
              "    <tr>\n",
              "      <th>Ln__o0</th>\n",
              "      <td>1</td>\n",
              "      <td>ゲームしてる人だけᔦꙬᔨ</td>\n",
              "      <td>@yuk1dqma_quad 私の2リグか4リグ更新してもろて🥺</td>\n",
              "      <td>2020-11-30 15:03:14</td>\n",
              "      <td>NaN</td>\n",
              "    </tr>\n",
              "    <tr>\n",
              "      <th>QUad_R_ANgle</th>\n",
              "      <td>2</td>\n",
              "      <td>///りがくぶ・くりかえす・ふじまめ ←一言メッセージ</td>\n",
              "      <td>RT @samemizu: ゲーム開発初めて6か月、ついにアプリをリリース出来ました🎉\\n『...</td>\n",
              "      <td>2020-11-30 15:03:40</td>\n",
              "      <td>NaN</td>\n",
              "    </tr>\n",
              "    <tr>\n",
              "      <th>QUad_R_ANgle</th>\n",
              "      <td>3</td>\n",
              "      <td>///りがくぶ・くりかえす・ふじまめ ←一言メッセージ</td>\n",
              "      <td>今日からペンパアドベントか</td>\n",
              "      <td>2020-11-30 15:04:40</td>\n",
              "      <td>NaN</td>\n",
              "    </tr>\n",
              "    <tr>\n",
              "      <th>hisakdan4</th>\n",
              "      <td>4</td>\n",
              "      <td>.gif</td>\n",
              "      <td>キーボード足で踏んでSEGAをQuadする動画めっちゃ見たいですね</td>\n",
              "      <td>2020-11-30 15:07:34</td>\n",
              "      <td>NaN</td>\n",
              "    </tr>\n",
              "    <tr>\n",
              "      <th>yuk1dqma_quad</th>\n",
              "      <td>5</td>\n",
              "      <td>クアホしか勝たん♡</td>\n",
              "      <td>@Ln__o0 任せてください💪</td>\n",
              "      <td>2020-11-30 15:08:46</td>\n",
              "      <td>NaN</td>\n",
              "    </tr>\n",
              "    <tr>\n",
              "      <th>...</th>\n",
              "      <td>...</td>\n",
              "      <td>...</td>\n",
              "      <td>...</td>\n",
              "      <td>...</td>\n",
              "      <td>...</td>\n",
              "    </tr>\n",
              "    <tr>\n",
              "      <th>Hiromi_HIROSE</th>\n",
              "      <td>2404</td>\n",
              "      <td>NaN</td>\n",
              "      <td>アメリカがインドの新しい大使館の建物の工事を開始。2027年秋に完成する予定。チャナキャプリ...</td>\n",
              "      <td>2021-01-09 12:25:39</td>\n",
              "      <td>NaN</td>\n",
              "    </tr>\n",
              "    <tr>\n",
              "      <th>QJapq2v5xFfgq0h</th>\n",
              "      <td>2405</td>\n",
              "      <td>NaN</td>\n",
              "      <td>RT @Hiromi_HIROSE: アメリカがインドの新しい大使館の建物の工事を開始。20...</td>\n",
              "      <td>2021-01-09 12:30:13</td>\n",
              "      <td>NaN</td>\n",
              "    </tr>\n",
              "    <tr>\n",
              "      <th>riekohayakawa</th>\n",
              "      <td>2406</td>\n",
              "      <td>Pacific-NZ-Kyoto</td>\n",
              "      <td>＜インドとオセアニア　可能性と機会 ＞クレオ・パスカルとファカファヌア卿 - インド太平洋研...</td>\n",
              "      <td>2021-01-09 21:49:14</td>\n",
              "      <td>NaN</td>\n",
              "    </tr>\n",
              "    <tr>\n",
              "      <th>LesFW7SuraWxotB</th>\n",
              "      <td>2407</td>\n",
              "      <td>［呪い返し］</td>\n",
              "      <td>RT @riekohayakawa: ＜インドとオセアニア　可能性と機会 ＞クレオ・パスカル...</td>\n",
              "      <td>2021-01-09 21:56:10</td>\n",
              "      <td>NaN</td>\n",
              "    </tr>\n",
              "    <tr>\n",
              "      <th>FumiNozoe</th>\n",
              "      <td>2408</td>\n",
              "      <td>NaN</td>\n",
              "      <td>ルールに基づいたインド太平洋戦略というならディエゴガルシアからはじめよと。たしかに民主主義や...</td>\n",
              "      <td>2021-01-10 02:59:11</td>\n",
              "      <td>NaN</td>\n",
              "    </tr>\n",
              "  </tbody>\n",
              "</table>\n",
              "<p>2408 rows × 5 columns</p>\n",
              "</div>"
            ],
            "text/plain": [
              "                 index_col  ... Tweet Coordinates\n",
              "user                        ...                  \n",
              "Ln__o0                   1  ...               NaN\n",
              "QUad_R_ANgle             2  ...               NaN\n",
              "QUad_R_ANgle             3  ...               NaN\n",
              "hisakdan4                4  ...               NaN\n",
              "yuk1dqma_quad            5  ...               NaN\n",
              "...                    ...  ...               ...\n",
              "Hiromi_HIROSE         2404  ...               NaN\n",
              "QJapq2v5xFfgq0h       2405  ...               NaN\n",
              "riekohayakawa         2406  ...               NaN\n",
              "LesFW7SuraWxotB       2407  ...               NaN\n",
              "FumiNozoe             2408  ...               NaN\n",
              "\n",
              "[2408 rows x 5 columns]"
            ]
          },
          "metadata": {
            "tags": []
          },
          "execution_count": 18
        }
      ]
    },
    {
      "cell_type": "code",
      "metadata": {
        "colab": {
          "base_uri": "https://localhost:8080/",
          "height": 431
        },
        "id": "4T2G58iA9QiW",
        "outputId": "23451ff7-4f08-4c9c-d83e-857c9b0af53e"
      },
      "source": [
        "#PREPROCESSING OF OBTAINED DATA\n",
        "import re\n",
        "df['tweet']=df['tweet'].apply(lambda x : x.lower())\n",
        "df['tweet']=df['tweet'].apply(lambda x : pp.remove_emails(x))\n",
        "df['tweet']=df['tweet'].apply(lambda x : pp.remove_html_tags(x))\n",
        "df['tweet']=df['tweet'].apply(lambda x : pp.remove_rt(x))\n",
        "df['tweet']=df['tweet'].apply(lambda x : pp.remove_special_chars(x))\n",
        "df['tweet']=df['tweet'].apply(lambda x : pp.remove_urls(x))\n",
        "\n",
        "dfhi['tweet']=dfhi['tweet'].apply(lambda x : x.lower())\n",
        "dfhi['tweet']=dfhi['tweet'].apply(lambda x : pp.remove_emails(x))\n",
        "dfhi['tweet']=dfhi['tweet'].apply(lambda x : pp.remove_html_tags(x))\n",
        "dfhi['tweet']=dfhi['tweet'].apply(lambda x : pp.remove_rt(x))\n",
        "dfhi['tweet']=dfhi['tweet'].apply(lambda x : pp.remove_special_chars(x))\n",
        "dfhi['tweet']=dfhi['tweet'].apply(lambda x : pp.remove_urls(x))\n",
        "\n",
        "dfja['tweet']=dfja['tweet'].apply(lambda x : x.lower())\n",
        "dfja['tweet']=dfja['tweet'].apply(lambda x : pp.remove_emails(x))\n",
        "dfja['tweet']=dfja['tweet'].apply(lambda x : pp.remove_html_tags(x))\n",
        "dfja['tweet']=dfja['tweet'].apply(lambda x : pp.remove_rt(x))\n",
        "dfja['tweet']=dfja['tweet'].apply(lambda x : pp.remove_special_chars(x))\n",
        "dfja['tweet']=dfja['tweet'].apply(lambda x : pp.remove_urls(x))\n",
        "\n",
        "df   "
      ],
      "execution_count": null,
      "outputs": [
        {
          "output_type": "execute_result",
          "data": {
            "text/html": [
              "<div>\n",
              "<style scoped>\n",
              "    .dataframe tbody tr th:only-of-type {\n",
              "        vertical-align: middle;\n",
              "    }\n",
              "\n",
              "    .dataframe tbody tr th {\n",
              "        vertical-align: top;\n",
              "    }\n",
              "\n",
              "    .dataframe thead th {\n",
              "        text-align: right;\n",
              "    }\n",
              "</style>\n",
              "<table border=\"1\" class=\"dataframe\">\n",
              "  <thead>\n",
              "    <tr style=\"text-align: right;\">\n",
              "      <th></th>\n",
              "      <th>index_col</th>\n",
              "      <th>location</th>\n",
              "      <th>tweet</th>\n",
              "      <th>Date</th>\n",
              "      <th>Tweet Coordinates</th>\n",
              "    </tr>\n",
              "    <tr>\n",
              "      <th>user</th>\n",
              "      <th></th>\n",
              "      <th></th>\n",
              "      <th></th>\n",
              "      <th></th>\n",
              "      <th></th>\n",
              "    </tr>\n",
              "  </thead>\n",
              "  <tbody>\n",
              "    <tr>\n",
              "      <th>jagadishrjain</th>\n",
              "      <td>1</td>\n",
              "      <td>Hyderabad</td>\n",
              "      <td>rrrameshrrr 50 of the quad japan australia and...</td>\n",
              "      <td>2020-11-15 09:00:05</td>\n",
              "      <td>NaN</td>\n",
              "    </tr>\n",
              "    <tr>\n",
              "      <th>hellfire_81</th>\n",
              "      <td>2</td>\n",
              "      <td>NaN</td>\n",
              "      <td>coolquad riplegic military grouping httpstcocx...</td>\n",
              "      <td>2020-11-15 09:09:46</td>\n",
              "      <td>NaN</td>\n",
              "    </tr>\n",
              "    <tr>\n",
              "      <th>Savitri4Ever</th>\n",
              "      <td>3</td>\n",
              "      <td>NaN</td>\n",
              "      <td>hellfire_81 coolquad riplegic military groupin...</td>\n",
              "      <td>2020-11-15 09:19:10</td>\n",
              "      <td>NaN</td>\n",
              "    </tr>\n",
              "    <tr>\n",
              "      <th>orfonline</th>\n",
              "      <td>4</td>\n",
              "      <td>India</td>\n",
              "      <td>the creation of the quad with implications for...</td>\n",
              "      <td>2020-11-15 09:25:00</td>\n",
              "      <td>NaN</td>\n",
              "    </tr>\n",
              "    <tr>\n",
              "      <th>InsightGL</th>\n",
              "      <td>5</td>\n",
              "      <td>NaN</td>\n",
              "      <td>asthana_shashi jaishankar attends east asia su...</td>\n",
              "      <td>2020-11-15 09:36:43</td>\n",
              "      <td>NaN</td>\n",
              "    </tr>\n",
              "    <tr>\n",
              "      <th>...</th>\n",
              "      <td>...</td>\n",
              "      <td>...</td>\n",
              "      <td>...</td>\n",
              "      <td>...</td>\n",
              "      <td>...</td>\n",
              "    </tr>\n",
              "    <tr>\n",
              "      <th>RamKuma19784093</th>\n",
              "      <td>29495</td>\n",
              "      <td>Puducherry</td>\n",
              "      <td>india france discuss counterterrorism cooperat...</td>\n",
              "      <td>2021-01-10 06:52:00</td>\n",
              "      <td>NaN</td>\n",
              "    </tr>\n",
              "    <tr>\n",
              "      <th>CPR_India</th>\n",
              "      <td>29496</td>\n",
              "      <td>New Delhi</td>\n",
              "      <td>as quad prepares to meet the chinese challenge...</td>\n",
              "      <td>2021-01-10 07:30:00</td>\n",
              "      <td>NaN</td>\n",
              "    </tr>\n",
              "    <tr>\n",
              "      <th>Resort_Skelin</th>\n",
              "      <td>29497</td>\n",
              "      <td>Hrvatska</td>\n",
              "      <td>every team is different lets create a perfect ...</td>\n",
              "      <td>2021-01-10 07:31:08</td>\n",
              "      <td>NaN</td>\n",
              "    </tr>\n",
              "    <tr>\n",
              "      <th>KBhairava1</th>\n",
              "      <td>29498</td>\n",
              "      <td>NaN</td>\n",
              "      <td>this here is very tricky yes its true aussies ...</td>\n",
              "      <td>2021-01-10 07:39:52</td>\n",
              "      <td>NaN</td>\n",
              "    </tr>\n",
              "    <tr>\n",
              "      <th>Deepakk79951168</th>\n",
              "      <td>29499</td>\n",
              "      <td>Deoghar, Jharkhand</td>\n",
              "      <td>cpr_india as quad prepares to meet the chinese...</td>\n",
              "      <td>2021-01-10 07:52:47</td>\n",
              "      <td>NaN</td>\n",
              "    </tr>\n",
              "  </tbody>\n",
              "</table>\n",
              "<p>29499 rows × 5 columns</p>\n",
              "</div>"
            ],
            "text/plain": [
              "                 index_col  ... Tweet Coordinates\n",
              "user                        ...                  \n",
              "jagadishrjain            1  ...               NaN\n",
              "hellfire_81              2  ...               NaN\n",
              "Savitri4Ever             3  ...               NaN\n",
              "orfonline                4  ...               NaN\n",
              "InsightGL                5  ...               NaN\n",
              "...                    ...  ...               ...\n",
              "RamKuma19784093      29495  ...               NaN\n",
              "CPR_India            29496  ...               NaN\n",
              "Resort_Skelin        29497  ...               NaN\n",
              "KBhairava1           29498  ...               NaN\n",
              "Deepakk79951168      29499  ...               NaN\n",
              "\n",
              "[29499 rows x 5 columns]"
            ]
          },
          "metadata": {
            "tags": []
          },
          "execution_count": 26
        }
      ]
    },
    {
      "cell_type": "code",
      "metadata": {
        "id": "H1oOiNg3NJRE",
        "colab": {
          "base_uri": "https://localhost:8080/",
          "height": 784
        },
        "outputId": "b5ee26b8-3133-400b-86f9-292a6ac982e0"
      },
      "source": [
        "dfhi"
      ],
      "execution_count": null,
      "outputs": [
        {
          "output_type": "execute_result",
          "data": {
            "text/html": [
              "<div>\n",
              "<style scoped>\n",
              "    .dataframe tbody tr th:only-of-type {\n",
              "        vertical-align: middle;\n",
              "    }\n",
              "\n",
              "    .dataframe tbody tr th {\n",
              "        vertical-align: top;\n",
              "    }\n",
              "\n",
              "    .dataframe thead th {\n",
              "        text-align: right;\n",
              "    }\n",
              "</style>\n",
              "<table border=\"1\" class=\"dataframe\">\n",
              "  <thead>\n",
              "    <tr style=\"text-align: right;\">\n",
              "      <th></th>\n",
              "      <th>index_col</th>\n",
              "      <th>location</th>\n",
              "      <th>tweet</th>\n",
              "      <th>Date</th>\n",
              "      <th>Tweet Coordinates</th>\n",
              "    </tr>\n",
              "    <tr>\n",
              "      <th>user</th>\n",
              "      <th></th>\n",
              "      <th></th>\n",
              "      <th></th>\n",
              "      <th></th>\n",
              "      <th></th>\n",
              "    </tr>\n",
              "  </thead>\n",
              "  <tbody>\n",
              "    <tr>\n",
              "      <th>TV9Bharatvarsh</th>\n",
              "      <td>1</td>\n",
              "      <td>Noida, India</td>\n",
              "      <td>अरब सगर म मलबर यदधभयस क दसर फज आज स शर quad दश...</td>\n",
              "      <td>2020-11-17 03:06:00</td>\n",
              "      <td>NaN</td>\n",
              "    </tr>\n",
              "    <tr>\n",
              "      <th>TV9Bharatvarsh</th>\n",
              "      <td>2</td>\n",
              "      <td>Noida, India</td>\n",
              "      <td>दखए दशदनय क हर बड खबर लकल to गलबल top 100 मloc...</td>\n",
              "      <td>2020-11-17 03:19:32</td>\n",
              "      <td>NaN</td>\n",
              "    </tr>\n",
              "    <tr>\n",
              "      <th>TV9Bharatvarsh</th>\n",
              "      <td>3</td>\n",
              "      <td>Noida, India</td>\n",
              "      <td>समदर म चन क खलफ quad दश क तयरthesamirabbas gen...</td>\n",
              "      <td>2020-11-17 07:00:39</td>\n",
              "      <td>NaN</td>\n",
              "    </tr>\n",
              "    <tr>\n",
              "      <th>SDeviputra</th>\n",
              "      <td>4</td>\n",
              "      <td>Jodhpur, India</td>\n",
              "      <td>tv9bharatvarsh अरब सगर म मलबर यदधभयस क दसर फज ...</td>\n",
              "      <td>2020-11-17 10:06:59</td>\n",
              "      <td>NaN</td>\n",
              "    </tr>\n",
              "    <tr>\n",
              "      <th>TV9Bharatvarsh</th>\n",
              "      <td>5</td>\n",
              "      <td>Noida, India</td>\n",
              "      <td>मलबर एकसरसइज स चन क हलत खरबदखए फल फइनलmalabarw...</td>\n",
              "      <td>2020-11-17 11:24:37</td>\n",
              "      <td>NaN</td>\n",
              "    </tr>\n",
              "    <tr>\n",
              "      <th>...</th>\n",
              "      <td>...</td>\n",
              "      <td>...</td>\n",
              "      <td>...</td>\n",
              "      <td>...</td>\n",
              "      <td>...</td>\n",
              "    </tr>\n",
              "    <tr>\n",
              "      <th>darking2jarlie</th>\n",
              "      <td>341</td>\n",
              "      <td>Space</td>\n",
              "      <td>secpompeo for 2024this man is great thxelectio...</td>\n",
              "      <td>2021-01-10 04:04:02</td>\n",
              "      <td>NaN</td>\n",
              "    </tr>\n",
              "    <tr>\n",
              "      <th>CPR_India</th>\n",
              "      <td>342</td>\n",
              "      <td>New Delhi</td>\n",
              "      <td>as quad prepares to meet the chinese challenge...</td>\n",
              "      <td>2021-01-10 07:30:00</td>\n",
              "      <td>NaN</td>\n",
              "    </tr>\n",
              "    <tr>\n",
              "      <th>Resort_Skelin</th>\n",
              "      <td>343</td>\n",
              "      <td>Hrvatska</td>\n",
              "      <td>every team is different lets create a perfect ...</td>\n",
              "      <td>2021-01-10 07:31:08</td>\n",
              "      <td>NaN</td>\n",
              "    </tr>\n",
              "    <tr>\n",
              "      <th>KBhairava1</th>\n",
              "      <td>344</td>\n",
              "      <td>NaN</td>\n",
              "      <td>this here is very tricky yes its true aussies ...</td>\n",
              "      <td>2021-01-10 07:39:52</td>\n",
              "      <td>NaN</td>\n",
              "    </tr>\n",
              "    <tr>\n",
              "      <th>Deepakk79951168</th>\n",
              "      <td>345</td>\n",
              "      <td>Deoghar, Jharkhand</td>\n",
              "      <td>cpr_india as quad prepares to meet the chinese...</td>\n",
              "      <td>2021-01-10 07:52:47</td>\n",
              "      <td>NaN</td>\n",
              "    </tr>\n",
              "  </tbody>\n",
              "</table>\n",
              "<p>345 rows × 5 columns</p>\n",
              "</div>"
            ],
            "text/plain": [
              "                 index_col  ... Tweet Coordinates\n",
              "user                        ...                  \n",
              "TV9Bharatvarsh           1  ...               NaN\n",
              "TV9Bharatvarsh           2  ...               NaN\n",
              "TV9Bharatvarsh           3  ...               NaN\n",
              "SDeviputra               4  ...               NaN\n",
              "TV9Bharatvarsh           5  ...               NaN\n",
              "...                    ...  ...               ...\n",
              "darking2jarlie         341  ...               NaN\n",
              "CPR_India              342  ...               NaN\n",
              "Resort_Skelin          343  ...               NaN\n",
              "KBhairava1             344  ...               NaN\n",
              "Deepakk79951168        345  ...               NaN\n",
              "\n",
              "[345 rows x 5 columns]"
            ]
          },
          "metadata": {
            "tags": []
          },
          "execution_count": 20
        }
      ]
    },
    {
      "cell_type": "code",
      "metadata": {
        "colab": {
          "base_uri": "https://localhost:8080/",
          "height": 969
        },
        "id": "3YvQGdwhOVk_",
        "outputId": "a0c72a2e-70eb-40cf-8916-e815207bec68"
      },
      "source": [
        "dfja"
      ],
      "execution_count": null,
      "outputs": [
        {
          "output_type": "execute_result",
          "data": {
            "text/html": [
              "<div>\n",
              "<style scoped>\n",
              "    .dataframe tbody tr th:only-of-type {\n",
              "        vertical-align: middle;\n",
              "    }\n",
              "\n",
              "    .dataframe tbody tr th {\n",
              "        vertical-align: top;\n",
              "    }\n",
              "\n",
              "    .dataframe thead th {\n",
              "        text-align: right;\n",
              "    }\n",
              "</style>\n",
              "<table border=\"1\" class=\"dataframe\">\n",
              "  <thead>\n",
              "    <tr style=\"text-align: right;\">\n",
              "      <th></th>\n",
              "      <th>index_col</th>\n",
              "      <th>location</th>\n",
              "      <th>tweet</th>\n",
              "      <th>Date</th>\n",
              "      <th>Tweet Coordinates</th>\n",
              "    </tr>\n",
              "    <tr>\n",
              "      <th>user</th>\n",
              "      <th></th>\n",
              "      <th></th>\n",
              "      <th></th>\n",
              "      <th></th>\n",
              "      <th></th>\n",
              "    </tr>\n",
              "  </thead>\n",
              "  <tbody>\n",
              "    <tr>\n",
              "      <th>Ln__o0</th>\n",
              "      <td>1</td>\n",
              "      <td>ゲームしてる人だけᔦꙬᔨ</td>\n",
              "      <td>yuk1dqma_quad 私の2リグか4リグ更新してもろて</td>\n",
              "      <td>2020-11-30 15:03:14</td>\n",
              "      <td>NaN</td>\n",
              "    </tr>\n",
              "    <tr>\n",
              "      <th>QUad_R_ANgle</th>\n",
              "      <td>2</td>\n",
              "      <td>///りがくぶ・くりかえす・ふじまめ ←一言メッセージ</td>\n",
              "      <td>samemizu ゲーム開発初めて6か月ついにアプリをリリース出来ましたくっつきパズル のび...</td>\n",
              "      <td>2020-11-30 15:03:40</td>\n",
              "      <td>NaN</td>\n",
              "    </tr>\n",
              "    <tr>\n",
              "      <th>QUad_R_ANgle</th>\n",
              "      <td>3</td>\n",
              "      <td>///りがくぶ・くりかえす・ふじまめ ←一言メッセージ</td>\n",
              "      <td>今日からペンパアドベントか</td>\n",
              "      <td>2020-11-30 15:04:40</td>\n",
              "      <td>NaN</td>\n",
              "    </tr>\n",
              "    <tr>\n",
              "      <th>hisakdan4</th>\n",
              "      <td>4</td>\n",
              "      <td>.gif</td>\n",
              "      <td>キーボード足で踏んでsegaをquadする動画めっちゃ見たいですね</td>\n",
              "      <td>2020-11-30 15:07:34</td>\n",
              "      <td>NaN</td>\n",
              "    </tr>\n",
              "    <tr>\n",
              "      <th>yuk1dqma_quad</th>\n",
              "      <td>5</td>\n",
              "      <td>クアホしか勝たん♡</td>\n",
              "      <td>ln__o0 任せてください</td>\n",
              "      <td>2020-11-30 15:08:46</td>\n",
              "      <td>NaN</td>\n",
              "    </tr>\n",
              "    <tr>\n",
              "      <th>...</th>\n",
              "      <td>...</td>\n",
              "      <td>...</td>\n",
              "      <td>...</td>\n",
              "      <td>...</td>\n",
              "      <td>...</td>\n",
              "    </tr>\n",
              "    <tr>\n",
              "      <th>Hiromi_HIROSE</th>\n",
              "      <td>2404</td>\n",
              "      <td>NaN</td>\n",
              "      <td>アメリカがインドの新しい大使館の建物の工事を開始2027年秋に完成する予定チャナキャプリ地区...</td>\n",
              "      <td>2021-01-09 12:25:39</td>\n",
              "      <td>NaN</td>\n",
              "    </tr>\n",
              "    <tr>\n",
              "      <th>QJapq2v5xFfgq0h</th>\n",
              "      <td>2405</td>\n",
              "      <td>NaN</td>\n",
              "      <td>hiromi_hirose アメリカがインドの新しい大使館の建物の工事を開始2027年秋に完...</td>\n",
              "      <td>2021-01-09 12:30:13</td>\n",
              "      <td>NaN</td>\n",
              "    </tr>\n",
              "    <tr>\n",
              "      <th>riekohayakawa</th>\n",
              "      <td>2406</td>\n",
              "      <td>Pacific-NZ-Kyoto</td>\n",
              "      <td>インドとオセアニア可能性と機会 クレオパスカルとファカファヌア卿 インド太平洋研究会indo...</td>\n",
              "      <td>2021-01-09 21:49:14</td>\n",
              "      <td>NaN</td>\n",
              "    </tr>\n",
              "    <tr>\n",
              "      <th>LesFW7SuraWxotB</th>\n",
              "      <td>2407</td>\n",
              "      <td>［呪い返し］</td>\n",
              "      <td>riekohayakawa インドとオセアニア可能性と機会 クレオパスカルとファカファヌア卿...</td>\n",
              "      <td>2021-01-09 21:56:10</td>\n",
              "      <td>NaN</td>\n",
              "    </tr>\n",
              "    <tr>\n",
              "      <th>FumiNozoe</th>\n",
              "      <td>2408</td>\n",
              "      <td>NaN</td>\n",
              "      <td>ルールに基づいたインド太平洋戦略というならディエゴガルシアからはじめよとたしかに民主主義や自...</td>\n",
              "      <td>2021-01-10 02:59:11</td>\n",
              "      <td>NaN</td>\n",
              "    </tr>\n",
              "  </tbody>\n",
              "</table>\n",
              "<p>2408 rows × 5 columns</p>\n",
              "</div>"
            ],
            "text/plain": [
              "                 index_col  ... Tweet Coordinates\n",
              "user                        ...                  \n",
              "Ln__o0                   1  ...               NaN\n",
              "QUad_R_ANgle             2  ...               NaN\n",
              "QUad_R_ANgle             3  ...               NaN\n",
              "hisakdan4                4  ...               NaN\n",
              "yuk1dqma_quad            5  ...               NaN\n",
              "...                    ...  ...               ...\n",
              "Hiromi_HIROSE         2404  ...               NaN\n",
              "QJapq2v5xFfgq0h       2405  ...               NaN\n",
              "riekohayakawa         2406  ...               NaN\n",
              "LesFW7SuraWxotB       2407  ...               NaN\n",
              "FumiNozoe             2408  ...               NaN\n",
              "\n",
              "[2408 rows x 5 columns]"
            ]
          },
          "metadata": {
            "tags": []
          },
          "execution_count": 20
        }
      ]
    },
    {
      "cell_type": "code",
      "metadata": {
        "colab": {
          "base_uri": "https://localhost:8080/"
        },
        "id": "JxX7pER6JlcY",
        "outputId": "6ff6b4ea-fc7e-47eb-ea12-484f05a5c7eb"
      },
      "source": [
        "!pip install googletrans==3.1.0a0"
      ],
      "execution_count": null,
      "outputs": [
        {
          "output_type": "stream",
          "text": [
            "Requirement already satisfied: googletrans==3.1.0a0 in /usr/local/lib/python3.6/dist-packages (3.1.0a0)\n",
            "Requirement already satisfied: httpx==0.13.3 in /usr/local/lib/python3.6/dist-packages (from googletrans==3.1.0a0) (0.13.3)\n",
            "Requirement already satisfied: certifi in /usr/local/lib/python3.6/dist-packages (from httpx==0.13.3->googletrans==3.1.0a0) (2020.12.5)\n",
            "Requirement already satisfied: chardet==3.* in /usr/local/lib/python3.6/dist-packages (from httpx==0.13.3->googletrans==3.1.0a0) (3.0.4)\n",
            "Requirement already satisfied: rfc3986<2,>=1.3 in /usr/local/lib/python3.6/dist-packages (from httpx==0.13.3->googletrans==3.1.0a0) (1.4.0)\n",
            "Requirement already satisfied: hstspreload in /usr/local/lib/python3.6/dist-packages (from httpx==0.13.3->googletrans==3.1.0a0) (2020.12.22)\n",
            "Requirement already satisfied: httpcore==0.9.* in /usr/local/lib/python3.6/dist-packages (from httpx==0.13.3->googletrans==3.1.0a0) (0.9.1)\n",
            "Requirement already satisfied: idna==2.* in /usr/local/lib/python3.6/dist-packages (from httpx==0.13.3->googletrans==3.1.0a0) (2.10)\n",
            "Requirement already satisfied: sniffio in /usr/local/lib/python3.6/dist-packages (from httpx==0.13.3->googletrans==3.1.0a0) (1.2.0)\n",
            "Requirement already satisfied: h2==3.* in /usr/local/lib/python3.6/dist-packages (from httpcore==0.9.*->httpx==0.13.3->googletrans==3.1.0a0) (3.2.0)\n",
            "Requirement already satisfied: h11<0.10,>=0.8 in /usr/local/lib/python3.6/dist-packages (from httpcore==0.9.*->httpx==0.13.3->googletrans==3.1.0a0) (0.9.0)\n",
            "Requirement already satisfied: contextvars>=2.1; python_version < \"3.7\" in /usr/local/lib/python3.6/dist-packages (from sniffio->httpx==0.13.3->googletrans==3.1.0a0) (2.4)\n",
            "Requirement already satisfied: hpack<4,>=3.0 in /usr/local/lib/python3.6/dist-packages (from h2==3.*->httpcore==0.9.*->httpx==0.13.3->googletrans==3.1.0a0) (3.0.0)\n",
            "Requirement already satisfied: hyperframe<6,>=5.2.0 in /usr/local/lib/python3.6/dist-packages (from h2==3.*->httpcore==0.9.*->httpx==0.13.3->googletrans==3.1.0a0) (5.2.0)\n",
            "Requirement already satisfied: immutables>=0.9 in /usr/local/lib/python3.6/dist-packages (from contextvars>=2.1; python_version < \"3.7\"->sniffio->httpx==0.13.3->googletrans==3.1.0a0) (0.14)\n"
          ],
          "name": "stdout"
        }
      ]
    },
    {
      "cell_type": "code",
      "metadata": {
        "colab": {
          "base_uri": "https://localhost:8080/"
        },
        "id": "j9fpT-VkKMEb",
        "outputId": "dcb40fc7-9144-4f05-d592-4103ce526a7f"
      },
      "source": [
        "!pip install google-trans-new\r\n",
        "from google_trans_new import google_translator  \r\n",
        "\r\n",
        "translator = google_translator()  "
      ],
      "execution_count": null,
      "outputs": [
        {
          "output_type": "stream",
          "text": [
            "Requirement already satisfied: google-trans-new in /usr/local/lib/python3.6/dist-packages (1.1.9)\n"
          ],
          "name": "stdout"
        }
      ]
    },
    {
      "cell_type": "code",
      "metadata": {
        "colab": {
          "base_uri": "https://localhost:8080/",
          "height": 532
        },
        "id": "LF0N8l8YG2dz",
        "outputId": "4da097a2-c117-4c5a-e5c5-1f047d274a87"
      },
      "source": [
        "dfja2 = dfja.copy()\r\n",
        "dfja3=dfja2[['tweet']]\r\n",
        "dfja3"
      ],
      "execution_count": null,
      "outputs": [
        {
          "output_type": "execute_result",
          "data": {
            "text/html": [
              "<div>\n",
              "<style scoped>\n",
              "    .dataframe tbody tr th:only-of-type {\n",
              "        vertical-align: middle;\n",
              "    }\n",
              "\n",
              "    .dataframe tbody tr th {\n",
              "        vertical-align: top;\n",
              "    }\n",
              "\n",
              "    .dataframe thead th {\n",
              "        text-align: right;\n",
              "    }\n",
              "</style>\n",
              "<table border=\"1\" class=\"dataframe\">\n",
              "  <thead>\n",
              "    <tr style=\"text-align: right;\">\n",
              "      <th></th>\n",
              "      <th>tweet</th>\n",
              "    </tr>\n",
              "    <tr>\n",
              "      <th>user</th>\n",
              "      <th></th>\n",
              "    </tr>\n",
              "  </thead>\n",
              "  <tbody>\n",
              "    <tr>\n",
              "      <th>Ln__o0</th>\n",
              "      <td>yuk1dqma_quad 私の2リグか4リグ更新してもろて</td>\n",
              "    </tr>\n",
              "    <tr>\n",
              "      <th>QUad_R_ANgle</th>\n",
              "      <td>samemizu ゲーム開発初めて6か月ついにアプリをリリース出来ましたくっつきパズル のび...</td>\n",
              "    </tr>\n",
              "    <tr>\n",
              "      <th>QUad_R_ANgle</th>\n",
              "      <td>今日からペンパアドベントか</td>\n",
              "    </tr>\n",
              "    <tr>\n",
              "      <th>hisakdan4</th>\n",
              "      <td>キーボード足で踏んでsegaをquadする動画めっちゃ見たいですね</td>\n",
              "    </tr>\n",
              "    <tr>\n",
              "      <th>yuk1dqma_quad</th>\n",
              "      <td>ln__o0 任せてください</td>\n",
              "    </tr>\n",
              "    <tr>\n",
              "      <th>...</th>\n",
              "      <td>...</td>\n",
              "    </tr>\n",
              "    <tr>\n",
              "      <th>Hiromi_HIROSE</th>\n",
              "      <td>アメリカがインドの新しい大使館の建物の工事を開始2027年秋に完成する予定チャナキャプリ地区...</td>\n",
              "    </tr>\n",
              "    <tr>\n",
              "      <th>QJapq2v5xFfgq0h</th>\n",
              "      <td>hiromi_hirose アメリカがインドの新しい大使館の建物の工事を開始2027年秋に完...</td>\n",
              "    </tr>\n",
              "    <tr>\n",
              "      <th>riekohayakawa</th>\n",
              "      <td>インドとオセアニア可能性と機会 クレオパスカルとファカファヌア卿 インド太平洋研究会indo...</td>\n",
              "    </tr>\n",
              "    <tr>\n",
              "      <th>LesFW7SuraWxotB</th>\n",
              "      <td>riekohayakawa インドとオセアニア可能性と機会 クレオパスカルとファカファヌア卿...</td>\n",
              "    </tr>\n",
              "    <tr>\n",
              "      <th>FumiNozoe</th>\n",
              "      <td>ルールに基づいたインド太平洋戦略というならディエゴガルシアからはじめよとたしかに民主主義や自...</td>\n",
              "    </tr>\n",
              "  </tbody>\n",
              "</table>\n",
              "<p>2408 rows × 1 columns</p>\n",
              "</div>"
            ],
            "text/plain": [
              "                                                             tweet\n",
              "user                                                              \n",
              "Ln__o0                              yuk1dqma_quad 私の2リグか4リグ更新してもろて\n",
              "QUad_R_ANgle     samemizu ゲーム開発初めて6か月ついにアプリをリリース出来ましたくっつきパズル のび...\n",
              "QUad_R_ANgle                                         今日からペンパアドベントか\n",
              "hisakdan4                        キーボード足で踏んでsegaをquadする動画めっちゃ見たいですね\n",
              "yuk1dqma_quad                                       ln__o0 任せてください\n",
              "...                                                            ...\n",
              "Hiromi_HIROSE    アメリカがインドの新しい大使館の建物の工事を開始2027年秋に完成する予定チャナキャプリ地区...\n",
              "QJapq2v5xFfgq0h  hiromi_hirose アメリカがインドの新しい大使館の建物の工事を開始2027年秋に完...\n",
              "riekohayakawa    インドとオセアニア可能性と機会 クレオパスカルとファカファヌア卿 インド太平洋研究会indo...\n",
              "LesFW7SuraWxotB  riekohayakawa インドとオセアニア可能性と機会 クレオパスカルとファカファヌア卿...\n",
              "FumiNozoe        ルールに基づいたインド太平洋戦略というならディエゴガルシアからはじめよとたしかに民主主義や自...\n",
              "\n",
              "[2408 rows x 1 columns]"
            ]
          },
          "metadata": {
            "tags": []
          },
          "execution_count": 23
        }
      ]
    },
    {
      "cell_type": "code",
      "metadata": {
        "id": "NtWIqq_UJoNV"
      },
      "source": [
        "# create a translator object\r\n",
        "translator = Translator()"
      ],
      "execution_count": null,
      "outputs": []
    },
    {
      "cell_type": "code",
      "metadata": {
        "colab": {
          "base_uri": "https://localhost:8080/",
          "height": 324
        },
        "id": "yKeXxGNMP8x9",
        "outputId": "dc13ffc5-dc1c-4da6-ad03-b0ab7ad1dfd5"
      },
      "source": [
        "# install googletrans using pip\r\n",
        "!pip install googletrans==3.1.0a0\r\n",
        "\r\n",
        "# import the library\r\n",
        "import googletrans\r\n",
        "from googletrans import Translator\r\n",
        "# create a translator object\r\n",
        "translator = Translator()\r\n",
        "\r\n",
        "# use translate method to translate a string - by default, the destination language is english\r\n",
        "translated = translator.translate('Hola Mundo')\r\n",
        "\r\n",
        "# the translate method returns an object\r\n",
        "print(translated)\r\n",
        "# Translated(src=es, dest=en, text=Hello World, pronunciation=Hello World, extra_data=\"{'translat...\")\r\n",
        "\r\n",
        "# obtain translated string by using attribute .text\r\n",
        "translated.text\r\n",
        "# 'Hello World'"
      ],
      "execution_count": null,
      "outputs": [
        {
          "output_type": "stream",
          "text": [
            "Requirement already satisfied: googletrans==3.1.0a0 in /usr/local/lib/python3.6/dist-packages (3.1.0a0)\n",
            "Requirement already satisfied: httpx==0.13.3 in /usr/local/lib/python3.6/dist-packages (from googletrans==3.1.0a0) (0.13.3)\n",
            "Requirement already satisfied: rfc3986<2,>=1.3 in /usr/local/lib/python3.6/dist-packages (from httpx==0.13.3->googletrans==3.1.0a0) (1.4.0)\n",
            "Requirement already satisfied: certifi in /usr/local/lib/python3.6/dist-packages (from httpx==0.13.3->googletrans==3.1.0a0) (2020.12.5)\n",
            "Requirement already satisfied: sniffio in /usr/local/lib/python3.6/dist-packages (from httpx==0.13.3->googletrans==3.1.0a0) (1.2.0)\n",
            "Requirement already satisfied: hstspreload in /usr/local/lib/python3.6/dist-packages (from httpx==0.13.3->googletrans==3.1.0a0) (2020.12.22)\n",
            "Requirement already satisfied: chardet==3.* in /usr/local/lib/python3.6/dist-packages (from httpx==0.13.3->googletrans==3.1.0a0) (3.0.4)\n",
            "Requirement already satisfied: httpcore==0.9.* in /usr/local/lib/python3.6/dist-packages (from httpx==0.13.3->googletrans==3.1.0a0) (0.9.1)\n",
            "Requirement already satisfied: idna==2.* in /usr/local/lib/python3.6/dist-packages (from httpx==0.13.3->googletrans==3.1.0a0) (2.10)\n",
            "Requirement already satisfied: contextvars>=2.1; python_version < \"3.7\" in /usr/local/lib/python3.6/dist-packages (from sniffio->httpx==0.13.3->googletrans==3.1.0a0) (2.4)\n",
            "Requirement already satisfied: h11<0.10,>=0.8 in /usr/local/lib/python3.6/dist-packages (from httpcore==0.9.*->httpx==0.13.3->googletrans==3.1.0a0) (0.9.0)\n",
            "Requirement already satisfied: h2==3.* in /usr/local/lib/python3.6/dist-packages (from httpcore==0.9.*->httpx==0.13.3->googletrans==3.1.0a0) (3.2.0)\n",
            "Requirement already satisfied: immutables>=0.9 in /usr/local/lib/python3.6/dist-packages (from contextvars>=2.1; python_version < \"3.7\"->sniffio->httpx==0.13.3->googletrans==3.1.0a0) (0.14)\n",
            "Requirement already satisfied: hyperframe<6,>=5.2.0 in /usr/local/lib/python3.6/dist-packages (from h2==3.*->httpcore==0.9.*->httpx==0.13.3->googletrans==3.1.0a0) (5.2.0)\n",
            "Requirement already satisfied: hpack<4,>=3.0 in /usr/local/lib/python3.6/dist-packages (from h2==3.*->httpcore==0.9.*->httpx==0.13.3->googletrans==3.1.0a0) (3.0.0)\n",
            "Translated(src=es, dest=en, text=Hello World, pronunciation=Hello World, extra_data=\"{'translat...\")\n"
          ],
          "name": "stdout"
        },
        {
          "output_type": "execute_result",
          "data": {
            "application/vnd.google.colaboratory.intrinsic+json": {
              "type": "string"
            },
            "text/plain": [
              "'Hello World'"
            ]
          },
          "metadata": {
            "tags": []
          },
          "execution_count": 25
        }
      ]
    },
    {
      "cell_type": "code",
      "metadata": {
        "colab": {
          "base_uri": "https://localhost:8080/"
        },
        "id": "rb6CPrhODDMC",
        "outputId": "76dd54c9-9d73-4707-c73e-17488085ac0a"
      },
      "source": [
        "dfja2 = dfja.copy()\r\n",
        "dfja2.rename(columns=lambda x: translator.translate(x).text, inplace=True)\r\n",
        "\r\n",
        "# translated column names\r\n",
        "dfja2.columns"
      ],
      "execution_count": null,
      "outputs": [
        {
          "output_type": "execute_result",
          "data": {
            "text/plain": [
              "Index(['index_col', 'location', 'tweet', 'Date', 'Tweet Coordinates'], dtype='object')"
            ]
          },
          "metadata": {
            "tags": []
          },
          "execution_count": 26
        }
      ]
    },
    {
      "cell_type": "code",
      "metadata": {
        "colab": {
          "base_uri": "https://localhost:8080/",
          "height": 700
        },
        "id": "99WRBIc_LW4I",
        "outputId": "7fa9c0eb-94d0-4ee8-e23d-efc745985afc"
      },
      "source": [
        "dfja['English'] = dfja['tweet'].apply(translator.translate, src='ja', dest='en').apply(getattr, args=('text',))\r\n",
        "dfja"
      ],
      "execution_count": null,
      "outputs": [
        {
          "output_type": "execute_result",
          "data": {
            "text/html": [
              "<div>\n",
              "<style scoped>\n",
              "    .dataframe tbody tr th:only-of-type {\n",
              "        vertical-align: middle;\n",
              "    }\n",
              "\n",
              "    .dataframe tbody tr th {\n",
              "        vertical-align: top;\n",
              "    }\n",
              "\n",
              "    .dataframe thead th {\n",
              "        text-align: right;\n",
              "    }\n",
              "</style>\n",
              "<table border=\"1\" class=\"dataframe\">\n",
              "  <thead>\n",
              "    <tr style=\"text-align: right;\">\n",
              "      <th></th>\n",
              "      <th>index_col</th>\n",
              "      <th>location</th>\n",
              "      <th>tweet</th>\n",
              "      <th>Date</th>\n",
              "      <th>Tweet Coordinates</th>\n",
              "      <th>English</th>\n",
              "    </tr>\n",
              "    <tr>\n",
              "      <th>user</th>\n",
              "      <th></th>\n",
              "      <th></th>\n",
              "      <th></th>\n",
              "      <th></th>\n",
              "      <th></th>\n",
              "      <th></th>\n",
              "    </tr>\n",
              "  </thead>\n",
              "  <tbody>\n",
              "    <tr>\n",
              "      <th>Ln__o0</th>\n",
              "      <td>1</td>\n",
              "      <td>ゲームしてる人だけᔦꙬᔨ</td>\n",
              "      <td>yuk1dqma_quad 私の2リグか4リグ更新してもろて</td>\n",
              "      <td>2020-11-30 15:03:14</td>\n",
              "      <td>NaN</td>\n",
              "      <td>yuk1dqma_quad Update my 2 rig or 4 rig</td>\n",
              "    </tr>\n",
              "    <tr>\n",
              "      <th>QUad_R_ANgle</th>\n",
              "      <td>2</td>\n",
              "      <td>///りがくぶ・くりかえす・ふじまめ ←一言メッセージ</td>\n",
              "      <td>samemizu ゲーム開発初めて6か月ついにアプリをリリース出来ましたくっつきパズル のび...</td>\n",
              "      <td>2020-11-30 15:03:40</td>\n",
              "      <td>NaN</td>\n",
              "      <td>samemizu Game development First 6 months I fin...</td>\n",
              "    </tr>\n",
              "    <tr>\n",
              "      <th>QUad_R_ANgle</th>\n",
              "      <td>3</td>\n",
              "      <td>///りがくぶ・くりかえす・ふじまめ ←一言メッセージ</td>\n",
              "      <td>今日からペンパアドベントか</td>\n",
              "      <td>2020-11-30 15:04:40</td>\n",
              "      <td>NaN</td>\n",
              "      <td>Is it Penpa Advent from today?</td>\n",
              "    </tr>\n",
              "    <tr>\n",
              "      <th>hisakdan4</th>\n",
              "      <td>4</td>\n",
              "      <td>.gif</td>\n",
              "      <td>キーボード足で踏んでsegaをquadする動画めっちゃ見たいですね</td>\n",
              "      <td>2020-11-30 15:07:34</td>\n",
              "      <td>NaN</td>\n",
              "      <td>I really want to see a video that quads sega b...</td>\n",
              "    </tr>\n",
              "    <tr>\n",
              "      <th>yuk1dqma_quad</th>\n",
              "      <td>5</td>\n",
              "      <td>クアホしか勝たん♡</td>\n",
              "      <td>ln__o0 任せてください</td>\n",
              "      <td>2020-11-30 15:08:46</td>\n",
              "      <td>NaN</td>\n",
              "      <td>ln__o0 leave it to me</td>\n",
              "    </tr>\n",
              "    <tr>\n",
              "      <th>...</th>\n",
              "      <td>...</td>\n",
              "      <td>...</td>\n",
              "      <td>...</td>\n",
              "      <td>...</td>\n",
              "      <td>...</td>\n",
              "      <td>...</td>\n",
              "    </tr>\n",
              "    <tr>\n",
              "      <th>Hiromi_HIROSE</th>\n",
              "      <td>2404</td>\n",
              "      <td>NaN</td>\n",
              "      <td>アメリカがインドの新しい大使館の建物の工事を開始2027年秋に完成する予定チャナキャプリ地区...</td>\n",
              "      <td>2021-01-09 12:25:39</td>\n",
              "      <td>NaN</td>\n",
              "      <td>アメリカがインドの新しい大使館の建物の工事を開始2027年秋に完成する予定チャナキャプリ地区...</td>\n",
              "    </tr>\n",
              "    <tr>\n",
              "      <th>QJapq2v5xFfgq0h</th>\n",
              "      <td>2405</td>\n",
              "      <td>NaN</td>\n",
              "      <td>hiromi_hirose アメリカがインドの新しい大使館の建物の工事を開始2027年秋に完...</td>\n",
              "      <td>2021-01-09 12:30:13</td>\n",
              "      <td>NaN</td>\n",
              "      <td>hiromi_hirose アメリカがインドの新しい大使館の建物の工事を開始2027年秋に完...</td>\n",
              "    </tr>\n",
              "    <tr>\n",
              "      <th>riekohayakawa</th>\n",
              "      <td>2406</td>\n",
              "      <td>Pacific-NZ-Kyoto</td>\n",
              "      <td>インドとオセアニア可能性と機会 クレオパスカルとファカファヌア卿 インド太平洋研究会indo...</td>\n",
              "      <td>2021-01-09 21:49:14</td>\n",
              "      <td>NaN</td>\n",
              "      <td>インドとオセアニア可能性と機会 クレオパスカルとファカファヌア卿 インド太平洋研究会indo...</td>\n",
              "    </tr>\n",
              "    <tr>\n",
              "      <th>LesFW7SuraWxotB</th>\n",
              "      <td>2407</td>\n",
              "      <td>［呪い返し］</td>\n",
              "      <td>riekohayakawa インドとオセアニア可能性と機会 クレオパスカルとファカファヌア卿...</td>\n",
              "      <td>2021-01-09 21:56:10</td>\n",
              "      <td>NaN</td>\n",
              "      <td>riekohayakawa インドとオセアニア可能性と機会 クレオパスカルとファカファヌア卿...</td>\n",
              "    </tr>\n",
              "    <tr>\n",
              "      <th>FumiNozoe</th>\n",
              "      <td>2408</td>\n",
              "      <td>NaN</td>\n",
              "      <td>ルールに基づいたインド太平洋戦略というならディエゴガルシアからはじめよとたしかに民主主義や自...</td>\n",
              "      <td>2021-01-10 02:59:11</td>\n",
              "      <td>NaN</td>\n",
              "      <td>ルールに基づいたインド太平洋戦略というならディエゴガルシアからはじめよとたしかに民主主義や自...</td>\n",
              "    </tr>\n",
              "  </tbody>\n",
              "</table>\n",
              "<p>2408 rows × 6 columns</p>\n",
              "</div>"
            ],
            "text/plain": [
              "                 index_col  ...                                            English\n",
              "user                        ...                                                   \n",
              "Ln__o0                   1  ...             yuk1dqma_quad Update my 2 rig or 4 rig\n",
              "QUad_R_ANgle             2  ...  samemizu Game development First 6 months I fin...\n",
              "QUad_R_ANgle             3  ...                     Is it Penpa Advent from today?\n",
              "hisakdan4                4  ...  I really want to see a video that quads sega b...\n",
              "yuk1dqma_quad            5  ...                              ln__o0 leave it to me\n",
              "...                    ...  ...                                                ...\n",
              "Hiromi_HIROSE         2404  ...  アメリカがインドの新しい大使館の建物の工事を開始2027年秋に完成する予定チャナキャプリ地区...\n",
              "QJapq2v5xFfgq0h       2405  ...  hiromi_hirose アメリカがインドの新しい大使館の建物の工事を開始2027年秋に完...\n",
              "riekohayakawa         2406  ...  インドとオセアニア可能性と機会 クレオパスカルとファカファヌア卿 インド太平洋研究会indo...\n",
              "LesFW7SuraWxotB       2407  ...  riekohayakawa インドとオセアニア可能性と機会 クレオパスカルとファカファヌア卿...\n",
              "FumiNozoe             2408  ...  ルールに基づいたインド太平洋戦略というならディエゴガルシアからはじめよとたしかに民主主義や自...\n",
              "\n",
              "[2408 rows x 6 columns]"
            ]
          },
          "metadata": {
            "tags": []
          },
          "execution_count": 27
        }
      ]
    },
    {
      "cell_type": "code",
      "metadata": {
        "colab": {
          "base_uri": "https://localhost:8080/",
          "height": 616
        },
        "id": "8UYzJCqhaIFy",
        "outputId": "86b2fa81-2a8c-4c33-cdfc-7f49c57eeb57"
      },
      "source": [
        "dfhi['English'] = dfhi['tweet'].apply(translator.translate, src='hi', dest='en').apply(getattr, args=('text',))\r\n",
        "dfhi"
      ],
      "execution_count": null,
      "outputs": [
        {
          "output_type": "execute_result",
          "data": {
            "text/html": [
              "<div>\n",
              "<style scoped>\n",
              "    .dataframe tbody tr th:only-of-type {\n",
              "        vertical-align: middle;\n",
              "    }\n",
              "\n",
              "    .dataframe tbody tr th {\n",
              "        vertical-align: top;\n",
              "    }\n",
              "\n",
              "    .dataframe thead th {\n",
              "        text-align: right;\n",
              "    }\n",
              "</style>\n",
              "<table border=\"1\" class=\"dataframe\">\n",
              "  <thead>\n",
              "    <tr style=\"text-align: right;\">\n",
              "      <th></th>\n",
              "      <th>index_col</th>\n",
              "      <th>location</th>\n",
              "      <th>tweet</th>\n",
              "      <th>Date</th>\n",
              "      <th>Tweet Coordinates</th>\n",
              "      <th>English</th>\n",
              "    </tr>\n",
              "    <tr>\n",
              "      <th>user</th>\n",
              "      <th></th>\n",
              "      <th></th>\n",
              "      <th></th>\n",
              "      <th></th>\n",
              "      <th></th>\n",
              "      <th></th>\n",
              "    </tr>\n",
              "  </thead>\n",
              "  <tbody>\n",
              "    <tr>\n",
              "      <th>TV9Bharatvarsh</th>\n",
              "      <td>1</td>\n",
              "      <td>Noida, India</td>\n",
              "      <td>अरब सगर म मलबर यदधभयस क दसर फज आज स शर quad दश...</td>\n",
              "      <td>2020-11-17 03:06:00</td>\n",
              "      <td>NaN</td>\n",
              "      <td>अरब सगर म मलबर यदधभयस क दसर फज आज स शर quad दश...</td>\n",
              "    </tr>\n",
              "    <tr>\n",
              "      <th>TV9Bharatvarsh</th>\n",
              "      <td>2</td>\n",
              "      <td>Noida, India</td>\n",
              "      <td>दखए दशदनय क हर बड खबर लकल to गलबल top 100 मloc...</td>\n",
              "      <td>2020-11-17 03:19:32</td>\n",
              "      <td>NaN</td>\n",
              "      <td>दखए दशदनय क हर बड खबर लकल to गलबल top 100 मloc...</td>\n",
              "    </tr>\n",
              "    <tr>\n",
              "      <th>TV9Bharatvarsh</th>\n",
              "      <td>3</td>\n",
              "      <td>Noida, India</td>\n",
              "      <td>समदर म चन क खलफ quad दश क तयरthesamirabbas gen...</td>\n",
              "      <td>2020-11-17 07:00:39</td>\n",
              "      <td>NaN</td>\n",
              "      <td>समदर म चन क खलफ quad दश क तयरthesamirabbas gen...</td>\n",
              "    </tr>\n",
              "    <tr>\n",
              "      <th>SDeviputra</th>\n",
              "      <td>4</td>\n",
              "      <td>Jodhpur, India</td>\n",
              "      <td>tv9bharatvarsh अरब सगर म मलबर यदधभयस क दसर फज ...</td>\n",
              "      <td>2020-11-17 10:06:59</td>\n",
              "      <td>NaN</td>\n",
              "      <td>tv9bharatvarsh अरब सगर म मलबर यदधभयस क दसर फज ...</td>\n",
              "    </tr>\n",
              "    <tr>\n",
              "      <th>TV9Bharatvarsh</th>\n",
              "      <td>5</td>\n",
              "      <td>Noida, India</td>\n",
              "      <td>मलबर एकसरसइज स चन क हलत खरबदखए फल फइनलmalabarw...</td>\n",
              "      <td>2020-11-17 11:24:37</td>\n",
              "      <td>NaN</td>\n",
              "      <td>मलबर एकसरसइज स चन क हलत खरबदखए फल फइनलmalabarw...</td>\n",
              "    </tr>\n",
              "    <tr>\n",
              "      <th>...</th>\n",
              "      <td>...</td>\n",
              "      <td>...</td>\n",
              "      <td>...</td>\n",
              "      <td>...</td>\n",
              "      <td>...</td>\n",
              "      <td>...</td>\n",
              "    </tr>\n",
              "    <tr>\n",
              "      <th>darking2jarlie</th>\n",
              "      <td>341</td>\n",
              "      <td>Space</td>\n",
              "      <td>secpompeo for 2024this man is great thxelectio...</td>\n",
              "      <td>2021-01-10 04:04:02</td>\n",
              "      <td>NaN</td>\n",
              "      <td>secpompeo for 2024this man is great thxelectio...</td>\n",
              "    </tr>\n",
              "    <tr>\n",
              "      <th>CPR_India</th>\n",
              "      <td>342</td>\n",
              "      <td>New Delhi</td>\n",
              "      <td>as quad prepares to meet the chinese challenge...</td>\n",
              "      <td>2021-01-10 07:30:00</td>\n",
              "      <td>NaN</td>\n",
              "      <td>as quad prepares to meet the chinese challenge...</td>\n",
              "    </tr>\n",
              "    <tr>\n",
              "      <th>Resort_Skelin</th>\n",
              "      <td>343</td>\n",
              "      <td>Hrvatska</td>\n",
              "      <td>every team is different lets create a perfect ...</td>\n",
              "      <td>2021-01-10 07:31:08</td>\n",
              "      <td>NaN</td>\n",
              "      <td>every team is different lets create a perfect ...</td>\n",
              "    </tr>\n",
              "    <tr>\n",
              "      <th>KBhairava1</th>\n",
              "      <td>344</td>\n",
              "      <td>NaN</td>\n",
              "      <td>this here is very tricky yes its true aussies ...</td>\n",
              "      <td>2021-01-10 07:39:52</td>\n",
              "      <td>NaN</td>\n",
              "      <td>this here is very tricky yes its true aussies ...</td>\n",
              "    </tr>\n",
              "    <tr>\n",
              "      <th>Deepakk79951168</th>\n",
              "      <td>345</td>\n",
              "      <td>Deoghar, Jharkhand</td>\n",
              "      <td>cpr_india as quad prepares to meet the chinese...</td>\n",
              "      <td>2021-01-10 07:52:47</td>\n",
              "      <td>NaN</td>\n",
              "      <td>cpr_india as quad prepares to meet the chinese...</td>\n",
              "    </tr>\n",
              "  </tbody>\n",
              "</table>\n",
              "<p>345 rows × 6 columns</p>\n",
              "</div>"
            ],
            "text/plain": [
              "                 index_col  ...                                            English\n",
              "user                        ...                                                   \n",
              "TV9Bharatvarsh           1  ...  अरब सगर म मलबर यदधभयस क दसर फज आज स शर quad दश...\n",
              "TV9Bharatvarsh           2  ...  दखए दशदनय क हर बड खबर लकल to गलबल top 100 मloc...\n",
              "TV9Bharatvarsh           3  ...  समदर म चन क खलफ quad दश क तयरthesamirabbas gen...\n",
              "SDeviputra               4  ...  tv9bharatvarsh अरब सगर म मलबर यदधभयस क दसर फज ...\n",
              "TV9Bharatvarsh           5  ...  मलबर एकसरसइज स चन क हलत खरबदखए फल फइनलmalabarw...\n",
              "...                    ...  ...                                                ...\n",
              "darking2jarlie         341  ...  secpompeo for 2024this man is great thxelectio...\n",
              "CPR_India              342  ...  as quad prepares to meet the chinese challenge...\n",
              "Resort_Skelin          343  ...  every team is different lets create a perfect ...\n",
              "KBhairava1             344  ...  this here is very tricky yes its true aussies ...\n",
              "Deepakk79951168        345  ...  cpr_india as quad prepares to meet the chinese...\n",
              "\n",
              "[345 rows x 6 columns]"
            ]
          },
          "metadata": {
            "tags": []
          },
          "execution_count": 59
        }
      ]
    },
    {
      "cell_type": "code",
      "metadata": {
        "id": "xGgzMVH6OBdS",
        "colab": {
          "base_uri": "https://localhost:8080/"
        },
        "outputId": "64a71b60-c813-435a-e05b-e98ad70b7add"
      },
      "source": [
        " df.shape"
      ],
      "execution_count": null,
      "outputs": [
        {
          "output_type": "execute_result",
          "data": {
            "text/plain": [
              "(29499, 5)"
            ]
          },
          "metadata": {
            "tags": []
          },
          "execution_count": 27
        }
      ]
    },
    {
      "cell_type": "code",
      "metadata": {
        "id": "n1ogX58vONkV",
        "colab": {
          "base_uri": "https://localhost:8080/",
          "height": 284
        },
        "outputId": "f274ad02-85b6-4e46-9dbf-135a224f6f9c"
      },
      "source": [
        "df.describe()"
      ],
      "execution_count": null,
      "outputs": [
        {
          "output_type": "execute_result",
          "data": {
            "text/html": [
              "<div>\n",
              "<style scoped>\n",
              "    .dataframe tbody tr th:only-of-type {\n",
              "        vertical-align: middle;\n",
              "    }\n",
              "\n",
              "    .dataframe tbody tr th {\n",
              "        vertical-align: top;\n",
              "    }\n",
              "\n",
              "    .dataframe thead th {\n",
              "        text-align: right;\n",
              "    }\n",
              "</style>\n",
              "<table border=\"1\" class=\"dataframe\">\n",
              "  <thead>\n",
              "    <tr style=\"text-align: right;\">\n",
              "      <th></th>\n",
              "      <th>index_col</th>\n",
              "    </tr>\n",
              "  </thead>\n",
              "  <tbody>\n",
              "    <tr>\n",
              "      <th>count</th>\n",
              "      <td>29499.000000</td>\n",
              "    </tr>\n",
              "    <tr>\n",
              "      <th>mean</th>\n",
              "      <td>14750.000000</td>\n",
              "    </tr>\n",
              "    <tr>\n",
              "      <th>std</th>\n",
              "      <td>8515.772132</td>\n",
              "    </tr>\n",
              "    <tr>\n",
              "      <th>min</th>\n",
              "      <td>1.000000</td>\n",
              "    </tr>\n",
              "    <tr>\n",
              "      <th>25%</th>\n",
              "      <td>7375.500000</td>\n",
              "    </tr>\n",
              "    <tr>\n",
              "      <th>50%</th>\n",
              "      <td>14750.000000</td>\n",
              "    </tr>\n",
              "    <tr>\n",
              "      <th>75%</th>\n",
              "      <td>22124.500000</td>\n",
              "    </tr>\n",
              "    <tr>\n",
              "      <th>max</th>\n",
              "      <td>29499.000000</td>\n",
              "    </tr>\n",
              "  </tbody>\n",
              "</table>\n",
              "</div>"
            ],
            "text/plain": [
              "          index_col\n",
              "count  29499.000000\n",
              "mean   14750.000000\n",
              "std     8515.772132\n",
              "min        1.000000\n",
              "25%     7375.500000\n",
              "50%    14750.000000\n",
              "75%    22124.500000\n",
              "max    29499.000000"
            ]
          },
          "metadata": {
            "tags": []
          },
          "execution_count": 28
        }
      ]
    },
    {
      "cell_type": "markdown",
      "metadata": {
        "id": "qXjtlLywbihC"
      },
      "source": [
        "WORD CLOUD VISUALIZATION"
      ]
    },
    {
      "cell_type": "code",
      "metadata": {
        "colab": {
          "base_uri": "https://localhost:8080/"
        },
        "id": "R4CyFTxLbgz_",
        "outputId": "1074bead-4b19-409f-acb0-f6e08f84a9a6"
      },
      "source": [
        "!pip install wordcloud"
      ],
      "execution_count": null,
      "outputs": [
        {
          "output_type": "stream",
          "text": [
            "Requirement already satisfied: wordcloud in /usr/local/lib/python3.6/dist-packages (1.5.0)\n",
            "Requirement already satisfied: numpy>=1.6.1 in /usr/local/lib/python3.6/dist-packages (from wordcloud) (1.19.5)\n",
            "Requirement already satisfied: pillow in /usr/local/lib/python3.6/dist-packages (from wordcloud) (7.0.0)\n"
          ],
          "name": "stdout"
        }
      ]
    },
    {
      "cell_type": "code",
      "metadata": {
        "id": "p3bNRRIRbs7C"
      },
      "source": [
        "from wordcloud import WordCloud\n",
        "import matplotlib.pyplot as plt\n",
        "%matplotlib inline"
      ],
      "execution_count": null,
      "outputs": []
    },
    {
      "cell_type": "code",
      "metadata": {
        "id": "dpniNqp_cCHt"
      },
      "source": [
        "text1= ' '.join(df['tweet'])\r\n",
        "text2= ' '.join(dfhi['tweet'])\r\n",
        "text3= ' '.join(dfja['tweet'])"
      ],
      "execution_count": null,
      "outputs": []
    },
    {
      "cell_type": "code",
      "metadata": {
        "colab": {
          "base_uri": "https://localhost:8080/"
        },
        "id": "z0LPBlhpcOwu",
        "outputId": "76836b3d-d002-40d0-ed38-90a6a9b74aa5"
      },
      "source": [
        "len(text1), len(text2),len(text3)"
      ],
      "execution_count": null,
      "outputs": [
        {
          "output_type": "execute_result",
          "data": {
            "text/plain": [
              "(977891, 35067, 126011)"
            ]
          },
          "metadata": {
            "tags": []
          },
          "execution_count": 65
        }
      ]
    },
    {
      "cell_type": "code",
      "metadata": {
        "colab": {
          "base_uri": "https://localhost:8080/",
          "height": 198
        },
        "id": "UmuJIl2WcTDm",
        "outputId": "ecdf708d-fba3-4c71-ebdc-9d8bbae2d7c7"
      },
      "source": [
        "wc= WordCloud(width=800,height=400,max_font_size = 100, min_font_size=10).generate(text1)\n",
        "plt.imshow(wc)\n",
        "plt.axis('off')\n",
        "plt.show()"
      ],
      "execution_count": null,
      "outputs": [
        {
          "output_type": "display_data",
          "data": {
            "image/png": "[encoded data removed]",
            "text/plain": [
              "<Figure size 432x288 with 1 Axes>"
            ]
          },
          "metadata": {
            "tags": [],
            "needs_background": "light"
          }
        }
      ]
    },
    {
      "cell_type": "code",
      "metadata": {
        "colab": {
          "base_uri": "https://localhost:8080/",
          "height": 232
        },
        "id": "Yqjyu7I4OvMB",
        "outputId": "8af9fc95-a019-4f65-cbc8-ecc32e9f59e2"
      },
      "source": [
        "wc= WordCloud(width=500,height=300,random_state=21,max_font_size= 156, min_font_size=30).generate(text1)\r\n",
        "plt.imshow(wc)\r\n",
        "plt.axis('off')\r\n",
        "plt.show()"
      ],
      "execution_count": null,
      "outputs": [
        {
          "output_type": "display_data",
          "data": {
            "image/png": "[encoded data removed]",
            "text/plain": [
              "<Figure size 432x288 with 1 Axes>"
            ]
          },
          "metadata": {
            "tags": [],
            "needs_background": "light"
          }
        }
      ]
    },
    {
      "cell_type": "code",
      "metadata": {
        "colab": {
          "base_uri": "https://localhost:8080/",
          "height": 248
        },
        "id": "Dlm3mzG5QNzN",
        "outputId": "3610f0d4-9920-404c-c78f-008e9417fb13"
      },
      "source": [
        "\r\n",
        "#Import Library\r\n",
        "import matplotlib.pyplot as plt\r\n",
        "from wordcloud import WordCloud, STOPWORDS\r\n",
        "from nltk.tokenize import word_tokenize\r\n",
        "import re\r\n",
        "#stopword=[open(\"stopwords.txt\",'r')]\r\n",
        "stop_words=[]\r\n",
        "# pre-process stopword\r\n",
        "for i in stopword:\r\n",
        " i = re.sub('[\\n]', '', i)\r\n",
        " stop_words.append(i)\r\n",
        " stopwords = set(stop_words)\r\n",
        "wordcloud = WordCloud(font_path='/content/drive/My Drive/Lohit-Devanagari.ttf',width = 400, height = 400,\r\n",
        "                      #stopwords=stopwords,\r\n",
        "                      min_font_size = 10).generate(text2)\r\n",
        "\r\n",
        "# plot the WordCloud image\r\n",
        "#plt.figure(figsize = (8, 8), facecolor = None)\r\n",
        "#plt.imshow(wordcloud)\r\n",
        "#plt.axis(\"off\")\r\n",
        "#plt.tight_layout(pad = 0)\r\n",
        "\r\n",
        "#plt.show()\r\n",
        "plt.imshow(wc7)\r\n",
        "plt.axis('off')\r\n",
        "plt.show()"
      ],
      "execution_count": null,
      "outputs": [
        {
          "output_type": "display_data",
          "data": {
            "image/png": "[encoded data removed]",
            "text/plain": [
              "<Figure size 432x288 with 1 Axes>"
            ]
          },
          "metadata": {
            "tags": [],
            "needs_background": "light"
          }
        }
      ]
    },
    {
      "cell_type": "code",
      "metadata": {
        "colab": {
          "base_uri": "https://localhost:8080/",
          "height": 248
        },
        "id": "Wwi6kUnnO9Z5",
        "outputId": "c96d98c5-9500-4dd6-f4fd-6f00168d77f6"
      },
      "source": [
        "wc8= WordCloud(font_path='/content/drive/My Drive/NotoSans-Condensed.ttf',width = 400, height = 400,\r\n",
        "                      #stopwords=stopwords,\r\n",
        "                      min_font_size = 10).generate(text3)\r\n",
        "\r\n",
        "plt.imshow(wc8)\r\n",
        "plt.axis('off')\r\n",
        "plt.show()"
      ],
      "execution_count": null,
      "outputs": [
        {
          "output_type": "display_data",
          "data": {
            "image/png": "[encoded data removed]",
            "text/plain": [
              "<Figure size 432x288 with 1 Axes>"
            ]
          },
          "metadata": {
            "tags": [],
            "needs_background": "light"
          }
        }
      ]
    },
    {
      "cell_type": "markdown",
      "metadata": {
        "id": "dRnRlnvqt6jc"
      },
      "source": [
        "textblob sentiment classifier"
      ]
    },
    {
      "cell_type": "code",
      "metadata": {
        "id": "dzTxlTbNt5XQ"
      },
      "source": [
        "from textblob import TextBlob\n",
        "from textblob.sentiments import NaiveBayesAnalyzer\n",
        "import nltk\n"
      ],
      "execution_count": null,
      "outputs": []
    },
    {
      "cell_type": "code",
      "metadata": {
        "colab": {
          "base_uri": "https://localhost:8080/",
          "height": 431
        },
        "id": "6zSf28cquo9H",
        "outputId": "1a6e8fce-22c5-4555-8c97-39f61a8ddc40"
      },
      "source": [
        "df['tweet'].apply(lambda x: TextBlob(x,analyzer=NaiveBayesAnalyzer()))\n",
        "df['TextBlob_sentiment']= df['tweet'].apply(lambda x: TextBlob(x).sentiment)\n",
        "df"
      ],
      "execution_count": null,
      "outputs": [
        {
          "output_type": "execute_result",
          "data": {
            "text/html": [
              "<div>\n",
              "<style scoped>\n",
              "    .dataframe tbody tr th:only-of-type {\n",
              "        vertical-align: middle;\n",
              "    }\n",
              "\n",
              "    .dataframe tbody tr th {\n",
              "        vertical-align: top;\n",
              "    }\n",
              "\n",
              "    .dataframe thead th {\n",
              "        text-align: right;\n",
              "    }\n",
              "</style>\n",
              "<table border=\"1\" class=\"dataframe\">\n",
              "  <thead>\n",
              "    <tr style=\"text-align: right;\">\n",
              "      <th></th>\n",
              "      <th>index_col</th>\n",
              "      <th>location</th>\n",
              "      <th>tweet</th>\n",
              "      <th>Date</th>\n",
              "      <th>Tweet Coordinates</th>\n",
              "      <th>TextBlob_sentiment</th>\n",
              "    </tr>\n",
              "    <tr>\n",
              "      <th>user</th>\n",
              "      <th></th>\n",
              "      <th></th>\n",
              "      <th></th>\n",
              "      <th></th>\n",
              "      <th></th>\n",
              "      <th></th>\n",
              "    </tr>\n",
              "  </thead>\n",
              "  <tbody>\n",
              "    <tr>\n",
              "      <th>jagadishrjain</th>\n",
              "      <td>1</td>\n",
              "      <td>Hyderabad</td>\n",
              "      <td>rrrameshrrr 50 of the quad japan australia and...</td>\n",
              "      <td>2020-11-15 09:00:05</td>\n",
              "      <td>NaN</td>\n",
              "      <td>(0.06818181818181818, 0.7272727272727273)</td>\n",
              "    </tr>\n",
              "    <tr>\n",
              "      <th>hellfire_81</th>\n",
              "      <td>2</td>\n",
              "      <td>NaN</td>\n",
              "      <td>coolquad riplegic military grouping httpstcocx...</td>\n",
              "      <td>2020-11-15 09:09:46</td>\n",
              "      <td>NaN</td>\n",
              "      <td>(-0.1, 0.1)</td>\n",
              "    </tr>\n",
              "    <tr>\n",
              "      <th>Savitri4Ever</th>\n",
              "      <td>3</td>\n",
              "      <td>NaN</td>\n",
              "      <td>hellfire_81 coolquad riplegic military groupin...</td>\n",
              "      <td>2020-11-15 09:19:10</td>\n",
              "      <td>NaN</td>\n",
              "      <td>(-0.1, 0.1)</td>\n",
              "    </tr>\n",
              "    <tr>\n",
              "      <th>orfonline</th>\n",
              "      <td>4</td>\n",
              "      <td>India</td>\n",
              "      <td>the creation of the quad with implications for...</td>\n",
              "      <td>2020-11-15 09:25:00</td>\n",
              "      <td>NaN</td>\n",
              "      <td>(-0.25, 0.4)</td>\n",
              "    </tr>\n",
              "    <tr>\n",
              "      <th>InsightGL</th>\n",
              "      <td>5</td>\n",
              "      <td>NaN</td>\n",
              "      <td>asthana_shashi jaishankar attends east asia su...</td>\n",
              "      <td>2020-11-15 09:36:43</td>\n",
              "      <td>NaN</td>\n",
              "      <td>(-0.2, 0.5)</td>\n",
              "    </tr>\n",
              "    <tr>\n",
              "      <th>...</th>\n",
              "      <td>...</td>\n",
              "      <td>...</td>\n",
              "      <td>...</td>\n",
              "      <td>...</td>\n",
              "      <td>...</td>\n",
              "      <td>...</td>\n",
              "    </tr>\n",
              "    <tr>\n",
              "      <th>RamKuma19784093</th>\n",
              "      <td>29495</td>\n",
              "      <td>Puducherry</td>\n",
              "      <td>india france discuss counterterrorism cooperat...</td>\n",
              "      <td>2021-01-10 06:52:00</td>\n",
              "      <td>NaN</td>\n",
              "      <td>(0.0, 0.0)</td>\n",
              "    </tr>\n",
              "    <tr>\n",
              "      <th>CPR_India</th>\n",
              "      <td>29496</td>\n",
              "      <td>New Delhi</td>\n",
              "      <td>as quad prepares to meet the chinese challenge...</td>\n",
              "      <td>2021-01-10 07:30:00</td>\n",
              "      <td>NaN</td>\n",
              "      <td>(0.0, 0.0)</td>\n",
              "    </tr>\n",
              "    <tr>\n",
              "      <th>Resort_Skelin</th>\n",
              "      <td>29497</td>\n",
              "      <td>Hrvatska</td>\n",
              "      <td>every team is different lets create a perfect ...</td>\n",
              "      <td>2021-01-10 07:31:08</td>\n",
              "      <td>NaN</td>\n",
              "      <td>(0.5, 0.8)</td>\n",
              "    </tr>\n",
              "    <tr>\n",
              "      <th>KBhairava1</th>\n",
              "      <td>29498</td>\n",
              "      <td>NaN</td>\n",
              "      <td>this here is very tricky yes its true aussies ...</td>\n",
              "      <td>2021-01-10 07:39:52</td>\n",
              "      <td>NaN</td>\n",
              "      <td>(0.2287878787878788, 0.4681818181818182)</td>\n",
              "    </tr>\n",
              "    <tr>\n",
              "      <th>Deepakk79951168</th>\n",
              "      <td>29499</td>\n",
              "      <td>Deoghar, Jharkhand</td>\n",
              "      <td>cpr_india as quad prepares to meet the chinese...</td>\n",
              "      <td>2021-01-10 07:52:47</td>\n",
              "      <td>NaN</td>\n",
              "      <td>(0.20000000000000004, 0.45)</td>\n",
              "    </tr>\n",
              "  </tbody>\n",
              "</table>\n",
              "<p>29499 rows × 6 columns</p>\n",
              "</div>"
            ],
            "text/plain": [
              "                 index_col  ...                         TextBlob_sentiment\n",
              "user                        ...                                           \n",
              "jagadishrjain            1  ...  (0.06818181818181818, 0.7272727272727273)\n",
              "hellfire_81              2  ...                                (-0.1, 0.1)\n",
              "Savitri4Ever             3  ...                                (-0.1, 0.1)\n",
              "orfonline                4  ...                               (-0.25, 0.4)\n",
              "InsightGL                5  ...                                (-0.2, 0.5)\n",
              "...                    ...  ...                                        ...\n",
              "RamKuma19784093      29495  ...                                 (0.0, 0.0)\n",
              "CPR_India            29496  ...                                 (0.0, 0.0)\n",
              "Resort_Skelin        29497  ...                                 (0.5, 0.8)\n",
              "KBhairava1           29498  ...   (0.2287878787878788, 0.4681818181818182)\n",
              "Deepakk79951168      29499  ...                (0.20000000000000004, 0.45)\n",
              "\n",
              "[29499 rows x 6 columns]"
            ]
          },
          "metadata": {
            "tags": []
          },
          "execution_count": 30
        }
      ]
    },
    {
      "cell_type": "code",
      "metadata": {
        "colab": {
          "base_uri": "https://localhost:8080/",
          "height": 431
        },
        "id": "YXT3iLa1vaUi",
        "outputId": "96d6a0a3-f6ce-46fe-daec-a919138499b8"
      },
      "source": [
        "df2=df\n",
        "df2"
      ],
      "execution_count": null,
      "outputs": [
        {
          "output_type": "execute_result",
          "data": {
            "text/html": [
              "<div>\n",
              "<style scoped>\n",
              "    .dataframe tbody tr th:only-of-type {\n",
              "        vertical-align: middle;\n",
              "    }\n",
              "\n",
              "    .dataframe tbody tr th {\n",
              "        vertical-align: top;\n",
              "    }\n",
              "\n",
              "    .dataframe thead th {\n",
              "        text-align: right;\n",
              "    }\n",
              "</style>\n",
              "<table border=\"1\" class=\"dataframe\">\n",
              "  <thead>\n",
              "    <tr style=\"text-align: right;\">\n",
              "      <th></th>\n",
              "      <th>index_col</th>\n",
              "      <th>location</th>\n",
              "      <th>tweet</th>\n",
              "      <th>Date</th>\n",
              "      <th>Tweet Coordinates</th>\n",
              "      <th>TextBlob_sentiment</th>\n",
              "    </tr>\n",
              "    <tr>\n",
              "      <th>user</th>\n",
              "      <th></th>\n",
              "      <th></th>\n",
              "      <th></th>\n",
              "      <th></th>\n",
              "      <th></th>\n",
              "      <th></th>\n",
              "    </tr>\n",
              "  </thead>\n",
              "  <tbody>\n",
              "    <tr>\n",
              "      <th>jagadishrjain</th>\n",
              "      <td>1</td>\n",
              "      <td>Hyderabad</td>\n",
              "      <td>rrrameshrrr 50 of the quad japan australia and...</td>\n",
              "      <td>2020-11-15 09:00:05</td>\n",
              "      <td>NaN</td>\n",
              "      <td>(0.06818181818181818, 0.7272727272727273)</td>\n",
              "    </tr>\n",
              "    <tr>\n",
              "      <th>hellfire_81</th>\n",
              "      <td>2</td>\n",
              "      <td>NaN</td>\n",
              "      <td>coolquad riplegic military grouping httpstcocx...</td>\n",
              "      <td>2020-11-15 09:09:46</td>\n",
              "      <td>NaN</td>\n",
              "      <td>(-0.1, 0.1)</td>\n",
              "    </tr>\n",
              "    <tr>\n",
              "      <th>Savitri4Ever</th>\n",
              "      <td>3</td>\n",
              "      <td>NaN</td>\n",
              "      <td>hellfire_81 coolquad riplegic military groupin...</td>\n",
              "      <td>2020-11-15 09:19:10</td>\n",
              "      <td>NaN</td>\n",
              "      <td>(-0.1, 0.1)</td>\n",
              "    </tr>\n",
              "    <tr>\n",
              "      <th>orfonline</th>\n",
              "      <td>4</td>\n",
              "      <td>India</td>\n",
              "      <td>the creation of the quad with implications for...</td>\n",
              "      <td>2020-11-15 09:25:00</td>\n",
              "      <td>NaN</td>\n",
              "      <td>(-0.25, 0.4)</td>\n",
              "    </tr>\n",
              "    <tr>\n",
              "      <th>InsightGL</th>\n",
              "      <td>5</td>\n",
              "      <td>NaN</td>\n",
              "      <td>asthana_shashi jaishankar attends east asia su...</td>\n",
              "      <td>2020-11-15 09:36:43</td>\n",
              "      <td>NaN</td>\n",
              "      <td>(-0.2, 0.5)</td>\n",
              "    </tr>\n",
              "    <tr>\n",
              "      <th>...</th>\n",
              "      <td>...</td>\n",
              "      <td>...</td>\n",
              "      <td>...</td>\n",
              "      <td>...</td>\n",
              "      <td>...</td>\n",
              "      <td>...</td>\n",
              "    </tr>\n",
              "    <tr>\n",
              "      <th>RamKuma19784093</th>\n",
              "      <td>29495</td>\n",
              "      <td>Puducherry</td>\n",
              "      <td>india france discuss counterterrorism cooperat...</td>\n",
              "      <td>2021-01-10 06:52:00</td>\n",
              "      <td>NaN</td>\n",
              "      <td>(0.0, 0.0)</td>\n",
              "    </tr>\n",
              "    <tr>\n",
              "      <th>CPR_India</th>\n",
              "      <td>29496</td>\n",
              "      <td>New Delhi</td>\n",
              "      <td>as quad prepares to meet the chinese challenge...</td>\n",
              "      <td>2021-01-10 07:30:00</td>\n",
              "      <td>NaN</td>\n",
              "      <td>(0.0, 0.0)</td>\n",
              "    </tr>\n",
              "    <tr>\n",
              "      <th>Resort_Skelin</th>\n",
              "      <td>29497</td>\n",
              "      <td>Hrvatska</td>\n",
              "      <td>every team is different lets create a perfect ...</td>\n",
              "      <td>2021-01-10 07:31:08</td>\n",
              "      <td>NaN</td>\n",
              "      <td>(0.5, 0.8)</td>\n",
              "    </tr>\n",
              "    <tr>\n",
              "      <th>KBhairava1</th>\n",
              "      <td>29498</td>\n",
              "      <td>NaN</td>\n",
              "      <td>this here is very tricky yes its true aussies ...</td>\n",
              "      <td>2021-01-10 07:39:52</td>\n",
              "      <td>NaN</td>\n",
              "      <td>(0.2287878787878788, 0.4681818181818182)</td>\n",
              "    </tr>\n",
              "    <tr>\n",
              "      <th>Deepakk79951168</th>\n",
              "      <td>29499</td>\n",
              "      <td>Deoghar, Jharkhand</td>\n",
              "      <td>cpr_india as quad prepares to meet the chinese...</td>\n",
              "      <td>2021-01-10 07:52:47</td>\n",
              "      <td>NaN</td>\n",
              "      <td>(0.20000000000000004, 0.45)</td>\n",
              "    </tr>\n",
              "  </tbody>\n",
              "</table>\n",
              "<p>29499 rows × 6 columns</p>\n",
              "</div>"
            ],
            "text/plain": [
              "                 index_col  ...                         TextBlob_sentiment\n",
              "user                        ...                                           \n",
              "jagadishrjain            1  ...  (0.06818181818181818, 0.7272727272727273)\n",
              "hellfire_81              2  ...                                (-0.1, 0.1)\n",
              "Savitri4Ever             3  ...                                (-0.1, 0.1)\n",
              "orfonline                4  ...                               (-0.25, 0.4)\n",
              "InsightGL                5  ...                                (-0.2, 0.5)\n",
              "...                    ...  ...                                        ...\n",
              "RamKuma19784093      29495  ...                                 (0.0, 0.0)\n",
              "CPR_India            29496  ...                                 (0.0, 0.0)\n",
              "Resort_Skelin        29497  ...                                 (0.5, 0.8)\n",
              "KBhairava1           29498  ...   (0.2287878787878788, 0.4681818181818182)\n",
              "Deepakk79951168      29499  ...                (0.20000000000000004, 0.45)\n",
              "\n",
              "[29499 rows x 6 columns]"
            ]
          },
          "metadata": {
            "tags": []
          },
          "execution_count": 31
        }
      ]
    },
    {
      "cell_type": "code",
      "metadata": {
        "colab": {
          "base_uri": "https://localhost:8080/",
          "height": 616
        },
        "id": "XT6tgr9bYXAt",
        "outputId": "651bb0ef-a0a5-48a6-e36c-3dae88dd3a4f"
      },
      "source": [
        "dfja['tweet'].apply(lambda x: TextBlob(x,analyzer=NaiveBayesAnalyzer()))\r\n",
        "dfja['TextBlob_sentiment']= dfja['tweet'].apply(lambda x: TextBlob(x).sentiment)\r\n",
        "dfja"
      ],
      "execution_count": null,
      "outputs": [
        {
          "output_type": "execute_result",
          "data": {
            "text/html": [
              "<div>\n",
              "<style scoped>\n",
              "    .dataframe tbody tr th:only-of-type {\n",
              "        vertical-align: middle;\n",
              "    }\n",
              "\n",
              "    .dataframe tbody tr th {\n",
              "        vertical-align: top;\n",
              "    }\n",
              "\n",
              "    .dataframe thead th {\n",
              "        text-align: right;\n",
              "    }\n",
              "</style>\n",
              "<table border=\"1\" class=\"dataframe\">\n",
              "  <thead>\n",
              "    <tr style=\"text-align: right;\">\n",
              "      <th></th>\n",
              "      <th>index_col</th>\n",
              "      <th>location</th>\n",
              "      <th>tweet</th>\n",
              "      <th>Date</th>\n",
              "      <th>Tweet Coordinates</th>\n",
              "      <th>TextBlob_sentiment</th>\n",
              "    </tr>\n",
              "    <tr>\n",
              "      <th>user</th>\n",
              "      <th></th>\n",
              "      <th></th>\n",
              "      <th></th>\n",
              "      <th></th>\n",
              "      <th></th>\n",
              "      <th></th>\n",
              "    </tr>\n",
              "  </thead>\n",
              "  <tbody>\n",
              "    <tr>\n",
              "      <th>Ln__o0</th>\n",
              "      <td>1</td>\n",
              "      <td>ゲームしてる人だけᔦꙬᔨ</td>\n",
              "      <td>yuk1dqma_quad 私の2リグか4リグ更新してもろて</td>\n",
              "      <td>2020-11-30 15:03:14</td>\n",
              "      <td>NaN</td>\n",
              "      <td>(0.0, 0.0)</td>\n",
              "    </tr>\n",
              "    <tr>\n",
              "      <th>QUad_R_ANgle</th>\n",
              "      <td>2</td>\n",
              "      <td>///りがくぶ・くりかえす・ふじまめ ←一言メッセージ</td>\n",
              "      <td>samemizu ゲーム開発初めて6か月ついにアプリをリリース出来ましたくっつきパズル のび...</td>\n",
              "      <td>2020-11-30 15:03:40</td>\n",
              "      <td>NaN</td>\n",
              "      <td>(0.0, 0.0)</td>\n",
              "    </tr>\n",
              "    <tr>\n",
              "      <th>QUad_R_ANgle</th>\n",
              "      <td>3</td>\n",
              "      <td>///りがくぶ・くりかえす・ふじまめ ←一言メッセージ</td>\n",
              "      <td>今日からペンパアドベントか</td>\n",
              "      <td>2020-11-30 15:04:40</td>\n",
              "      <td>NaN</td>\n",
              "      <td>(0.0, 0.0)</td>\n",
              "    </tr>\n",
              "    <tr>\n",
              "      <th>hisakdan4</th>\n",
              "      <td>4</td>\n",
              "      <td>.gif</td>\n",
              "      <td>キーボード足で踏んでsegaをquadする動画めっちゃ見たいですね</td>\n",
              "      <td>2020-11-30 15:07:34</td>\n",
              "      <td>NaN</td>\n",
              "      <td>(0.0, 0.0)</td>\n",
              "    </tr>\n",
              "    <tr>\n",
              "      <th>yuk1dqma_quad</th>\n",
              "      <td>5</td>\n",
              "      <td>クアホしか勝たん♡</td>\n",
              "      <td>ln__o0 任せてください</td>\n",
              "      <td>2020-11-30 15:08:46</td>\n",
              "      <td>NaN</td>\n",
              "      <td>(0.0, 0.0)</td>\n",
              "    </tr>\n",
              "    <tr>\n",
              "      <th>...</th>\n",
              "      <td>...</td>\n",
              "      <td>...</td>\n",
              "      <td>...</td>\n",
              "      <td>...</td>\n",
              "      <td>...</td>\n",
              "      <td>...</td>\n",
              "    </tr>\n",
              "    <tr>\n",
              "      <th>riekohayakawa</th>\n",
              "      <td>4624</td>\n",
              "      <td>Pacific-NZ-Kyoto</td>\n",
              "      <td>インドとオセアニア可能性と機会 クレオパスカルとファカファヌア卿 インド太平洋研究会indo...</td>\n",
              "      <td>2021-01-09 21:49:14</td>\n",
              "      <td>NaN</td>\n",
              "      <td>(0.0, 0.0)</td>\n",
              "    </tr>\n",
              "    <tr>\n",
              "      <th>LesFW7SuraWxotB</th>\n",
              "      <td>4625</td>\n",
              "      <td>［呪い返し］</td>\n",
              "      <td>riekohayakawa インドとオセアニア可能性と機会 クレオパスカルとファカファヌア卿...</td>\n",
              "      <td>2021-01-09 21:56:10</td>\n",
              "      <td>NaN</td>\n",
              "      <td>(0.0, 0.0)</td>\n",
              "    </tr>\n",
              "    <tr>\n",
              "      <th>riuemonn</th>\n",
              "      <td>4626</td>\n",
              "      <td>２４時間ついった監視業(ﾟσ ﾟ) ﾎｼﾞﾎｼﾞ</td>\n",
              "      <td>riekohayakawa インドとオセアニア可能性と機会 クレオパスカルとファカファヌア卿...</td>\n",
              "      <td>2021-01-09 22:28:59</td>\n",
              "      <td>NaN</td>\n",
              "      <td>(0.0, 0.0)</td>\n",
              "    </tr>\n",
              "    <tr>\n",
              "      <th>FumiNozoe</th>\n",
              "      <td>4627</td>\n",
              "      <td>NaN</td>\n",
              "      <td>ルールに基づいたインド太平洋戦略というならディエゴガルシアからはじめよとたしかに民主主義や自...</td>\n",
              "      <td>2021-01-10 02:59:11</td>\n",
              "      <td>NaN</td>\n",
              "      <td>(0.0, 0.0)</td>\n",
              "    </tr>\n",
              "    <tr>\n",
              "      <th>sharkisamazing</th>\n",
              "      <td>4628</td>\n",
              "      <td>NaN</td>\n",
              "      <td>レモンザメ全長38mまで 生息地インド太平洋の熱帯域sicklefin lemmon sha...</td>\n",
              "      <td>2021-01-10 04:54:34</td>\n",
              "      <td>NaN</td>\n",
              "      <td>(0.0, 0.0)</td>\n",
              "    </tr>\n",
              "  </tbody>\n",
              "</table>\n",
              "<p>4628 rows × 6 columns</p>\n",
              "</div>"
            ],
            "text/plain": [
              "                 index_col  ... TextBlob_sentiment\n",
              "user                        ...                   \n",
              "Ln__o0                   1  ...         (0.0, 0.0)\n",
              "QUad_R_ANgle             2  ...         (0.0, 0.0)\n",
              "QUad_R_ANgle             3  ...         (0.0, 0.0)\n",
              "hisakdan4                4  ...         (0.0, 0.0)\n",
              "yuk1dqma_quad            5  ...         (0.0, 0.0)\n",
              "...                    ...  ...                ...\n",
              "riekohayakawa         4624  ...         (0.0, 0.0)\n",
              "LesFW7SuraWxotB       4625  ...         (0.0, 0.0)\n",
              "riuemonn              4626  ...         (0.0, 0.0)\n",
              "FumiNozoe             4627  ...         (0.0, 0.0)\n",
              "sharkisamazing        4628  ...         (0.0, 0.0)\n",
              "\n",
              "[4628 rows x 6 columns]"
            ]
          },
          "metadata": {
            "tags": []
          },
          "execution_count": 32
        }
      ]
    },
    {
      "cell_type": "code",
      "metadata": {
        "id": "BIp5TmtATTpZ"
      },
      "source": [
        "#Sentiment analyzer function:\n",
        "def analyze_sentiment(tweet):\n",
        " count_total=0\n",
        " count_pos=0\n",
        " count_neg=0\n",
        " count_neut=0 \n",
        "\n",
        " analysis = TextBlob(tweet)\n",
        " \n",
        " if analysis.sentiment.polarity > 0:\n",
        "  count_pos=count_pos+1\n",
        "  count_total=count_total+1\n",
        "  return 'Positive'\n",
        " \n",
        " elif analysis.sentiment.polarity ==0:\n",
        "  count_neut+=1\n",
        "  count_total=count_total+1\n",
        "  return 'Neutral'\n",
        " else:\n",
        "  count_neg=count_neg+1\n",
        "  count_total=count_total+1\n",
        "  return 'Negative'\n",
        "\n",
        "\n"
      ],
      "execution_count": null,
      "outputs": []
    },
    {
      "cell_type": "code",
      "metadata": {
        "id": "2wvTqTSiVfBI"
      },
      "source": [
        "df['Sentiment_new'] = df['tweet'].apply(lambda x: analyze_sentiment(x))"
      ],
      "execution_count": null,
      "outputs": []
    },
    {
      "cell_type": "code",
      "metadata": {
        "id": "0Dw9qJtKQPA-",
        "colab": {
          "base_uri": "https://localhost:8080/",
          "height": 431
        },
        "outputId": "a705d8d0-6a7c-4754-c1ef-de1d001edaca"
      },
      "source": [
        "df"
      ],
      "execution_count": null,
      "outputs": [
        {
          "output_type": "execute_result",
          "data": {
            "text/html": [
              "<div>\n",
              "<style scoped>\n",
              "    .dataframe tbody tr th:only-of-type {\n",
              "        vertical-align: middle;\n",
              "    }\n",
              "\n",
              "    .dataframe tbody tr th {\n",
              "        vertical-align: top;\n",
              "    }\n",
              "\n",
              "    .dataframe thead th {\n",
              "        text-align: right;\n",
              "    }\n",
              "</style>\n",
              "<table border=\"1\" class=\"dataframe\">\n",
              "  <thead>\n",
              "    <tr style=\"text-align: right;\">\n",
              "      <th></th>\n",
              "      <th>index_col</th>\n",
              "      <th>location</th>\n",
              "      <th>tweet</th>\n",
              "      <th>Date</th>\n",
              "      <th>Tweet Coordinates</th>\n",
              "      <th>TextBlob_sentiment</th>\n",
              "      <th>Sentiment_new</th>\n",
              "    </tr>\n",
              "    <tr>\n",
              "      <th>user</th>\n",
              "      <th></th>\n",
              "      <th></th>\n",
              "      <th></th>\n",
              "      <th></th>\n",
              "      <th></th>\n",
              "      <th></th>\n",
              "      <th></th>\n",
              "    </tr>\n",
              "  </thead>\n",
              "  <tbody>\n",
              "    <tr>\n",
              "      <th>jagadishrjain</th>\n",
              "      <td>1</td>\n",
              "      <td>Hyderabad</td>\n",
              "      <td>rrrameshrrr 50 of the quad japan australia and...</td>\n",
              "      <td>2020-11-15 09:00:05</td>\n",
              "      <td>NaN</td>\n",
              "      <td>(0.06818181818181818, 0.7272727272727273)</td>\n",
              "      <td>Positive</td>\n",
              "    </tr>\n",
              "    <tr>\n",
              "      <th>hellfire_81</th>\n",
              "      <td>2</td>\n",
              "      <td>NaN</td>\n",
              "      <td>coolquad riplegic military grouping httpstcocx...</td>\n",
              "      <td>2020-11-15 09:09:46</td>\n",
              "      <td>NaN</td>\n",
              "      <td>(-0.1, 0.1)</td>\n",
              "      <td>Negative</td>\n",
              "    </tr>\n",
              "    <tr>\n",
              "      <th>Savitri4Ever</th>\n",
              "      <td>3</td>\n",
              "      <td>NaN</td>\n",
              "      <td>hellfire_81 coolquad riplegic military groupin...</td>\n",
              "      <td>2020-11-15 09:19:10</td>\n",
              "      <td>NaN</td>\n",
              "      <td>(-0.1, 0.1)</td>\n",
              "      <td>Negative</td>\n",
              "    </tr>\n",
              "    <tr>\n",
              "      <th>orfonline</th>\n",
              "      <td>4</td>\n",
              "      <td>India</td>\n",
              "      <td>the creation of the quad with implications for...</td>\n",
              "      <td>2020-11-15 09:25:00</td>\n",
              "      <td>NaN</td>\n",
              "      <td>(-0.25, 0.4)</td>\n",
              "      <td>Negative</td>\n",
              "    </tr>\n",
              "    <tr>\n",
              "      <th>InsightGL</th>\n",
              "      <td>5</td>\n",
              "      <td>NaN</td>\n",
              "      <td>asthana_shashi jaishankar attends east asia su...</td>\n",
              "      <td>2020-11-15 09:36:43</td>\n",
              "      <td>NaN</td>\n",
              "      <td>(-0.2, 0.5)</td>\n",
              "      <td>Negative</td>\n",
              "    </tr>\n",
              "    <tr>\n",
              "      <th>...</th>\n",
              "      <td>...</td>\n",
              "      <td>...</td>\n",
              "      <td>...</td>\n",
              "      <td>...</td>\n",
              "      <td>...</td>\n",
              "      <td>...</td>\n",
              "      <td>...</td>\n",
              "    </tr>\n",
              "    <tr>\n",
              "      <th>RamKuma19784093</th>\n",
              "      <td>29495</td>\n",
              "      <td>Puducherry</td>\n",
              "      <td>india france discuss counterterrorism cooperat...</td>\n",
              "      <td>2021-01-10 06:52:00</td>\n",
              "      <td>NaN</td>\n",
              "      <td>(0.0, 0.0)</td>\n",
              "      <td>Neutral</td>\n",
              "    </tr>\n",
              "    <tr>\n",
              "      <th>CPR_India</th>\n",
              "      <td>29496</td>\n",
              "      <td>New Delhi</td>\n",
              "      <td>as quad prepares to meet the chinese challenge...</td>\n",
              "      <td>2021-01-10 07:30:00</td>\n",
              "      <td>NaN</td>\n",
              "      <td>(0.0, 0.0)</td>\n",
              "      <td>Neutral</td>\n",
              "    </tr>\n",
              "    <tr>\n",
              "      <th>Resort_Skelin</th>\n",
              "      <td>29497</td>\n",
              "      <td>Hrvatska</td>\n",
              "      <td>every team is different lets create a perfect ...</td>\n",
              "      <td>2021-01-10 07:31:08</td>\n",
              "      <td>NaN</td>\n",
              "      <td>(0.5, 0.8)</td>\n",
              "      <td>Positive</td>\n",
              "    </tr>\n",
              "    <tr>\n",
              "      <th>KBhairava1</th>\n",
              "      <td>29498</td>\n",
              "      <td>NaN</td>\n",
              "      <td>this here is very tricky yes its true aussies ...</td>\n",
              "      <td>2021-01-10 07:39:52</td>\n",
              "      <td>NaN</td>\n",
              "      <td>(0.2287878787878788, 0.4681818181818182)</td>\n",
              "      <td>Positive</td>\n",
              "    </tr>\n",
              "    <tr>\n",
              "      <th>Deepakk79951168</th>\n",
              "      <td>29499</td>\n",
              "      <td>Deoghar, Jharkhand</td>\n",
              "      <td>cpr_india as quad prepares to meet the chinese...</td>\n",
              "      <td>2021-01-10 07:52:47</td>\n",
              "      <td>NaN</td>\n",
              "      <td>(0.20000000000000004, 0.45)</td>\n",
              "      <td>Positive</td>\n",
              "    </tr>\n",
              "  </tbody>\n",
              "</table>\n",
              "<p>29499 rows × 7 columns</p>\n",
              "</div>"
            ],
            "text/plain": [
              "                 index_col  ... Sentiment_new\n",
              "user                        ...              \n",
              "jagadishrjain            1  ...      Positive\n",
              "hellfire_81              2  ...      Negative\n",
              "Savitri4Ever             3  ...      Negative\n",
              "orfonline                4  ...      Negative\n",
              "InsightGL                5  ...      Negative\n",
              "...                    ...  ...           ...\n",
              "RamKuma19784093      29495  ...       Neutral\n",
              "CPR_India            29496  ...       Neutral\n",
              "Resort_Skelin        29497  ...      Positive\n",
              "KBhairava1           29498  ...      Positive\n",
              "Deepakk79951168      29499  ...      Positive\n",
              "\n",
              "[29499 rows x 7 columns]"
            ]
          },
          "metadata": {
            "tags": []
          },
          "execution_count": 35
        }
      ]
    },
    {
      "cell_type": "code",
      "metadata": {
        "colab": {
          "base_uri": "https://localhost:8080/",
          "height": 784
        },
        "id": "3mj5daJQYqFI",
        "outputId": "78ba7018-b125-4c0d-c77b-79bbb900f16d"
      },
      "source": [
        "dfja['Sentiment_new'] = dfja['tweet'].apply(lambda x: analyze_sentiment(x))\r\n",
        "dfja"
      ],
      "execution_count": null,
      "outputs": [
        {
          "output_type": "execute_result",
          "data": {
            "text/html": [
              "<div>\n",
              "<style scoped>\n",
              "    .dataframe tbody tr th:only-of-type {\n",
              "        vertical-align: middle;\n",
              "    }\n",
              "\n",
              "    .dataframe tbody tr th {\n",
              "        vertical-align: top;\n",
              "    }\n",
              "\n",
              "    .dataframe thead th {\n",
              "        text-align: right;\n",
              "    }\n",
              "</style>\n",
              "<table border=\"1\" class=\"dataframe\">\n",
              "  <thead>\n",
              "    <tr style=\"text-align: right;\">\n",
              "      <th></th>\n",
              "      <th>index_col</th>\n",
              "      <th>location</th>\n",
              "      <th>tweet</th>\n",
              "      <th>Date</th>\n",
              "      <th>Tweet Coordinates</th>\n",
              "      <th>English</th>\n",
              "      <th>TextBlob_sentiment</th>\n",
              "      <th>Sentiment_new</th>\n",
              "    </tr>\n",
              "    <tr>\n",
              "      <th>user</th>\n",
              "      <th></th>\n",
              "      <th></th>\n",
              "      <th></th>\n",
              "      <th></th>\n",
              "      <th></th>\n",
              "      <th></th>\n",
              "      <th></th>\n",
              "      <th></th>\n",
              "    </tr>\n",
              "  </thead>\n",
              "  <tbody>\n",
              "    <tr>\n",
              "      <th>Ln__o0</th>\n",
              "      <td>1</td>\n",
              "      <td>ゲームしてる人だけᔦꙬᔨ</td>\n",
              "      <td>yuk1dqma_quad 私の2リグか4リグ更新してもろて</td>\n",
              "      <td>2020-11-30 15:03:14</td>\n",
              "      <td>NaN</td>\n",
              "      <td>yuk1dqma_quad Update my 2 rig or 4 rig</td>\n",
              "      <td>(0.0, 0.0)</td>\n",
              "      <td>Neutral</td>\n",
              "    </tr>\n",
              "    <tr>\n",
              "      <th>QUad_R_ANgle</th>\n",
              "      <td>2</td>\n",
              "      <td>///りがくぶ・くりかえす・ふじまめ ←一言メッセージ</td>\n",
              "      <td>samemizu ゲーム開発初めて6か月ついにアプリをリリース出来ましたくっつきパズル のび...</td>\n",
              "      <td>2020-11-30 15:03:40</td>\n",
              "      <td>NaN</td>\n",
              "      <td>samemizu Game development First 6 months I fin...</td>\n",
              "      <td>(0.0, 0.0)</td>\n",
              "      <td>Neutral</td>\n",
              "    </tr>\n",
              "    <tr>\n",
              "      <th>QUad_R_ANgle</th>\n",
              "      <td>3</td>\n",
              "      <td>///りがくぶ・くりかえす・ふじまめ ←一言メッセージ</td>\n",
              "      <td>今日からペンパアドベントか</td>\n",
              "      <td>2020-11-30 15:04:40</td>\n",
              "      <td>NaN</td>\n",
              "      <td>Is it Penpa Advent from today?</td>\n",
              "      <td>(0.0, 0.0)</td>\n",
              "      <td>Neutral</td>\n",
              "    </tr>\n",
              "    <tr>\n",
              "      <th>hisakdan4</th>\n",
              "      <td>4</td>\n",
              "      <td>.gif</td>\n",
              "      <td>キーボード足で踏んでsegaをquadする動画めっちゃ見たいですね</td>\n",
              "      <td>2020-11-30 15:07:34</td>\n",
              "      <td>NaN</td>\n",
              "      <td>I really want to see a video that quads sega b...</td>\n",
              "      <td>(0.0, 0.0)</td>\n",
              "      <td>Neutral</td>\n",
              "    </tr>\n",
              "    <tr>\n",
              "      <th>yuk1dqma_quad</th>\n",
              "      <td>5</td>\n",
              "      <td>クアホしか勝たん♡</td>\n",
              "      <td>ln__o0 任せてください</td>\n",
              "      <td>2020-11-30 15:08:46</td>\n",
              "      <td>NaN</td>\n",
              "      <td>ln__o0 leave it to me</td>\n",
              "      <td>(0.0, 0.0)</td>\n",
              "      <td>Neutral</td>\n",
              "    </tr>\n",
              "    <tr>\n",
              "      <th>...</th>\n",
              "      <td>...</td>\n",
              "      <td>...</td>\n",
              "      <td>...</td>\n",
              "      <td>...</td>\n",
              "      <td>...</td>\n",
              "      <td>...</td>\n",
              "      <td>...</td>\n",
              "      <td>...</td>\n",
              "    </tr>\n",
              "    <tr>\n",
              "      <th>Hiromi_HIROSE</th>\n",
              "      <td>2404</td>\n",
              "      <td>NaN</td>\n",
              "      <td>アメリカがインドの新しい大使館の建物の工事を開始2027年秋に完成する予定チャナキャプリ地区...</td>\n",
              "      <td>2021-01-09 12:25:39</td>\n",
              "      <td>NaN</td>\n",
              "      <td>アメリカがインドの新しい大使館の建物の工事を開始2027年秋に完成する予定チャナキャプリ地区...</td>\n",
              "      <td>(0.0, 0.0)</td>\n",
              "      <td>Neutral</td>\n",
              "    </tr>\n",
              "    <tr>\n",
              "      <th>QJapq2v5xFfgq0h</th>\n",
              "      <td>2405</td>\n",
              "      <td>NaN</td>\n",
              "      <td>hiromi_hirose アメリカがインドの新しい大使館の建物の工事を開始2027年秋に完...</td>\n",
              "      <td>2021-01-09 12:30:13</td>\n",
              "      <td>NaN</td>\n",
              "      <td>hiromi_hirose アメリカがインドの新しい大使館の建物の工事を開始2027年秋に完...</td>\n",
              "      <td>(0.0, 0.0)</td>\n",
              "      <td>Neutral</td>\n",
              "    </tr>\n",
              "    <tr>\n",
              "      <th>riekohayakawa</th>\n",
              "      <td>2406</td>\n",
              "      <td>Pacific-NZ-Kyoto</td>\n",
              "      <td>インドとオセアニア可能性と機会 クレオパスカルとファカファヌア卿 インド太平洋研究会indo...</td>\n",
              "      <td>2021-01-09 21:49:14</td>\n",
              "      <td>NaN</td>\n",
              "      <td>インドとオセアニア可能性と機会 クレオパスカルとファカファヌア卿 インド太平洋研究会indo...</td>\n",
              "      <td>(0.0, 0.0)</td>\n",
              "      <td>Neutral</td>\n",
              "    </tr>\n",
              "    <tr>\n",
              "      <th>LesFW7SuraWxotB</th>\n",
              "      <td>2407</td>\n",
              "      <td>［呪い返し］</td>\n",
              "      <td>riekohayakawa インドとオセアニア可能性と機会 クレオパスカルとファカファヌア卿...</td>\n",
              "      <td>2021-01-09 21:56:10</td>\n",
              "      <td>NaN</td>\n",
              "      <td>riekohayakawa インドとオセアニア可能性と機会 クレオパスカルとファカファヌア卿...</td>\n",
              "      <td>(0.0, 0.0)</td>\n",
              "      <td>Neutral</td>\n",
              "    </tr>\n",
              "    <tr>\n",
              "      <th>FumiNozoe</th>\n",
              "      <td>2408</td>\n",
              "      <td>NaN</td>\n",
              "      <td>ルールに基づいたインド太平洋戦略というならディエゴガルシアからはじめよとたしかに民主主義や自...</td>\n",
              "      <td>2021-01-10 02:59:11</td>\n",
              "      <td>NaN</td>\n",
              "      <td>ルールに基づいたインド太平洋戦略というならディエゴガルシアからはじめよとたしかに民主主義や自...</td>\n",
              "      <td>(0.0, 0.0)</td>\n",
              "      <td>Neutral</td>\n",
              "    </tr>\n",
              "  </tbody>\n",
              "</table>\n",
              "<p>2408 rows × 8 columns</p>\n",
              "</div>"
            ],
            "text/plain": [
              "                 index_col  ... Sentiment_new\n",
              "user                        ...              \n",
              "Ln__o0                   1  ...       Neutral\n",
              "QUad_R_ANgle             2  ...       Neutral\n",
              "QUad_R_ANgle             3  ...       Neutral\n",
              "hisakdan4                4  ...       Neutral\n",
              "yuk1dqma_quad            5  ...       Neutral\n",
              "...                    ...  ...           ...\n",
              "Hiromi_HIROSE         2404  ...       Neutral\n",
              "QJapq2v5xFfgq0h       2405  ...       Neutral\n",
              "riekohayakawa         2406  ...       Neutral\n",
              "LesFW7SuraWxotB       2407  ...       Neutral\n",
              "FumiNozoe             2408  ...       Neutral\n",
              "\n",
              "[2408 rows x 8 columns]"
            ]
          },
          "metadata": {
            "tags": []
          },
          "execution_count": 43
        }
      ]
    },
    {
      "cell_type": "code",
      "metadata": {
        "id": "tUe3PSgvQPX7"
      },
      "source": [
        "#Sentiment analyzer function:\n",
        "def analyze_sentiment2(tweet):\n",
        " count_total=0\n",
        " count_pos=0\n",
        " count_neg=0\n",
        " count_neut=0 \n",
        "\n",
        " analysis = TextBlob(tweet)\n",
        " if analysis.sentiment.polarity > 0:\n",
        "  count_pos=count_pos+1\n",
        "  count_total=count_total+1\n",
        "  return 1\n",
        " \n",
        " elif analysis.sentiment.polarity ==0:\n",
        "  count_neut+=1\n",
        "  count_total=count_total+1\n",
        "  return 0\n",
        " else:\n",
        "  count_neg=count_neg+1\n",
        "  count_total=count_total+1\n",
        "  return 0\n",
        "\n"
      ],
      "execution_count": null,
      "outputs": []
    },
    {
      "cell_type": "code",
      "metadata": {
        "id": "2fl774ItQPX7"
      },
      "source": [
        "df['Sentiment_value'] = df['tweet'].apply(lambda x: analyze_sentiment2(x))"
      ],
      "execution_count": null,
      "outputs": []
    },
    {
      "cell_type": "code",
      "metadata": {
        "colab": {
          "base_uri": "https://localhost:8080/",
          "height": 616
        },
        "id": "6ocbxCPAVhmP",
        "outputId": "6675572e-7eda-44c8-8930-b3e41a6e8651"
      },
      "source": [
        "df"
      ],
      "execution_count": null,
      "outputs": [
        {
          "output_type": "execute_result",
          "data": {
            "text/html": [
              "<div>\n",
              "<style scoped>\n",
              "    .dataframe tbody tr th:only-of-type {\n",
              "        vertical-align: middle;\n",
              "    }\n",
              "\n",
              "    .dataframe tbody tr th {\n",
              "        vertical-align: top;\n",
              "    }\n",
              "\n",
              "    .dataframe thead th {\n",
              "        text-align: right;\n",
              "    }\n",
              "</style>\n",
              "<table border=\"1\" class=\"dataframe\">\n",
              "  <thead>\n",
              "    <tr style=\"text-align: right;\">\n",
              "      <th></th>\n",
              "      <th>index_col</th>\n",
              "      <th>location</th>\n",
              "      <th>tweet</th>\n",
              "      <th>Date</th>\n",
              "      <th>Tweet Coordinates</th>\n",
              "      <th>TextBlob_sentiment</th>\n",
              "      <th>Sentiment_new</th>\n",
              "      <th>Sentiment_value</th>\n",
              "    </tr>\n",
              "    <tr>\n",
              "      <th>user</th>\n",
              "      <th></th>\n",
              "      <th></th>\n",
              "      <th></th>\n",
              "      <th></th>\n",
              "      <th></th>\n",
              "      <th></th>\n",
              "      <th></th>\n",
              "      <th></th>\n",
              "    </tr>\n",
              "  </thead>\n",
              "  <tbody>\n",
              "    <tr>\n",
              "      <th>jagadishrjain</th>\n",
              "      <td>1</td>\n",
              "      <td>Hyderabad</td>\n",
              "      <td>rrrameshrrr 50 of the quad japan australia and...</td>\n",
              "      <td>2020-11-15 09:00:05</td>\n",
              "      <td>NaN</td>\n",
              "      <td>(0.06818181818181818, 0.7272727272727273)</td>\n",
              "      <td>Positive</td>\n",
              "      <td>1</td>\n",
              "    </tr>\n",
              "    <tr>\n",
              "      <th>hellfire_81</th>\n",
              "      <td>2</td>\n",
              "      <td>NaN</td>\n",
              "      <td>coolquad riplegic military grouping httpstcocx...</td>\n",
              "      <td>2020-11-15 09:09:46</td>\n",
              "      <td>NaN</td>\n",
              "      <td>(-0.1, 0.1)</td>\n",
              "      <td>Negative</td>\n",
              "      <td>0</td>\n",
              "    </tr>\n",
              "    <tr>\n",
              "      <th>Savitri4Ever</th>\n",
              "      <td>3</td>\n",
              "      <td>NaN</td>\n",
              "      <td>hellfire_81 coolquad riplegic military groupin...</td>\n",
              "      <td>2020-11-15 09:19:10</td>\n",
              "      <td>NaN</td>\n",
              "      <td>(-0.1, 0.1)</td>\n",
              "      <td>Negative</td>\n",
              "      <td>0</td>\n",
              "    </tr>\n",
              "    <tr>\n",
              "      <th>orfonline</th>\n",
              "      <td>4</td>\n",
              "      <td>India</td>\n",
              "      <td>the creation of the quad with implications for...</td>\n",
              "      <td>2020-11-15 09:25:00</td>\n",
              "      <td>NaN</td>\n",
              "      <td>(-0.25, 0.4)</td>\n",
              "      <td>Negative</td>\n",
              "      <td>0</td>\n",
              "    </tr>\n",
              "    <tr>\n",
              "      <th>InsightGL</th>\n",
              "      <td>5</td>\n",
              "      <td>NaN</td>\n",
              "      <td>asthana_shashi jaishankar attends east asia su...</td>\n",
              "      <td>2020-11-15 09:36:43</td>\n",
              "      <td>NaN</td>\n",
              "      <td>(-0.2, 0.5)</td>\n",
              "      <td>Negative</td>\n",
              "      <td>0</td>\n",
              "    </tr>\n",
              "    <tr>\n",
              "      <th>...</th>\n",
              "      <td>...</td>\n",
              "      <td>...</td>\n",
              "      <td>...</td>\n",
              "      <td>...</td>\n",
              "      <td>...</td>\n",
              "      <td>...</td>\n",
              "      <td>...</td>\n",
              "      <td>...</td>\n",
              "    </tr>\n",
              "    <tr>\n",
              "      <th>RamKuma19784093</th>\n",
              "      <td>29495</td>\n",
              "      <td>Puducherry</td>\n",
              "      <td>india france discuss counterterrorism cooperat...</td>\n",
              "      <td>2021-01-10 06:52:00</td>\n",
              "      <td>NaN</td>\n",
              "      <td>(0.0, 0.0)</td>\n",
              "      <td>Neutral</td>\n",
              "      <td>0</td>\n",
              "    </tr>\n",
              "    <tr>\n",
              "      <th>CPR_India</th>\n",
              "      <td>29496</td>\n",
              "      <td>New Delhi</td>\n",
              "      <td>as quad prepares to meet the chinese challenge...</td>\n",
              "      <td>2021-01-10 07:30:00</td>\n",
              "      <td>NaN</td>\n",
              "      <td>(0.0, 0.0)</td>\n",
              "      <td>Neutral</td>\n",
              "      <td>0</td>\n",
              "    </tr>\n",
              "    <tr>\n",
              "      <th>Resort_Skelin</th>\n",
              "      <td>29497</td>\n",
              "      <td>Hrvatska</td>\n",
              "      <td>every team is different lets create a perfect ...</td>\n",
              "      <td>2021-01-10 07:31:08</td>\n",
              "      <td>NaN</td>\n",
              "      <td>(0.5, 0.8)</td>\n",
              "      <td>Positive</td>\n",
              "      <td>1</td>\n",
              "    </tr>\n",
              "    <tr>\n",
              "      <th>KBhairava1</th>\n",
              "      <td>29498</td>\n",
              "      <td>NaN</td>\n",
              "      <td>this here is very tricky yes its true aussies ...</td>\n",
              "      <td>2021-01-10 07:39:52</td>\n",
              "      <td>NaN</td>\n",
              "      <td>(0.2287878787878788, 0.4681818181818182)</td>\n",
              "      <td>Positive</td>\n",
              "      <td>1</td>\n",
              "    </tr>\n",
              "    <tr>\n",
              "      <th>Deepakk79951168</th>\n",
              "      <td>29499</td>\n",
              "      <td>Deoghar, Jharkhand</td>\n",
              "      <td>cpr_india as quad prepares to meet the chinese...</td>\n",
              "      <td>2021-01-10 07:52:47</td>\n",
              "      <td>NaN</td>\n",
              "      <td>(0.20000000000000004, 0.45)</td>\n",
              "      <td>Positive</td>\n",
              "      <td>1</td>\n",
              "    </tr>\n",
              "  </tbody>\n",
              "</table>\n",
              "<p>29499 rows × 8 columns</p>\n",
              "</div>"
            ],
            "text/plain": [
              "                 index_col            location  ... Sentiment_new Sentiment_value\n",
              "user                                            ...                              \n",
              "jagadishrjain            1           Hyderabad  ...      Positive               1\n",
              "hellfire_81              2                 NaN  ...      Negative               0\n",
              "Savitri4Ever             3                 NaN  ...      Negative               0\n",
              "orfonline                4               India  ...      Negative               0\n",
              "InsightGL                5                 NaN  ...      Negative               0\n",
              "...                    ...                 ...  ...           ...             ...\n",
              "RamKuma19784093      29495          Puducherry  ...       Neutral               0\n",
              "CPR_India            29496           New Delhi  ...       Neutral               0\n",
              "Resort_Skelin        29497            Hrvatska  ...      Positive               1\n",
              "KBhairava1           29498                 NaN  ...      Positive               1\n",
              "Deepakk79951168      29499  Deoghar, Jharkhand  ...      Positive               1\n",
              "\n",
              "[29499 rows x 8 columns]"
            ]
          },
          "metadata": {
            "tags": []
          },
          "execution_count": 38
        }
      ]
    },
    {
      "cell_type": "code",
      "metadata": {
        "colab": {
          "base_uri": "https://localhost:8080/"
        },
        "id": "xZvGLvjgkb02",
        "outputId": "82975577-8b52-407b-a50a-b99d4b604235"
      },
      "source": [
        "df.Sentiment_new.value_counts()"
      ],
      "execution_count": null,
      "outputs": [
        {
          "output_type": "execute_result",
          "data": {
            "text/plain": [
              "Neutral     13185\n",
              "Positive    12183\n",
              "Negative     4131\n",
              "Name: Sentiment_new, dtype: int64"
            ]
          },
          "metadata": {
            "tags": []
          },
          "execution_count": 39
        }
      ]
    },
    {
      "cell_type": "code",
      "metadata": {
        "colab": {
          "base_uri": "https://localhost:8080/"
        },
        "id": "wQEkPkI0Y06A",
        "outputId": "894d5325-a7c8-4781-89d1-e55cbe85303e"
      },
      "source": [
        "dfja.Sentiment_new.value_counts()"
      ],
      "execution_count": null,
      "outputs": [
        {
          "output_type": "execute_result",
          "data": {
            "text/plain": [
              "Neutral     2373\n",
              "Positive      33\n",
              "Negative       2\n",
              "Name: Sentiment_new, dtype: int64"
            ]
          },
          "metadata": {
            "tags": []
          },
          "execution_count": 52
        }
      ]
    },
    {
      "cell_type": "code",
      "metadata": {
        "id": "asoD9_OWM8ZK"
      },
      "source": [
        "import pandas as pd\r\n",
        "import numpy as np\r\n",
        "import matplotlib.pyplot as plt\r\n",
        "plt.style.use('seaborn')\r\n",
        "import seaborn as sns\r\n",
        "import nltk\r\n",
        "import re\r\n",
        "import wordcloud\r\n",
        "import warnings"
      ],
      "execution_count": null,
      "outputs": []
    },
    {
      "cell_type": "code",
      "metadata": {
        "colab": {
          "base_uri": "https://localhost:8080/",
          "height": 616
        },
        "id": "2HO6KuUCNyTF",
        "outputId": "2dcdaf70-d0c4-4cd4-abdf-7c8ba60e99f8"
      },
      "source": [
        "\r\n",
        "from textblob import TextBlob\r\n",
        "\r\n",
        "#get the subjectivity\r\n",
        "def subjectivity(txt):\r\n",
        "  return TextBlob(txt).sentiment.subjectivity\r\n",
        "\r\n",
        "#get the polarity\r\n",
        "def polarity(txt):\r\n",
        "  return TextBlob(txt).sentiment.polarity\r\n",
        "\r\n",
        "\r\n",
        "df['subjectivity'] = df['tweet'].apply(subjectivity)\r\n",
        "df['polarity'] = df['tweet'].apply(polarity)\r\n",
        "#dfja['subjectivity'] = dfja['tweet'].apply(subjectivity)\r\n",
        "#dfja['polarity'] = dfja['tweet'].apply(polarity)\r\n",
        "df"
      ],
      "execution_count": null,
      "outputs": [
        {
          "output_type": "execute_result",
          "data": {
            "text/html": [
              "<div>\n",
              "<style scoped>\n",
              "    .dataframe tbody tr th:only-of-type {\n",
              "        vertical-align: middle;\n",
              "    }\n",
              "\n",
              "    .dataframe tbody tr th {\n",
              "        vertical-align: top;\n",
              "    }\n",
              "\n",
              "    .dataframe thead th {\n",
              "        text-align: right;\n",
              "    }\n",
              "</style>\n",
              "<table border=\"1\" class=\"dataframe\">\n",
              "  <thead>\n",
              "    <tr style=\"text-align: right;\">\n",
              "      <th></th>\n",
              "      <th>index_col</th>\n",
              "      <th>location</th>\n",
              "      <th>tweet</th>\n",
              "      <th>Date</th>\n",
              "      <th>Tweet Coordinates</th>\n",
              "      <th>TextBlob_sentiment</th>\n",
              "      <th>Sentiment_new</th>\n",
              "      <th>Sentiment_value</th>\n",
              "      <th>subjectivity</th>\n",
              "      <th>polarity</th>\n",
              "    </tr>\n",
              "    <tr>\n",
              "      <th>user</th>\n",
              "      <th></th>\n",
              "      <th></th>\n",
              "      <th></th>\n",
              "      <th></th>\n",
              "      <th></th>\n",
              "      <th></th>\n",
              "      <th></th>\n",
              "      <th></th>\n",
              "      <th></th>\n",
              "      <th></th>\n",
              "    </tr>\n",
              "  </thead>\n",
              "  <tbody>\n",
              "    <tr>\n",
              "      <th>jagadishrjain</th>\n",
              "      <td>1</td>\n",
              "      <td>Hyderabad</td>\n",
              "      <td>rrrameshrrr 50 of the quad japan australia and...</td>\n",
              "      <td>2020-11-15 09:00:05</td>\n",
              "      <td>NaN</td>\n",
              "      <td>(0.06818181818181818, 0.7272727272727273)</td>\n",
              "      <td>Positive</td>\n",
              "      <td>1</td>\n",
              "      <td>0.727273</td>\n",
              "      <td>0.068182</td>\n",
              "    </tr>\n",
              "    <tr>\n",
              "      <th>hellfire_81</th>\n",
              "      <td>2</td>\n",
              "      <td>NaN</td>\n",
              "      <td>coolquad riplegic military grouping httpstcocx...</td>\n",
              "      <td>2020-11-15 09:09:46</td>\n",
              "      <td>NaN</td>\n",
              "      <td>(-0.1, 0.1)</td>\n",
              "      <td>Negative</td>\n",
              "      <td>0</td>\n",
              "      <td>0.100000</td>\n",
              "      <td>-0.100000</td>\n",
              "    </tr>\n",
              "    <tr>\n",
              "      <th>Savitri4Ever</th>\n",
              "      <td>3</td>\n",
              "      <td>NaN</td>\n",
              "      <td>hellfire_81 coolquad riplegic military groupin...</td>\n",
              "      <td>2020-11-15 09:19:10</td>\n",
              "      <td>NaN</td>\n",
              "      <td>(-0.1, 0.1)</td>\n",
              "      <td>Negative</td>\n",
              "      <td>0</td>\n",
              "      <td>0.100000</td>\n",
              "      <td>-0.100000</td>\n",
              "    </tr>\n",
              "    <tr>\n",
              "      <th>orfonline</th>\n",
              "      <td>4</td>\n",
              "      <td>India</td>\n",
              "      <td>the creation of the quad with implications for...</td>\n",
              "      <td>2020-11-15 09:25:00</td>\n",
              "      <td>NaN</td>\n",
              "      <td>(-0.25, 0.4)</td>\n",
              "      <td>Negative</td>\n",
              "      <td>0</td>\n",
              "      <td>0.400000</td>\n",
              "      <td>-0.250000</td>\n",
              "    </tr>\n",
              "    <tr>\n",
              "      <th>InsightGL</th>\n",
              "      <td>5</td>\n",
              "      <td>NaN</td>\n",
              "      <td>asthana_shashi jaishankar attends east asia su...</td>\n",
              "      <td>2020-11-15 09:36:43</td>\n",
              "      <td>NaN</td>\n",
              "      <td>(-0.2, 0.5)</td>\n",
              "      <td>Negative</td>\n",
              "      <td>0</td>\n",
              "      <td>0.500000</td>\n",
              "      <td>-0.200000</td>\n",
              "    </tr>\n",
              "    <tr>\n",
              "      <th>...</th>\n",
              "      <td>...</td>\n",
              "      <td>...</td>\n",
              "      <td>...</td>\n",
              "      <td>...</td>\n",
              "      <td>...</td>\n",
              "      <td>...</td>\n",
              "      <td>...</td>\n",
              "      <td>...</td>\n",
              "      <td>...</td>\n",
              "      <td>...</td>\n",
              "    </tr>\n",
              "    <tr>\n",
              "      <th>RamKuma19784093</th>\n",
              "      <td>29495</td>\n",
              "      <td>Puducherry</td>\n",
              "      <td>india france discuss counterterrorism cooperat...</td>\n",
              "      <td>2021-01-10 06:52:00</td>\n",
              "      <td>NaN</td>\n",
              "      <td>(0.0, 0.0)</td>\n",
              "      <td>Neutral</td>\n",
              "      <td>0</td>\n",
              "      <td>0.000000</td>\n",
              "      <td>0.000000</td>\n",
              "    </tr>\n",
              "    <tr>\n",
              "      <th>CPR_India</th>\n",
              "      <td>29496</td>\n",
              "      <td>New Delhi</td>\n",
              "      <td>as quad prepares to meet the chinese challenge...</td>\n",
              "      <td>2021-01-10 07:30:00</td>\n",
              "      <td>NaN</td>\n",
              "      <td>(0.0, 0.0)</td>\n",
              "      <td>Neutral</td>\n",
              "      <td>0</td>\n",
              "      <td>0.000000</td>\n",
              "      <td>0.000000</td>\n",
              "    </tr>\n",
              "    <tr>\n",
              "      <th>Resort_Skelin</th>\n",
              "      <td>29497</td>\n",
              "      <td>Hrvatska</td>\n",
              "      <td>every team is different lets create a perfect ...</td>\n",
              "      <td>2021-01-10 07:31:08</td>\n",
              "      <td>NaN</td>\n",
              "      <td>(0.5, 0.8)</td>\n",
              "      <td>Positive</td>\n",
              "      <td>1</td>\n",
              "      <td>0.800000</td>\n",
              "      <td>0.500000</td>\n",
              "    </tr>\n",
              "    <tr>\n",
              "      <th>KBhairava1</th>\n",
              "      <td>29498</td>\n",
              "      <td>NaN</td>\n",
              "      <td>this here is very tricky yes its true aussies ...</td>\n",
              "      <td>2021-01-10 07:39:52</td>\n",
              "      <td>NaN</td>\n",
              "      <td>(0.2287878787878788, 0.4681818181818182)</td>\n",
              "      <td>Positive</td>\n",
              "      <td>1</td>\n",
              "      <td>0.468182</td>\n",
              "      <td>0.228788</td>\n",
              "    </tr>\n",
              "    <tr>\n",
              "      <th>Deepakk79951168</th>\n",
              "      <td>29499</td>\n",
              "      <td>Deoghar, Jharkhand</td>\n",
              "      <td>cpr_india as quad prepares to meet the chinese...</td>\n",
              "      <td>2021-01-10 07:52:47</td>\n",
              "      <td>NaN</td>\n",
              "      <td>(0.20000000000000004, 0.45)</td>\n",
              "      <td>Positive</td>\n",
              "      <td>1</td>\n",
              "      <td>0.450000</td>\n",
              "      <td>0.200000</td>\n",
              "    </tr>\n",
              "  </tbody>\n",
              "</table>\n",
              "<p>29499 rows × 10 columns</p>\n",
              "</div>"
            ],
            "text/plain": [
              "                 index_col            location  ... subjectivity  polarity\n",
              "user                                            ...                       \n",
              "jagadishrjain            1           Hyderabad  ...     0.727273  0.068182\n",
              "hellfire_81              2                 NaN  ...     0.100000 -0.100000\n",
              "Savitri4Ever             3                 NaN  ...     0.100000 -0.100000\n",
              "orfonline                4               India  ...     0.400000 -0.250000\n",
              "InsightGL                5                 NaN  ...     0.500000 -0.200000\n",
              "...                    ...                 ...  ...          ...       ...\n",
              "RamKuma19784093      29495          Puducherry  ...     0.000000  0.000000\n",
              "CPR_India            29496           New Delhi  ...     0.000000  0.000000\n",
              "Resort_Skelin        29497            Hrvatska  ...     0.800000  0.500000\n",
              "KBhairava1           29498                 NaN  ...     0.468182  0.228788\n",
              "Deepakk79951168      29499  Deoghar, Jharkhand  ...     0.450000  0.200000\n",
              "\n",
              "[29499 rows x 10 columns]"
            ]
          },
          "metadata": {
            "tags": []
          },
          "execution_count": 41
        }
      ]
    },
    {
      "cell_type": "code",
      "metadata": {
        "colab": {
          "base_uri": "https://localhost:8080/",
          "height": 378
        },
        "id": "Fk8Lu-EvMwpU",
        "outputId": "45b64b59-e86c-4bc6-9fbd-82d0e0c6ece0"
      },
      "source": [
        "sns.countplot(df.Sentiment_new,palette=['green','red','blue'])"
      ],
      "execution_count": null,
      "outputs": [
        {
          "output_type": "execute_result",
          "data": {
            "text/plain": [
              "<matplotlib.axes._subplots.AxesSubplot at 0x7fa1570577b8>"
            ]
          },
          "metadata": {
            "tags": []
          },
          "execution_count": 96
        },
        {
          "output_type": "display_data",
          "data": {
            "image/png": "[encoded data removed]",
            "text/plain": [
              "<Figure size 576x396 with 1 Axes>"
            ]
          },
          "metadata": {
            "tags": []
          }
        }
      ]
    },
    {
      "cell_type": "code",
      "metadata": {
        "colab": {
          "base_uri": "https://localhost:8080/",
          "height": 431
        },
        "id": "upS880XzY81o",
        "outputId": "55ed2e95-7999-4b06-e73a-86615c12425c"
      },
      "source": [
        "sns.countplot(dfja.Sentiment_new)"
      ],
      "execution_count": null,
      "outputs": [
        {
          "output_type": "stream",
          "text": [
            "/usr/local/lib/python3.6/dist-packages/seaborn/_decorators.py:43: FutureWarning: Pass the following variable as a keyword arg: x. From version 0.12, the only valid positional argument will be `data`, and passing other arguments without an explicit keyword will result in an error or misinterpretation.\n",
            "  FutureWarning\n"
          ],
          "name": "stderr"
        },
        {
          "output_type": "execute_result",
          "data": {
            "text/plain": [
              "<matplotlib.axes._subplots.AxesSubplot at 0x7fb874af7780>"
            ]
          },
          "metadata": {
            "tags": []
          },
          "execution_count": 54
        },
        {
          "output_type": "display_data",
          "data": {
            "image/png": "[encoded data removed]",
            "text/plain": [
              "<Figure size 576x396 with 1 Axes>"
            ]
          },
          "metadata": {
            "tags": []
          }
        }
      ]
    },
    {
      "cell_type": "code",
      "metadata": {
        "colab": {
          "base_uri": "https://localhost:8080/",
          "height": 378
        },
        "id": "OPyjy7VCNd8q",
        "outputId": "54d082ef-018f-4f2a-c631-aec59c4e37ca"
      },
      "source": [
        "sns.scatterplot(x='polarity',y='subjectivity',hue=\"Sentiment_new\",\r\n",
        "                    palette=['green','red','blue'], data=df)"
      ],
      "execution_count": null,
      "outputs": [
        {
          "output_type": "execute_result",
          "data": {
            "text/plain": [
              "<matplotlib.axes._subplots.AxesSubplot at 0x7fa1570c9550>"
            ]
          },
          "metadata": {
            "tags": []
          },
          "execution_count": 95
        },
        {
          "output_type": "display_data",
          "data": {
            "image/png": "[encoded data removed]",
            "text/plain": [
              "<Figure size 576x396 with 1 Axes>"
            ]
          },
          "metadata": {
            "tags": []
          }
        }
      ]
    },
    {
      "cell_type": "code",
      "metadata": {
        "colab": {
          "base_uri": "https://localhost:8080/",
          "height": 378
        },
        "id": "JcxWuXSjZp3a",
        "outputId": "a3dae159-474e-422d-da4a-ff378b6c3707"
      },
      "source": [
        "sns.scatterplot(x='polarity',y='subjectivity',data=dfja)"
      ],
      "execution_count": null,
      "outputs": [
        {
          "output_type": "execute_result",
          "data": {
            "text/plain": [
              "<matplotlib.axes._subplots.AxesSubplot at 0x7fb873ba65c0>"
            ]
          },
          "metadata": {
            "tags": []
          },
          "execution_count": 58
        },
        {
          "output_type": "display_data",
          "data": {
            "image/png": "[encoded data removed]",
            "text/plain": [
              "<Figure size 576x396 with 1 Axes>"
            ]
          },
          "metadata": {
            "tags": []
          }
        }
      ]
    },
    {
      "cell_type": "code",
      "metadata": {
        "id": "-1qzEFrVO6nB"
      },
      "source": [
        "import matplotlib.pyplot as plt\n",
        "import numpy as np"
      ],
      "execution_count": null,
      "outputs": []
    },
    {
      "cell_type": "code",
      "metadata": {
        "colab": {
          "base_uri": "https://localhost:8080/"
        },
        "id": "sZmnKviDbLLy",
        "outputId": "3d8dc6d3-f171-4799-98a9-d69a700d82f5"
      },
      "source": [
        "import tensorflow as tf\n",
        "from tensorflow import keras\n",
        "\n",
        "\n",
        "import numpy as np\n",
        "import pandas as pd\n",
        "import matplotlib.pyplot as plt\n",
        "\n",
        "print(tf.__version__)"
      ],
      "execution_count": null,
      "outputs": [
        {
          "output_type": "stream",
          "text": [
            "2.4.0\n"
          ],
          "name": "stdout"
        }
      ]
    },
    {
      "cell_type": "code",
      "metadata": {
        "id": "NDb_3eFAQr-Z"
      },
      "source": [
        "#install some modules form sklearn\n",
        "from sklearn.model_selection import train_test_split\n",
        "from sklearn.linear_model import LogisticRegression\n",
        "from sklearn.model_selection import GridSearchCV\n",
        "from sklearn.pipeline import Pipeline\n",
        "from sklearn.svm import LinearSVC\n",
        "from sklearn.metrics import accuracy_score, classification_report, confusion_matrix\n",
        "from sklearn.feature_extraction.text import TfidfVectorizer\n",
        "from sklearn.model_selection import train_test_split"
      ],
      "execution_count": null,
      "outputs": []
    },
    {
      "cell_type": "code",
      "metadata": {
        "colab": {
          "base_uri": "https://localhost:8080/",
          "height": 972
        },
        "id": "tnAfLug5SN-n",
        "outputId": "92b69548-6ac3-45da-bece-d45598c621b9"
      },
      "source": [
        "df"
      ],
      "execution_count": null,
      "outputs": [
        {
          "output_type": "execute_result",
          "data": {
            "text/html": [
              "<div>\n",
              "<style scoped>\n",
              "    .dataframe tbody tr th:only-of-type {\n",
              "        vertical-align: middle;\n",
              "    }\n",
              "\n",
              "    .dataframe tbody tr th {\n",
              "        vertical-align: top;\n",
              "    }\n",
              "\n",
              "    .dataframe thead th {\n",
              "        text-align: right;\n",
              "    }\n",
              "</style>\n",
              "<table border=\"1\" class=\"dataframe\">\n",
              "  <thead>\n",
              "    <tr style=\"text-align: right;\">\n",
              "      <th></th>\n",
              "      <th>location</th>\n",
              "      <th>tweet</th>\n",
              "      <th>Date</th>\n",
              "      <th>Tweet Coordinates</th>\n",
              "      <th>index_col</th>\n",
              "      <th>TextBlob_sentiment</th>\n",
              "      <th>Sentiment_value</th>\n",
              "    </tr>\n",
              "    <tr>\n",
              "      <th>user</th>\n",
              "      <th></th>\n",
              "      <th></th>\n",
              "      <th></th>\n",
              "      <th></th>\n",
              "      <th></th>\n",
              "      <th></th>\n",
              "      <th></th>\n",
              "    </tr>\n",
              "  </thead>\n",
              "  <tbody>\n",
              "    <tr>\n",
              "      <th>jagadishrjain</th>\n",
              "      <td>Hyderabad</td>\n",
              "      <td>rrrameshrrr 50 of the quad japan australia and...</td>\n",
              "      <td>2020-11-15 09:00:05</td>\n",
              "      <td>NaN</td>\n",
              "      <td>1</td>\n",
              "      <td>(0.06818181818181818, 0.7272727272727273)</td>\n",
              "      <td>1</td>\n",
              "    </tr>\n",
              "    <tr>\n",
              "      <th>hellfire_81</th>\n",
              "      <td>NaN</td>\n",
              "      <td>coolquad riplegic military grouping httpstcocx...</td>\n",
              "      <td>2020-11-15 09:09:46</td>\n",
              "      <td>NaN</td>\n",
              "      <td>2</td>\n",
              "      <td>(-0.1, 0.1)</td>\n",
              "      <td>0</td>\n",
              "    </tr>\n",
              "    <tr>\n",
              "      <th>Savitri4Ever</th>\n",
              "      <td>NaN</td>\n",
              "      <td>hellfire_81 coolquad riplegic military groupin...</td>\n",
              "      <td>2020-11-15 09:19:10</td>\n",
              "      <td>NaN</td>\n",
              "      <td>3</td>\n",
              "      <td>(-0.1, 0.1)</td>\n",
              "      <td>0</td>\n",
              "    </tr>\n",
              "    <tr>\n",
              "      <th>orfonline</th>\n",
              "      <td>India</td>\n",
              "      <td>the creation of the quad with implications for...</td>\n",
              "      <td>2020-11-15 09:25:00</td>\n",
              "      <td>NaN</td>\n",
              "      <td>4</td>\n",
              "      <td>(-0.25, 0.4)</td>\n",
              "      <td>0</td>\n",
              "    </tr>\n",
              "    <tr>\n",
              "      <th>InsightGL</th>\n",
              "      <td>NaN</td>\n",
              "      <td>asthana_shashi jaishankar attends east asia su...</td>\n",
              "      <td>2020-11-15 09:36:43</td>\n",
              "      <td>NaN</td>\n",
              "      <td>5</td>\n",
              "      <td>(-0.2, 0.5)</td>\n",
              "      <td>0</td>\n",
              "    </tr>\n",
              "    <tr>\n",
              "      <th>...</th>\n",
              "      <td>...</td>\n",
              "      <td>...</td>\n",
              "      <td>...</td>\n",
              "      <td>...</td>\n",
              "      <td>...</td>\n",
              "      <td>...</td>\n",
              "      <td>...</td>\n",
              "    </tr>\n",
              "    <tr>\n",
              "      <th>RamKuma19784093</th>\n",
              "      <td>Puducherry</td>\n",
              "      <td>india france discuss counterterrorism cooperat...</td>\n",
              "      <td>2021-01-10 06:52:00</td>\n",
              "      <td>NaN</td>\n",
              "      <td>29495</td>\n",
              "      <td>(0.0, 0.0)</td>\n",
              "      <td>0</td>\n",
              "    </tr>\n",
              "    <tr>\n",
              "      <th>CPR_India</th>\n",
              "      <td>New Delhi</td>\n",
              "      <td>as quad prepares to meet the chinese challenge...</td>\n",
              "      <td>2021-01-10 07:30:00</td>\n",
              "      <td>NaN</td>\n",
              "      <td>29496</td>\n",
              "      <td>(0.0, 0.0)</td>\n",
              "      <td>0</td>\n",
              "    </tr>\n",
              "    <tr>\n",
              "      <th>Resort_Skelin</th>\n",
              "      <td>Hrvatska</td>\n",
              "      <td>every team is different lets create a perfect ...</td>\n",
              "      <td>2021-01-10 07:31:08</td>\n",
              "      <td>NaN</td>\n",
              "      <td>29497</td>\n",
              "      <td>(0.5, 0.8)</td>\n",
              "      <td>1</td>\n",
              "    </tr>\n",
              "    <tr>\n",
              "      <th>KBhairava1</th>\n",
              "      <td>NaN</td>\n",
              "      <td>this here is very tricky yes its true aussies ...</td>\n",
              "      <td>2021-01-10 07:39:52</td>\n",
              "      <td>NaN</td>\n",
              "      <td>29498</td>\n",
              "      <td>(0.2287878787878788, 0.4681818181818182)</td>\n",
              "      <td>1</td>\n",
              "    </tr>\n",
              "    <tr>\n",
              "      <th>Deepakk79951168</th>\n",
              "      <td>Deoghar, Jharkhand</td>\n",
              "      <td>cpr_india as quad prepares to meet the chinese...</td>\n",
              "      <td>2021-01-10 07:52:47</td>\n",
              "      <td>NaN</td>\n",
              "      <td>29499</td>\n",
              "      <td>(0.20000000000000004, 0.45)</td>\n",
              "      <td>1</td>\n",
              "    </tr>\n",
              "  </tbody>\n",
              "</table>\n",
              "<p>29499 rows × 7 columns</p>\n",
              "</div>"
            ],
            "text/plain": [
              "                           location  ... Sentiment_value\n",
              "user                                 ...                \n",
              "jagadishrjain             Hyderabad  ...               1\n",
              "hellfire_81                     NaN  ...               0\n",
              "Savitri4Ever                    NaN  ...               0\n",
              "orfonline                     India  ...               0\n",
              "InsightGL                       NaN  ...               0\n",
              "...                             ...  ...             ...\n",
              "RamKuma19784093          Puducherry  ...               0\n",
              "CPR_India                 New Delhi  ...               0\n",
              "Resort_Skelin              Hrvatska  ...               1\n",
              "KBhairava1                      NaN  ...               1\n",
              "Deepakk79951168  Deoghar, Jharkhand  ...               1\n",
              "\n",
              "[29499 rows x 7 columns]"
            ]
          },
          "metadata": {
            "tags": []
          },
          "execution_count": 32
        }
      ]
    },
    {
      "cell_type": "code",
      "metadata": {
        "id": "sTj0uQsDS0rC"
      },
      "source": [
        "def run_svm(df):\n",
        "    X=df['tweet']\n",
        "    y=df['Sentiment_value']\n",
        "    tfidf= TfidfVectorizer()\n",
        "    X= tfidf.fit_transform(X) # now a sparse matrix is created which can be checked by just writing X\n",
        "    X_train , X_test , y_train , y_test= train_test_split(X,y,test_size=0.2, random_state=0, stratify=y)\n",
        "    print('shape Of X: ', X.shape) #shape of original text data which was converted into tfidf vectorizer\n",
        "    clf= LinearSVC() # a classifier is created with LinearSVC which uses L2 regularization\n",
        "    clf.fit(X_train,y_train) #now we will rain our algorithm in which we pass input data (X_train) and Output target label(y_train)\n",
        "    y_pred = clf.predict(X_test)\n",
        "    # now since we have trained the model we will check the accuracy\n",
        "    print()\n",
        "    print('Printing Report')\n",
        "    print(classification_report(y_test,y_pred))\n",
        "\n",
        "    return tfidf,clf #used for custom data  prediction , therefor tfidf vectorizer is returned and clf is returned for testing on external dataset\n"
      ],
      "execution_count": null,
      "outputs": []
    },
    {
      "cell_type": "code",
      "metadata": {
        "id": "gAsmAaLcU2ZV",
        "colab": {
          "base_uri": "https://localhost:8080/"
        },
        "outputId": "c1185d4f-756c-4ab3-8e70-694cb200fdbb"
      },
      "source": [
        "X_train.shape, X_test.shape,y_train.shape, y_test.shape"
      ],
      "execution_count": null,
      "outputs": [
        {
          "output_type": "execute_result",
          "data": {
            "text/plain": [
              "((23599, 300), (5900, 300), (23599,), (5900,))"
            ]
          },
          "metadata": {
            "tags": []
          },
          "execution_count": 82
        }
      ]
    },
    {
      "cell_type": "code",
      "metadata": {
        "colab": {
          "base_uri": "https://localhost:8080/"
        },
        "id": "PIEbxehfUDS_",
        "outputId": "ebba605c-9a17-46b2-83ca-34825b1d39da"
      },
      "source": [
        "%%time\n",
        "tfidf,clf =run_svm(df)"
      ],
      "execution_count": null,
      "outputs": [
        {
          "output_type": "stream",
          "text": [
            "shape Of X:  (29499, 23057)\n",
            "\n",
            "Printing Report\n",
            "              precision    recall  f1-score   support\n",
            "\n",
            "           0       0.98      0.99      0.99      3463\n",
            "           1       0.99      0.97      0.98      2437\n",
            "\n",
            "    accuracy                           0.98      5900\n",
            "   macro avg       0.98      0.98      0.98      5900\n",
            "weighted avg       0.98      0.98      0.98      5900\n",
            "\n",
            "CPU times: user 817 ms, sys: 13 ms, total: 830 ms\n",
            "Wall time: 859 ms\n"
          ],
          "name": "stdout"
        }
      ]
    },
    {
      "cell_type": "markdown",
      "metadata": {
        "id": "PcYcm8IjV_Km"
      },
      "source": [
        "word2vec"
      ]
    },
    {
      "cell_type": "code",
      "metadata": {
        "colab": {
          "base_uri": "https://localhost:8080/"
        },
        "id": "BuRBS_fkWA8D",
        "outputId": "459bc7b6-0296-49c7-8f97-1edcaf4c9fbb"
      },
      "source": [
        "!python -m spacy download en_core_web_lg"
      ],
      "execution_count": null,
      "outputs": [
        {
          "output_type": "stream",
          "text": [
            "Collecting en_core_web_lg==2.2.5\n",
            "\u001b[?25l  Downloading https://github.com/explosion/spacy-models/releases/download/en_core_web_lg-2.2.5/en_core_web_lg-2.2.5.tar.gz (827.9MB)\n",
            "\u001b[K     |████████████████████████████████| 827.9MB 1.2MB/s \n",
            "\u001b[?25hRequirement already satisfied: spacy>=2.2.2 in /usr/local/lib/python3.6/dist-packages (from en_core_web_lg==2.2.5) (2.2.4)\n",
            "Requirement already satisfied: requests<3.0.0,>=2.13.0 in /usr/local/lib/python3.6/dist-packages (from spacy>=2.2.2->en_core_web_lg==2.2.5) (2.23.0)\n",
            "Requirement already satisfied: numpy>=1.15.0 in /usr/local/lib/python3.6/dist-packages (from spacy>=2.2.2->en_core_web_lg==2.2.5) (1.19.5)\n",
            "Requirement already satisfied: murmurhash<1.1.0,>=0.28.0 in /usr/local/lib/python3.6/dist-packages (from spacy>=2.2.2->en_core_web_lg==2.2.5) (1.0.5)\n",
            "Requirement already satisfied: setuptools in /usr/local/lib/python3.6/dist-packages (from spacy>=2.2.2->en_core_web_lg==2.2.5) (51.1.2)\n",
            "Requirement already satisfied: thinc==7.4.0 in /usr/local/lib/python3.6/dist-packages (from spacy>=2.2.2->en_core_web_lg==2.2.5) (7.4.0)\n",
            "Requirement already satisfied: cymem<2.1.0,>=2.0.2 in /usr/local/lib/python3.6/dist-packages (from spacy>=2.2.2->en_core_web_lg==2.2.5) (2.0.5)\n",
            "Requirement already satisfied: preshed<3.1.0,>=3.0.2 in /usr/local/lib/python3.6/dist-packages (from spacy>=2.2.2->en_core_web_lg==2.2.5) (3.0.5)\n",
            "Requirement already satisfied: wasabi<1.1.0,>=0.4.0 in /usr/local/lib/python3.6/dist-packages (from spacy>=2.2.2->en_core_web_lg==2.2.5) (0.8.0)\n",
            "Requirement already satisfied: srsly<1.1.0,>=1.0.2 in /usr/local/lib/python3.6/dist-packages (from spacy>=2.2.2->en_core_web_lg==2.2.5) (1.0.5)\n",
            "Requirement already satisfied: tqdm<5.0.0,>=4.38.0 in /usr/local/lib/python3.6/dist-packages (from spacy>=2.2.2->en_core_web_lg==2.2.5) (4.41.1)\n",
            "Requirement already satisfied: plac<1.2.0,>=0.9.6 in /usr/local/lib/python3.6/dist-packages (from spacy>=2.2.2->en_core_web_lg==2.2.5) (1.1.3)\n",
            "Requirement already satisfied: blis<0.5.0,>=0.4.0 in /usr/local/lib/python3.6/dist-packages (from spacy>=2.2.2->en_core_web_lg==2.2.5) (0.4.1)\n",
            "Requirement already satisfied: catalogue<1.1.0,>=0.0.7 in /usr/local/lib/python3.6/dist-packages (from spacy>=2.2.2->en_core_web_lg==2.2.5) (1.0.0)\n",
            "Requirement already satisfied: chardet<4,>=3.0.2 in /usr/local/lib/python3.6/dist-packages (from requests<3.0.0,>=2.13.0->spacy>=2.2.2->en_core_web_lg==2.2.5) (3.0.4)\n",
            "Requirement already satisfied: urllib3!=1.25.0,!=1.25.1,<1.26,>=1.21.1 in /usr/local/lib/python3.6/dist-packages (from requests<3.0.0,>=2.13.0->spacy>=2.2.2->en_core_web_lg==2.2.5) (1.24.3)\n",
            "Requirement already satisfied: idna<3,>=2.5 in /usr/local/lib/python3.6/dist-packages (from requests<3.0.0,>=2.13.0->spacy>=2.2.2->en_core_web_lg==2.2.5) (2.10)\n",
            "Requirement already satisfied: certifi>=2017.4.17 in /usr/local/lib/python3.6/dist-packages (from requests<3.0.0,>=2.13.0->spacy>=2.2.2->en_core_web_lg==2.2.5) (2020.12.5)\n",
            "Requirement already satisfied: importlib-metadata>=0.20; python_version < \"3.8\" in /usr/local/lib/python3.6/dist-packages (from catalogue<1.1.0,>=0.0.7->spacy>=2.2.2->en_core_web_lg==2.2.5) (3.3.0)\n",
            "Requirement already satisfied: typing-extensions>=3.6.4; python_version < \"3.8\" in /usr/local/lib/python3.6/dist-packages (from importlib-metadata>=0.20; python_version < \"3.8\"->catalogue<1.1.0,>=0.0.7->spacy>=2.2.2->en_core_web_lg==2.2.5) (3.7.4.3)\n",
            "Requirement already satisfied: zipp>=0.5 in /usr/local/lib/python3.6/dist-packages (from importlib-metadata>=0.20; python_version < \"3.8\"->catalogue<1.1.0,>=0.0.7->spacy>=2.2.2->en_core_web_lg==2.2.5) (3.4.0)\n",
            "Building wheels for collected packages: en-core-web-lg\n",
            "  Building wheel for en-core-web-lg (setup.py) ... \u001b[?25l\u001b[?25hdone\n",
            "  Created wheel for en-core-web-lg: filename=en_core_web_lg-2.2.5-cp36-none-any.whl size=829180945 sha256=55d9a7f0386642eac39b37a86ad07cec917791e3b2df87060265ee623a3e1831\n",
            "  Stored in directory: /tmp/pip-ephem-wheel-cache-zp15n88i/wheels/2a/c1/a6/fc7a877b1efca9bc6a089d6f506f16d3868408f9ff89f8dbfc\n",
            "Successfully built en-core-web-lg\n",
            "Installing collected packages: en-core-web-lg\n",
            "Successfully installed en-core-web-lg-2.2.5\n",
            "\u001b[38;5;2m✔ Download and installation successful\u001b[0m\n",
            "You can now load the model via spacy.load('en_core_web_lg')\n"
          ],
          "name": "stdout"
        }
      ]
    },
    {
      "cell_type": "code",
      "metadata": {
        "id": "Pohls5UpWZhr"
      },
      "source": [
        "import spacy\n",
        "nlp = spacy.load('en_core_web_lg')"
      ],
      "execution_count": null,
      "outputs": []
    },
    {
      "cell_type": "code",
      "metadata": {
        "id": "6eyTAC4dYffz"
      },
      "source": [
        "def get_vec(x):\n",
        "  doc=nlp(x)\n",
        "  vec=doc.vector\n",
        "  return vec"
      ],
      "execution_count": null,
      "outputs": []
    },
    {
      "cell_type": "code",
      "metadata": {
        "colab": {
          "base_uri": "https://localhost:8080/"
        },
        "id": "G0dt-aDCZn1D",
        "outputId": "bb1e0bf7-c4d1-4bef-bbb9-c836b7559933"
      },
      "source": [
        "%%time\n",
        "df['vec']=df['tweet'].apply(lambda x: get_vec(x))"
      ],
      "execution_count": null,
      "outputs": [
        {
          "output_type": "stream",
          "text": [
            "CPU times: user 5min 25s, sys: 659 ms, total: 5min 26s\n",
            "Wall time: 5min 27s\n"
          ],
          "name": "stdout"
        }
      ]
    },
    {
      "cell_type": "code",
      "metadata": {
        "colab": {
          "base_uri": "https://localhost:8080/",
          "height": 431
        },
        "id": "xf-ZLWpUZ7sg",
        "outputId": "bb915fa5-adee-4de6-9ab2-45fa9b9bb733"
      },
      "source": [
        "df3=df[['tweet','Sentiment_value']]\n",
        "df3"
      ],
      "execution_count": null,
      "outputs": [
        {
          "output_type": "execute_result",
          "data": {
            "text/html": [
              "<div>\n",
              "<style scoped>\n",
              "    .dataframe tbody tr th:only-of-type {\n",
              "        vertical-align: middle;\n",
              "    }\n",
              "\n",
              "    .dataframe tbody tr th {\n",
              "        vertical-align: top;\n",
              "    }\n",
              "\n",
              "    .dataframe thead th {\n",
              "        text-align: right;\n",
              "    }\n",
              "</style>\n",
              "<table border=\"1\" class=\"dataframe\">\n",
              "  <thead>\n",
              "    <tr style=\"text-align: right;\">\n",
              "      <th></th>\n",
              "      <th>tweet</th>\n",
              "      <th>Sentiment_value</th>\n",
              "    </tr>\n",
              "    <tr>\n",
              "      <th>user</th>\n",
              "      <th></th>\n",
              "      <th></th>\n",
              "    </tr>\n",
              "  </thead>\n",
              "  <tbody>\n",
              "    <tr>\n",
              "      <th>jagadishrjain</th>\n",
              "      <td>rrrameshrrr 50 of the quad japan australia and...</td>\n",
              "      <td>1</td>\n",
              "    </tr>\n",
              "    <tr>\n",
              "      <th>hellfire_81</th>\n",
              "      <td>coolquad riplegic military grouping httpstcocx...</td>\n",
              "      <td>0</td>\n",
              "    </tr>\n",
              "    <tr>\n",
              "      <th>Savitri4Ever</th>\n",
              "      <td>hellfire_81 coolquad riplegic military groupin...</td>\n",
              "      <td>0</td>\n",
              "    </tr>\n",
              "    <tr>\n",
              "      <th>orfonline</th>\n",
              "      <td>the creation of the quad with implications for...</td>\n",
              "      <td>0</td>\n",
              "    </tr>\n",
              "    <tr>\n",
              "      <th>InsightGL</th>\n",
              "      <td>asthana_shashi jaishankar attends east asia su...</td>\n",
              "      <td>0</td>\n",
              "    </tr>\n",
              "    <tr>\n",
              "      <th>...</th>\n",
              "      <td>...</td>\n",
              "      <td>...</td>\n",
              "    </tr>\n",
              "    <tr>\n",
              "      <th>RamKuma19784093</th>\n",
              "      <td>india france discuss counterterrorism cooperat...</td>\n",
              "      <td>0</td>\n",
              "    </tr>\n",
              "    <tr>\n",
              "      <th>CPR_India</th>\n",
              "      <td>as quad prepares to meet the chinese challenge...</td>\n",
              "      <td>0</td>\n",
              "    </tr>\n",
              "    <tr>\n",
              "      <th>Resort_Skelin</th>\n",
              "      <td>every team is different lets create a perfect ...</td>\n",
              "      <td>1</td>\n",
              "    </tr>\n",
              "    <tr>\n",
              "      <th>KBhairava1</th>\n",
              "      <td>this here is very tricky yes its true aussies ...</td>\n",
              "      <td>1</td>\n",
              "    </tr>\n",
              "    <tr>\n",
              "      <th>Deepakk79951168</th>\n",
              "      <td>cpr_india as quad prepares to meet the chinese...</td>\n",
              "      <td>1</td>\n",
              "    </tr>\n",
              "  </tbody>\n",
              "</table>\n",
              "<p>29499 rows × 2 columns</p>\n",
              "</div>"
            ],
            "text/plain": [
              "                                                             tweet  Sentiment_value\n",
              "user                                                                               \n",
              "jagadishrjain    rrrameshrrr 50 of the quad japan australia and...                1\n",
              "hellfire_81      coolquad riplegic military grouping httpstcocx...                0\n",
              "Savitri4Ever     hellfire_81 coolquad riplegic military groupin...                0\n",
              "orfonline        the creation of the quad with implications for...                0\n",
              "InsightGL        asthana_shashi jaishankar attends east asia su...                0\n",
              "...                                                            ...              ...\n",
              "RamKuma19784093  india france discuss counterterrorism cooperat...                0\n",
              "CPR_India        as quad prepares to meet the chinese challenge...                0\n",
              "Resort_Skelin    every team is different lets create a perfect ...                1\n",
              "KBhairava1       this here is very tricky yes its true aussies ...                1\n",
              "Deepakk79951168  cpr_india as quad prepares to meet the chinese...                1\n",
              "\n",
              "[29499 rows x 2 columns]"
            ]
          },
          "metadata": {
            "tags": []
          },
          "execution_count": 51
        }
      ]
    },
    {
      "cell_type": "code",
      "metadata": {
        "colab": {
          "base_uri": "https://localhost:8080/"
        },
        "id": "5Xkwj-ttbYZK",
        "outputId": "6531664c-7a9b-42c9-823b-1d0074a6a4bd"
      },
      "source": [
        "df3.shape"
      ],
      "execution_count": null,
      "outputs": [
        {
          "output_type": "execute_result",
          "data": {
            "text/plain": [
              "(29499, 2)"
            ]
          },
          "metadata": {
            "tags": []
          },
          "execution_count": 52
        }
      ]
    },
    {
      "cell_type": "code",
      "metadata": {
        "id": "yPch3mGFaNM1"
      },
      "source": [
        "def run_word2vec(df):\n",
        "    X=df['vec'].to_numpy()\n",
        "    X = X.reshape(-1,1)\n",
        "    y=df['Sentiment_value']\n",
        "    X=np.concatenate(np.concatenate(X,axis = 0),axis = 0).reshape(-1,300)\n",
        "    X_train , X_test , y_train , y_test= train_test_split(X,y,test_size=0.2, random_state=0, stratify=y)\n",
        "    print('shape Of X: ', X.shape) #shape of original text data which was converted into tfidf vectorizer\n",
        "    clf= LogisticRegression(solver = 'liblinear') # a classifier is created with LinearSVC which uses L2 regularization\n",
        "    clf.fit(X_train,y_train) #now we will rain our algorithm in which we pass input data (X_train) and Output target label(y_train)\n",
        "    y_pred = clf.predict(X_test)\n",
        "    # now since we have trained the model we will check the accuracy\n",
        "    print()\n",
        "    print('Printing Report')\n",
        "    print(classification_report(y_test,y_pred))\n",
        "\n",
        "    return clf #used for custom data  prediction , therefor tfidf vectorizer is returned and clf is returned for testing on external dataset\n"
      ],
      "execution_count": null,
      "outputs": []
    },
    {
      "cell_type": "code",
      "metadata": {
        "id": "hwH4jzgocCMw",
        "colab": {
          "base_uri": "https://localhost:8080/"
        },
        "outputId": "45acd410-5346-41ed-c103-0f61df90cad4"
      },
      "source": [
        " X_train.shape , X_test.shape "
      ],
      "execution_count": null,
      "outputs": [
        {
          "output_type": "execute_result",
          "data": {
            "text/plain": [
              "((23599, 300), (5900, 300))"
            ]
          },
          "metadata": {
            "tags": []
          },
          "execution_count": 84
        }
      ]
    },
    {
      "cell_type": "code",
      "metadata": {
        "colab": {
          "base_uri": "https://localhost:8080/"
        },
        "id": "eO3D5rrMdy_V",
        "outputId": "93e721d6-a9f5-4153-81d0-caba4480abd2"
      },
      "source": [
        "%%time\n",
        "clf =run_word2vec(df)"
      ],
      "execution_count": null,
      "outputs": [
        {
          "output_type": "stream",
          "text": [
            "shape Of X:  (29499, 300)\n",
            "\n",
            "Printing Report\n",
            "              precision    recall  f1-score   support\n",
            "\n",
            "           0       0.88      0.92      0.90      3463\n",
            "           1       0.88      0.82      0.85      2437\n",
            "\n",
            "    accuracy                           0.88      5900\n",
            "   macro avg       0.88      0.87      0.87      5900\n",
            "weighted avg       0.88      0.88      0.88      5900\n",
            "\n",
            "CPU times: user 3.26 s, sys: 56 ms, total: 3.31 s\n",
            "Wall time: 3.29 s\n"
          ],
          "name": "stdout"
        }
      ]
    },
    {
      "cell_type": "markdown",
      "metadata": {
        "id": "afKMCuX1DIG0"
      },
      "source": [
        "NORMALIZATION AND FEATURE STANDARDIZATION( i.e will bring all the features b/w 0 and 1)"
      ]
    },
    {
      "cell_type": "code",
      "metadata": {
        "id": "1nLBzCdya-lx"
      },
      "source": [
        "from sklearn.preprocessing import MinMaxScaler"
      ],
      "execution_count": null,
      "outputs": []
    },
    {
      "cell_type": "code",
      "metadata": {
        "id": "UOVs9m_LbrWf"
      },
      "source": [
        "scaler=MinMaxScaler()\n",
        "X_train= scaler.fit_transform(X_train)\n",
        "X_test=scaler.transform(X_test)\n"
      ],
      "execution_count": null,
      "outputs": []
    },
    {
      "cell_type": "code",
      "metadata": {
        "colab": {
          "base_uri": "https://localhost:8080/"
        },
        "id": "d9d__lC2ChlH",
        "outputId": "153f3450-b922-47f6-984e-ae088a32e7c5"
      },
      "source": [
        "np.min(X_train), np.max(X_train)"
      ],
      "execution_count": null,
      "outputs": [
        {
          "output_type": "execute_result",
          "data": {
            "text/plain": [
              "(0.0, 1.0000001)"
            ]
          },
          "metadata": {
            "tags": []
          },
          "execution_count": 86
        }
      ]
    },
    {
      "cell_type": "markdown",
      "metadata": {
        "id": "9ZaWijs8elVP"
      },
      "source": [
        "test every model"
      ]
    },
    {
      "cell_type": "code",
      "metadata": {
        "colab": {
          "base_uri": "https://localhost:8080/"
        },
        "id": "fmx_wP47en4b",
        "outputId": "aa0cf93f-0635-4f38-c90d-77f717ea0984"
      },
      "source": [
        "!pip install lazypredict"
      ],
      "execution_count": null,
      "outputs": [
        {
          "output_type": "stream",
          "text": [
            "Requirement already satisfied: lazypredict in /usr/local/lib/python3.6/dist-packages (0.2.7)\n",
            "Requirement already satisfied: Click>=7.0 in /usr/local/lib/python3.6/dist-packages (from lazypredict) (7.1.2)\n"
          ],
          "name": "stdout"
        }
      ]
    },
    {
      "cell_type": "code",
      "metadata": {
        "colab": {
          "base_uri": "https://localhost:8080/"
        },
        "id": "ou_6BoL1esUC",
        "outputId": "e4753869-934e-4850-9f77-8553dd7752c6"
      },
      "source": [
        "from lazypredict.Supervised import LazyClassifier\n",
        "!pip install xgboost\n",
        "!pip install lightgbm"
      ],
      "execution_count": null,
      "outputs": [
        {
          "output_type": "stream",
          "text": [
            "Requirement already satisfied: xgboost in /usr/local/lib/python3.6/dist-packages (0.90)\n",
            "Requirement already satisfied: numpy in /usr/local/lib/python3.6/dist-packages (from xgboost) (1.19.5)\n",
            "Requirement already satisfied: scipy in /usr/local/lib/python3.6/dist-packages (from xgboost) (1.4.1)\n",
            "Requirement already satisfied: lightgbm in /usr/local/lib/python3.6/dist-packages (2.2.3)\n",
            "Requirement already satisfied: numpy in /usr/local/lib/python3.6/dist-packages (from lightgbm) (1.19.5)\n",
            "Requirement already satisfied: scipy in /usr/local/lib/python3.6/dist-packages (from lightgbm) (1.4.1)\n",
            "Requirement already satisfied: scikit-learn in /usr/local/lib/python3.6/dist-packages (from lightgbm) (0.22.2.post1)\n",
            "Requirement already satisfied: joblib>=0.11 in /usr/local/lib/python3.6/dist-packages (from scikit-learn->lightgbm) (1.0.0)\n"
          ],
          "name": "stdout"
        }
      ]
    },
    {
      "cell_type": "code",
      "metadata": {
        "id": "s8IlsFMfe3OP"
      },
      "source": [
        "clf = LazyClassifier(verbose=0,ignore_warnings=True, custom_metric=None)"
      ],
      "execution_count": null,
      "outputs": []
    },
    {
      "cell_type": "code",
      "metadata": {
        "colab": {
          "base_uri": "https://localhost:8080/"
        },
        "id": "x9gRGDpwfFE9",
        "outputId": "46b5be5d-0e2c-4aa8-e1c4-4bdfd1c914b9"
      },
      "source": [
        "%%time\n",
        "models, predictions = clf.fit(X_train,X_test,y_train,y_test)"
      ],
      "execution_count": null,
      "outputs": [
        {
          "output_type": "stream",
          "text": [
            "100%|██████████| 30/30 [18:18<00:00, 36.61s/it]"
          ],
          "name": "stderr"
        },
        {
          "output_type": "stream",
          "text": [
            "CPU times: user 18min 31s, sys: 18.2 s, total: 18min 49s\n",
            "Wall time: 18min 18s\n"
          ],
          "name": "stdout"
        },
        {
          "output_type": "stream",
          "text": [
            "\n"
          ],
          "name": "stderr"
        }
      ]
    },
    {
      "cell_type": "code",
      "metadata": {
        "colab": {
          "base_uri": "https://localhost:8080/",
          "height": 906
        },
        "id": "DQVuexRtf1YK",
        "outputId": "08ce8034-c116-4e91-a794-3c67cd896215"
      },
      "source": [
        "models"
      ],
      "execution_count": null,
      "outputs": [
        {
          "output_type": "execute_result",
          "data": {
            "text/html": [
              "<div>\n",
              "<style scoped>\n",
              "    .dataframe tbody tr th:only-of-type {\n",
              "        vertical-align: middle;\n",
              "    }\n",
              "\n",
              "    .dataframe tbody tr th {\n",
              "        vertical-align: top;\n",
              "    }\n",
              "\n",
              "    .dataframe thead th {\n",
              "        text-align: right;\n",
              "    }\n",
              "</style>\n",
              "<table border=\"1\" class=\"dataframe\">\n",
              "  <thead>\n",
              "    <tr style=\"text-align: right;\">\n",
              "      <th></th>\n",
              "      <th>Accuracy</th>\n",
              "      <th>Balanced Accuracy</th>\n",
              "      <th>ROC AUC</th>\n",
              "      <th>F1 Score</th>\n",
              "      <th>Time Taken</th>\n",
              "    </tr>\n",
              "    <tr>\n",
              "      <th>Model</th>\n",
              "      <th></th>\n",
              "      <th></th>\n",
              "      <th></th>\n",
              "      <th></th>\n",
              "      <th></th>\n",
              "    </tr>\n",
              "  </thead>\n",
              "  <tbody>\n",
              "    <tr>\n",
              "      <th>SVC</th>\n",
              "      <td>0.97</td>\n",
              "      <td>0.97</td>\n",
              "      <td>0.97</td>\n",
              "      <td>0.97</td>\n",
              "      <td>193.54</td>\n",
              "    </tr>\n",
              "    <tr>\n",
              "      <th>LGBMClassifier</th>\n",
              "      <td>0.96</td>\n",
              "      <td>0.96</td>\n",
              "      <td>0.96</td>\n",
              "      <td>0.96</td>\n",
              "      <td>17.28</td>\n",
              "    </tr>\n",
              "    <tr>\n",
              "      <th>ExtraTreesClassifier</th>\n",
              "      <td>0.96</td>\n",
              "      <td>0.96</td>\n",
              "      <td>0.96</td>\n",
              "      <td>0.96</td>\n",
              "      <td>8.46</td>\n",
              "    </tr>\n",
              "    <tr>\n",
              "      <th>RandomForestClassifier</th>\n",
              "      <td>0.96</td>\n",
              "      <td>0.96</td>\n",
              "      <td>0.96</td>\n",
              "      <td>0.96</td>\n",
              "      <td>24.85</td>\n",
              "    </tr>\n",
              "    <tr>\n",
              "      <th>BaggingClassifier</th>\n",
              "      <td>0.95</td>\n",
              "      <td>0.94</td>\n",
              "      <td>0.94</td>\n",
              "      <td>0.95</td>\n",
              "      <td>57.80</td>\n",
              "    </tr>\n",
              "    <tr>\n",
              "      <th>KNeighborsClassifier</th>\n",
              "      <td>0.94</td>\n",
              "      <td>0.93</td>\n",
              "      <td>0.93</td>\n",
              "      <td>0.94</td>\n",
              "      <td>38.75</td>\n",
              "    </tr>\n",
              "    <tr>\n",
              "      <th>DecisionTreeClassifier</th>\n",
              "      <td>0.93</td>\n",
              "      <td>0.93</td>\n",
              "      <td>0.93</td>\n",
              "      <td>0.93</td>\n",
              "      <td>11.99</td>\n",
              "    </tr>\n",
              "    <tr>\n",
              "      <th>ExtraTreeClassifier</th>\n",
              "      <td>0.93</td>\n",
              "      <td>0.93</td>\n",
              "      <td>0.93</td>\n",
              "      <td>0.93</td>\n",
              "      <td>0.39</td>\n",
              "    </tr>\n",
              "    <tr>\n",
              "      <th>LabelPropagation</th>\n",
              "      <td>0.94</td>\n",
              "      <td>0.92</td>\n",
              "      <td>0.92</td>\n",
              "      <td>0.94</td>\n",
              "      <td>60.10</td>\n",
              "    </tr>\n",
              "    <tr>\n",
              "      <th>LabelSpreading</th>\n",
              "      <td>0.94</td>\n",
              "      <td>0.92</td>\n",
              "      <td>0.92</td>\n",
              "      <td>0.94</td>\n",
              "      <td>57.09</td>\n",
              "    </tr>\n",
              "    <tr>\n",
              "      <th>QuadraticDiscriminantAnalysis</th>\n",
              "      <td>0.92</td>\n",
              "      <td>0.91</td>\n",
              "      <td>0.91</td>\n",
              "      <td>0.92</td>\n",
              "      <td>1.62</td>\n",
              "    </tr>\n",
              "    <tr>\n",
              "      <th>XGBClassifier</th>\n",
              "      <td>0.91</td>\n",
              "      <td>0.90</td>\n",
              "      <td>0.90</td>\n",
              "      <td>0.91</td>\n",
              "      <td>29.23</td>\n",
              "    </tr>\n",
              "    <tr>\n",
              "      <th>LogisticRegression</th>\n",
              "      <td>0.89</td>\n",
              "      <td>0.88</td>\n",
              "      <td>0.88</td>\n",
              "      <td>0.89</td>\n",
              "      <td>2.31</td>\n",
              "    </tr>\n",
              "    <tr>\n",
              "      <th>CalibratedClassifierCV</th>\n",
              "      <td>0.89</td>\n",
              "      <td>0.88</td>\n",
              "      <td>0.88</td>\n",
              "      <td>0.89</td>\n",
              "      <td>145.72</td>\n",
              "    </tr>\n",
              "    <tr>\n",
              "      <th>LinearSVC</th>\n",
              "      <td>0.88</td>\n",
              "      <td>0.88</td>\n",
              "      <td>0.88</td>\n",
              "      <td>0.88</td>\n",
              "      <td>35.25</td>\n",
              "    </tr>\n",
              "    <tr>\n",
              "      <th>RidgeClassifierCV</th>\n",
              "      <td>0.88</td>\n",
              "      <td>0.87</td>\n",
              "      <td>0.87</td>\n",
              "      <td>0.88</td>\n",
              "      <td>1.74</td>\n",
              "    </tr>\n",
              "    <tr>\n",
              "      <th>LinearDiscriminantAnalysis</th>\n",
              "      <td>0.88</td>\n",
              "      <td>0.87</td>\n",
              "      <td>0.87</td>\n",
              "      <td>0.88</td>\n",
              "      <td>2.29</td>\n",
              "    </tr>\n",
              "    <tr>\n",
              "      <th>RidgeClassifier</th>\n",
              "      <td>0.88</td>\n",
              "      <td>0.87</td>\n",
              "      <td>0.87</td>\n",
              "      <td>0.88</td>\n",
              "      <td>0.56</td>\n",
              "    </tr>\n",
              "    <tr>\n",
              "      <th>NuSVC</th>\n",
              "      <td>0.87</td>\n",
              "      <td>0.86</td>\n",
              "      <td>0.86</td>\n",
              "      <td>0.87</td>\n",
              "      <td>368.04</td>\n",
              "    </tr>\n",
              "    <tr>\n",
              "      <th>SGDClassifier</th>\n",
              "      <td>0.86</td>\n",
              "      <td>0.86</td>\n",
              "      <td>0.86</td>\n",
              "      <td>0.86</td>\n",
              "      <td>3.48</td>\n",
              "    </tr>\n",
              "    <tr>\n",
              "      <th>AdaBoostClassifier</th>\n",
              "      <td>0.84</td>\n",
              "      <td>0.84</td>\n",
              "      <td>0.84</td>\n",
              "      <td>0.84</td>\n",
              "      <td>34.07</td>\n",
              "    </tr>\n",
              "    <tr>\n",
              "      <th>Perceptron</th>\n",
              "      <td>0.83</td>\n",
              "      <td>0.83</td>\n",
              "      <td>0.83</td>\n",
              "      <td>0.83</td>\n",
              "      <td>0.59</td>\n",
              "    </tr>\n",
              "    <tr>\n",
              "      <th>PassiveAggressiveClassifier</th>\n",
              "      <td>0.83</td>\n",
              "      <td>0.83</td>\n",
              "      <td>0.83</td>\n",
              "      <td>0.83</td>\n",
              "      <td>0.71</td>\n",
              "    </tr>\n",
              "    <tr>\n",
              "      <th>GaussianNB</th>\n",
              "      <td>0.68</td>\n",
              "      <td>0.68</td>\n",
              "      <td>0.68</td>\n",
              "      <td>0.68</td>\n",
              "      <td>0.40</td>\n",
              "    </tr>\n",
              "    <tr>\n",
              "      <th>BernoulliNB</th>\n",
              "      <td>0.69</td>\n",
              "      <td>0.68</td>\n",
              "      <td>0.68</td>\n",
              "      <td>0.69</td>\n",
              "      <td>0.53</td>\n",
              "    </tr>\n",
              "    <tr>\n",
              "      <th>NearestCentroid</th>\n",
              "      <td>0.66</td>\n",
              "      <td>0.66</td>\n",
              "      <td>0.66</td>\n",
              "      <td>0.66</td>\n",
              "      <td>0.44</td>\n",
              "    </tr>\n",
              "    <tr>\n",
              "      <th>DummyClassifier</th>\n",
              "      <td>0.52</td>\n",
              "      <td>0.51</td>\n",
              "      <td>0.51</td>\n",
              "      <td>0.52</td>\n",
              "      <td>0.30</td>\n",
              "    </tr>\n",
              "    <tr>\n",
              "      <th>CheckingClassifier</th>\n",
              "      <td>0.59</td>\n",
              "      <td>0.50</td>\n",
              "      <td>0.50</td>\n",
              "      <td>0.43</td>\n",
              "      <td>0.30</td>\n",
              "    </tr>\n",
              "  </tbody>\n",
              "</table>\n",
              "</div>"
            ],
            "text/plain": [
              "                               Accuracy  ...  Time Taken\n",
              "Model                                    ...            \n",
              "SVC                                0.97  ...      193.54\n",
              "LGBMClassifier                     0.96  ...       17.28\n",
              "ExtraTreesClassifier               0.96  ...        8.46\n",
              "RandomForestClassifier             0.96  ...       24.85\n",
              "BaggingClassifier                  0.95  ...       57.80\n",
              "KNeighborsClassifier               0.94  ...       38.75\n",
              "DecisionTreeClassifier             0.93  ...       11.99\n",
              "ExtraTreeClassifier                0.93  ...        0.39\n",
              "LabelPropagation                   0.94  ...       60.10\n",
              "LabelSpreading                     0.94  ...       57.09\n",
              "QuadraticDiscriminantAnalysis      0.92  ...        1.62\n",
              "XGBClassifier                      0.91  ...       29.23\n",
              "LogisticRegression                 0.89  ...        2.31\n",
              "CalibratedClassifierCV             0.89  ...      145.72\n",
              "LinearSVC                          0.88  ...       35.25\n",
              "RidgeClassifierCV                  0.88  ...        1.74\n",
              "LinearDiscriminantAnalysis         0.88  ...        2.29\n",
              "RidgeClassifier                    0.88  ...        0.56\n",
              "NuSVC                              0.87  ...      368.04\n",
              "SGDClassifier                      0.86  ...        3.48\n",
              "AdaBoostClassifier                 0.84  ...       34.07\n",
              "Perceptron                         0.83  ...        0.59\n",
              "PassiveAggressiveClassifier        0.83  ...        0.71\n",
              "GaussianNB                         0.68  ...        0.40\n",
              "BernoulliNB                        0.69  ...        0.53\n",
              "NearestCentroid                    0.66  ...        0.44\n",
              "DummyClassifier                    0.52  ...        0.30\n",
              "CheckingClassifier                 0.59  ...        0.30\n",
              "\n",
              "[28 rows x 5 columns]"
            ]
          },
          "metadata": {
            "tags": []
          },
          "execution_count": 94
        }
      ]
    },
    {
      "cell_type": "code",
      "metadata": {
        "id": "1M-WfRWDm4av"
      },
      "source": [
        "import en_core_web_lg"
      ],
      "execution_count": null,
      "outputs": []
    },
    {
      "cell_type": "code",
      "metadata": {
        "id": "DwnOoNXgl9lz"
      },
      "source": [
        "nlp= en_core_web_lg.load()"
      ],
      "execution_count": null,
      "outputs": []
    },
    {
      "cell_type": "code",
      "metadata": {
        "colab": {
          "base_uri": "https://localhost:8080/",
          "height": 431
        },
        "id": "zRMc2qOGoi0a",
        "outputId": "d61d6929-d94b-4d08-faf7-b5029673f217"
      },
      "source": [
        "df3"
      ],
      "execution_count": null,
      "outputs": [
        {
          "output_type": "execute_result",
          "data": {
            "text/html": [
              "<div>\n",
              "<style scoped>\n",
              "    .dataframe tbody tr th:only-of-type {\n",
              "        vertical-align: middle;\n",
              "    }\n",
              "\n",
              "    .dataframe tbody tr th {\n",
              "        vertical-align: top;\n",
              "    }\n",
              "\n",
              "    .dataframe thead th {\n",
              "        text-align: right;\n",
              "    }\n",
              "</style>\n",
              "<table border=\"1\" class=\"dataframe\">\n",
              "  <thead>\n",
              "    <tr style=\"text-align: right;\">\n",
              "      <th></th>\n",
              "      <th>tweet</th>\n",
              "      <th>Sentiment_value</th>\n",
              "      <th>vec</th>\n",
              "    </tr>\n",
              "    <tr>\n",
              "      <th>user</th>\n",
              "      <th></th>\n",
              "      <th></th>\n",
              "      <th></th>\n",
              "    </tr>\n",
              "  </thead>\n",
              "  <tbody>\n",
              "    <tr>\n",
              "      <th>jagadishrjain</th>\n",
              "      <td>rrrameshrrr 50 of the quad japan australia and...</td>\n",
              "      <td>1</td>\n",
              "      <td>[0.09004612, 0.034690373, -0.05848376, -0.0992...</td>\n",
              "    </tr>\n",
              "    <tr>\n",
              "      <th>hellfire_81</th>\n",
              "      <td>coolquad riplegic military grouping httpstcocx...</td>\n",
              "      <td>0</td>\n",
              "      <td>[-0.048197, -0.0028900013, 0.158472, -0.000815...</td>\n",
              "    </tr>\n",
              "    <tr>\n",
              "      <th>Savitri4Ever</th>\n",
              "      <td>hellfire_81 coolquad riplegic military groupin...</td>\n",
              "      <td>0</td>\n",
              "      <td>[-0.04016417, -0.0024083343, 0.13206, -0.00067...</td>\n",
              "    </tr>\n",
              "    <tr>\n",
              "      <th>orfonline</th>\n",
              "      <td>the creation of the quad with implications for...</td>\n",
              "      <td>0</td>\n",
              "      <td>[-0.0034065263, 0.052838676, -0.04663989, -0.0...</td>\n",
              "    </tr>\n",
              "    <tr>\n",
              "      <th>InsightGL</th>\n",
              "      <td>asthana_shashi jaishankar attends east asia su...</td>\n",
              "      <td>0</td>\n",
              "      <td>[0.005938239, 0.046918474, 0.17063224, -0.0793...</td>\n",
              "    </tr>\n",
              "    <tr>\n",
              "      <th>...</th>\n",
              "      <td>...</td>\n",
              "      <td>...</td>\n",
              "      <td>...</td>\n",
              "    </tr>\n",
              "    <tr>\n",
              "      <th>RamKuma19784093</th>\n",
              "      <td>india france discuss counterterrorism cooperat...</td>\n",
              "      <td>0</td>\n",
              "      <td>[-0.2111061, 0.14078437, 0.19124909, -0.041424...</td>\n",
              "    </tr>\n",
              "    <tr>\n",
              "      <th>CPR_India</th>\n",
              "      <td>as quad prepares to meet the chinese challenge...</td>\n",
              "      <td>0</td>\n",
              "      <td>[0.07365824, 0.047069248, -0.04199921, -0.0479...</td>\n",
              "    </tr>\n",
              "    <tr>\n",
              "      <th>Resort_Skelin</th>\n",
              "      <td>every team is different lets create a perfect ...</td>\n",
              "      <td>1</td>\n",
              "      <td>[-0.04819747, 0.14340034, -0.1358337, 0.003916...</td>\n",
              "    </tr>\n",
              "    <tr>\n",
              "      <th>KBhairava1</th>\n",
              "      <td>this here is very tricky yes its true aussies ...</td>\n",
              "      <td>1</td>\n",
              "      <td>[-0.057174828, 0.18994899, -0.1468728, -0.1116...</td>\n",
              "    </tr>\n",
              "    <tr>\n",
              "      <th>Deepakk79951168</th>\n",
              "      <td>cpr_india as quad prepares to meet the chinese...</td>\n",
              "      <td>1</td>\n",
              "      <td>[-0.009540685, 0.053027954, -0.05255686, -0.04...</td>\n",
              "    </tr>\n",
              "  </tbody>\n",
              "</table>\n",
              "<p>29499 rows × 3 columns</p>\n",
              "</div>"
            ],
            "text/plain": [
              "                                                             tweet  ...                                                vec\n",
              "user                                                                ...                                                   \n",
              "jagadishrjain    rrrameshrrr 50 of the quad japan australia and...  ...  [0.09004612, 0.034690373, -0.05848376, -0.0992...\n",
              "hellfire_81      coolquad riplegic military grouping httpstcocx...  ...  [-0.048197, -0.0028900013, 0.158472, -0.000815...\n",
              "Savitri4Ever     hellfire_81 coolquad riplegic military groupin...  ...  [-0.04016417, -0.0024083343, 0.13206, -0.00067...\n",
              "orfonline        the creation of the quad with implications for...  ...  [-0.0034065263, 0.052838676, -0.04663989, -0.0...\n",
              "InsightGL        asthana_shashi jaishankar attends east asia su...  ...  [0.005938239, 0.046918474, 0.17063224, -0.0793...\n",
              "...                                                            ...  ...                                                ...\n",
              "RamKuma19784093  india france discuss counterterrorism cooperat...  ...  [-0.2111061, 0.14078437, 0.19124909, -0.041424...\n",
              "CPR_India        as quad prepares to meet the chinese challenge...  ...  [0.07365824, 0.047069248, -0.04199921, -0.0479...\n",
              "Resort_Skelin    every team is different lets create a perfect ...  ...  [-0.04819747, 0.14340034, -0.1358337, 0.003916...\n",
              "KBhairava1       this here is very tricky yes its true aussies ...  ...  [-0.057174828, 0.18994899, -0.1468728, -0.1116...\n",
              "Deepakk79951168  cpr_india as quad prepares to meet the chinese...  ...  [-0.009540685, 0.053027954, -0.05255686, -0.04...\n",
              "\n",
              "[29499 rows x 3 columns]"
            ]
          },
          "metadata": {
            "tags": []
          },
          "execution_count": 92
        }
      ]
    },
    {
      "cell_type": "code",
      "metadata": {
        "id": "Zqt9Rghfm8du"
      },
      "source": [
        "def get_vec(x):\n",
        "  doc = nlp(x)\n",
        "  vec = doc.vector\n",
        "  return vec"
      ],
      "execution_count": null,
      "outputs": []
    },
    {
      "cell_type": "code",
      "metadata": {
        "id": "h6To72Z2nOTH",
        "colab": {
          "base_uri": "https://localhost:8080/",
          "height": 404
        },
        "outputId": "2b50fb5b-2efe-45d1-fbc0-8f6fabc2bf0e"
      },
      "source": [
        "df3['vec']=df3['tweet'].apply(lambda x: get_vec(x) )"
      ],
      "execution_count": null,
      "outputs": [
        {
          "output_type": "error",
          "ename": "KeyboardInterrupt",
          "evalue": "ignored",
          "traceback": [
            "\u001b[0;31m---------------------------------------------------------------------------\u001b[0m",
            "\u001b[0;31mKeyboardInterrupt\u001b[0m                         Traceback (most recent call last)",
            "\u001b[0;32m<ipython-input-74-c3564a73e025>\u001b[0m in \u001b[0;36m<module>\u001b[0;34m()\u001b[0m\n\u001b[0;32m----> 1\u001b[0;31m \u001b[0mdf3\u001b[0m\u001b[0;34m[\u001b[0m\u001b[0;34m'vec'\u001b[0m\u001b[0;34m]\u001b[0m\u001b[0;34m=\u001b[0m\u001b[0mdf3\u001b[0m\u001b[0;34m[\u001b[0m\u001b[0;34m'tweet'\u001b[0m\u001b[0;34m]\u001b[0m\u001b[0;34m.\u001b[0m\u001b[0mapply\u001b[0m\u001b[0;34m(\u001b[0m\u001b[0;32mlambda\u001b[0m \u001b[0mx\u001b[0m\u001b[0;34m:\u001b[0m \u001b[0mget_vec\u001b[0m\u001b[0;34m(\u001b[0m\u001b[0mx\u001b[0m\u001b[0;34m)\u001b[0m \u001b[0;34m)\u001b[0m\u001b[0;34m\u001b[0m\u001b[0;34m\u001b[0m\u001b[0m\n\u001b[0m",
            "\u001b[0;32m/usr/local/lib/python3.6/dist-packages/pandas/core/series.py\u001b[0m in \u001b[0;36mapply\u001b[0;34m(self, func, convert_dtype, args, **kwds)\u001b[0m\n\u001b[1;32m   4211\u001b[0m             \u001b[0;32melse\u001b[0m\u001b[0;34m:\u001b[0m\u001b[0;34m\u001b[0m\u001b[0;34m\u001b[0m\u001b[0m\n\u001b[1;32m   4212\u001b[0m                 \u001b[0mvalues\u001b[0m \u001b[0;34m=\u001b[0m \u001b[0mself\u001b[0m\u001b[0;34m.\u001b[0m\u001b[0mastype\u001b[0m\u001b[0;34m(\u001b[0m\u001b[0mobject\u001b[0m\u001b[0;34m)\u001b[0m\u001b[0;34m.\u001b[0m\u001b[0m_values\u001b[0m\u001b[0;34m\u001b[0m\u001b[0;34m\u001b[0m\u001b[0m\n\u001b[0;32m-> 4213\u001b[0;31m                 \u001b[0mmapped\u001b[0m \u001b[0;34m=\u001b[0m \u001b[0mlib\u001b[0m\u001b[0;34m.\u001b[0m\u001b[0mmap_infer\u001b[0m\u001b[0;34m(\u001b[0m\u001b[0mvalues\u001b[0m\u001b[0;34m,\u001b[0m \u001b[0mf\u001b[0m\u001b[0;34m,\u001b[0m \u001b[0mconvert\u001b[0m\u001b[0;34m=\u001b[0m\u001b[0mconvert_dtype\u001b[0m\u001b[0;34m)\u001b[0m\u001b[0;34m\u001b[0m\u001b[0;34m\u001b[0m\u001b[0m\n\u001b[0m\u001b[1;32m   4214\u001b[0m \u001b[0;34m\u001b[0m\u001b[0m\n\u001b[1;32m   4215\u001b[0m         \u001b[0;32mif\u001b[0m \u001b[0mlen\u001b[0m\u001b[0;34m(\u001b[0m\u001b[0mmapped\u001b[0m\u001b[0;34m)\u001b[0m \u001b[0;32mand\u001b[0m \u001b[0misinstance\u001b[0m\u001b[0;34m(\u001b[0m\u001b[0mmapped\u001b[0m\u001b[0;34m[\u001b[0m\u001b[0;36m0\u001b[0m\u001b[0;34m]\u001b[0m\u001b[0;34m,\u001b[0m \u001b[0mSeries\u001b[0m\u001b[0;34m)\u001b[0m\u001b[0;34m:\u001b[0m\u001b[0;34m\u001b[0m\u001b[0;34m\u001b[0m\u001b[0m\n",
            "\u001b[0;32mpandas/_libs/lib.pyx\u001b[0m in \u001b[0;36mpandas._libs.lib.map_infer\u001b[0;34m()\u001b[0m\n",
            "\u001b[0;32m<ipython-input-74-c3564a73e025>\u001b[0m in \u001b[0;36m<lambda>\u001b[0;34m(x)\u001b[0m\n\u001b[0;32m----> 1\u001b[0;31m \u001b[0mdf3\u001b[0m\u001b[0;34m[\u001b[0m\u001b[0;34m'vec'\u001b[0m\u001b[0;34m]\u001b[0m\u001b[0;34m=\u001b[0m\u001b[0mdf3\u001b[0m\u001b[0;34m[\u001b[0m\u001b[0;34m'tweet'\u001b[0m\u001b[0;34m]\u001b[0m\u001b[0;34m.\u001b[0m\u001b[0mapply\u001b[0m\u001b[0;34m(\u001b[0m\u001b[0;32mlambda\u001b[0m \u001b[0mx\u001b[0m\u001b[0;34m:\u001b[0m \u001b[0mget_vec\u001b[0m\u001b[0;34m(\u001b[0m\u001b[0mx\u001b[0m\u001b[0;34m)\u001b[0m \u001b[0;34m)\u001b[0m\u001b[0;34m\u001b[0m\u001b[0;34m\u001b[0m\u001b[0m\n\u001b[0m",
            "\u001b[0;32m<ipython-input-63-257b00ec89cd>\u001b[0m in \u001b[0;36mget_vec\u001b[0;34m(x)\u001b[0m\n\u001b[1;32m      1\u001b[0m \u001b[0;32mdef\u001b[0m \u001b[0mget_vec\u001b[0m\u001b[0;34m(\u001b[0m\u001b[0mx\u001b[0m\u001b[0;34m)\u001b[0m\u001b[0;34m:\u001b[0m\u001b[0;34m\u001b[0m\u001b[0;34m\u001b[0m\u001b[0m\n\u001b[0;32m----> 2\u001b[0;31m   \u001b[0mdoc\u001b[0m \u001b[0;34m=\u001b[0m \u001b[0mnlp\u001b[0m\u001b[0;34m(\u001b[0m\u001b[0mx\u001b[0m\u001b[0;34m)\u001b[0m\u001b[0;34m\u001b[0m\u001b[0;34m\u001b[0m\u001b[0m\n\u001b[0m\u001b[1;32m      3\u001b[0m   \u001b[0mvec\u001b[0m \u001b[0;34m=\u001b[0m \u001b[0mdoc\u001b[0m\u001b[0;34m.\u001b[0m\u001b[0mvector\u001b[0m\u001b[0;34m\u001b[0m\u001b[0;34m\u001b[0m\u001b[0m\n\u001b[1;32m      4\u001b[0m   \u001b[0;32mreturn\u001b[0m \u001b[0mvec\u001b[0m\u001b[0;34m\u001b[0m\u001b[0;34m\u001b[0m\u001b[0m\n",
            "\u001b[0;32m/usr/local/lib/python3.6/dist-packages/spacy/language.py\u001b[0m in \u001b[0;36m__call__\u001b[0;34m(self, text, disable, component_cfg)\u001b[0m\n\u001b[1;32m    437\u001b[0m             \u001b[0;32mif\u001b[0m \u001b[0;32mnot\u001b[0m \u001b[0mhasattr\u001b[0m\u001b[0;34m(\u001b[0m\u001b[0mproc\u001b[0m\u001b[0;34m,\u001b[0m \u001b[0;34m\"__call__\"\u001b[0m\u001b[0;34m)\u001b[0m\u001b[0;34m:\u001b[0m\u001b[0;34m\u001b[0m\u001b[0;34m\u001b[0m\u001b[0m\n\u001b[1;32m    438\u001b[0m                 \u001b[0;32mraise\u001b[0m \u001b[0mValueError\u001b[0m\u001b[0;34m(\u001b[0m\u001b[0mErrors\u001b[0m\u001b[0;34m.\u001b[0m\u001b[0mE003\u001b[0m\u001b[0;34m.\u001b[0m\u001b[0mformat\u001b[0m\u001b[0;34m(\u001b[0m\u001b[0mcomponent\u001b[0m\u001b[0;34m=\u001b[0m\u001b[0mtype\u001b[0m\u001b[0;34m(\u001b[0m\u001b[0mproc\u001b[0m\u001b[0;34m)\u001b[0m\u001b[0;34m,\u001b[0m \u001b[0mname\u001b[0m\u001b[0;34m=\u001b[0m\u001b[0mname\u001b[0m\u001b[0;34m)\u001b[0m\u001b[0;34m)\u001b[0m\u001b[0;34m\u001b[0m\u001b[0;34m\u001b[0m\u001b[0m\n\u001b[0;32m--> 439\u001b[0;31m             \u001b[0mdoc\u001b[0m \u001b[0;34m=\u001b[0m \u001b[0mproc\u001b[0m\u001b[0;34m(\u001b[0m\u001b[0mdoc\u001b[0m\u001b[0;34m,\u001b[0m \u001b[0;34m**\u001b[0m\u001b[0mcomponent_cfg\u001b[0m\u001b[0;34m.\u001b[0m\u001b[0mget\u001b[0m\u001b[0;34m(\u001b[0m\u001b[0mname\u001b[0m\u001b[0;34m,\u001b[0m \u001b[0;34m{\u001b[0m\u001b[0;34m}\u001b[0m\u001b[0;34m)\u001b[0m\u001b[0;34m)\u001b[0m\u001b[0;34m\u001b[0m\u001b[0;34m\u001b[0m\u001b[0m\n\u001b[0m\u001b[1;32m    440\u001b[0m             \u001b[0;32mif\u001b[0m \u001b[0mdoc\u001b[0m \u001b[0;32mis\u001b[0m \u001b[0;32mNone\u001b[0m\u001b[0;34m:\u001b[0m\u001b[0;34m\u001b[0m\u001b[0;34m\u001b[0m\u001b[0m\n\u001b[1;32m    441\u001b[0m                 \u001b[0;32mraise\u001b[0m \u001b[0mValueError\u001b[0m\u001b[0;34m(\u001b[0m\u001b[0mErrors\u001b[0m\u001b[0;34m.\u001b[0m\u001b[0mE005\u001b[0m\u001b[0;34m.\u001b[0m\u001b[0mformat\u001b[0m\u001b[0;34m(\u001b[0m\u001b[0mname\u001b[0m\u001b[0;34m=\u001b[0m\u001b[0mname\u001b[0m\u001b[0;34m)\u001b[0m\u001b[0;34m)\u001b[0m\u001b[0;34m\u001b[0m\u001b[0;34m\u001b[0m\u001b[0m\n",
            "\u001b[0;32mpipes.pyx\u001b[0m in \u001b[0;36mspacy.pipeline.pipes.Tagger.__call__\u001b[0;34m()\u001b[0m\n",
            "\u001b[0;32mpipes.pyx\u001b[0m in \u001b[0;36mspacy.pipeline.pipes.Tagger.predict\u001b[0;34m()\u001b[0m\n",
            "\u001b[0;32m/usr/local/lib/python3.6/dist-packages/thinc/neural/_classes/model.py\u001b[0m in \u001b[0;36m__call__\u001b[0;34m(self, x)\u001b[0m\n\u001b[1;32m    165\u001b[0m             \u001b[0mMust\u001b[0m \u001b[0mmatch\u001b[0m \u001b[0mexpected\u001b[0m \u001b[0mshape\u001b[0m\u001b[0;34m\u001b[0m\u001b[0;34m\u001b[0m\u001b[0m\n\u001b[1;32m    166\u001b[0m         \"\"\"\n\u001b[0;32m--> 167\u001b[0;31m         \u001b[0;32mreturn\u001b[0m \u001b[0mself\u001b[0m\u001b[0;34m.\u001b[0m\u001b[0mpredict\u001b[0m\u001b[0;34m(\u001b[0m\u001b[0mx\u001b[0m\u001b[0;34m)\u001b[0m\u001b[0;34m\u001b[0m\u001b[0;34m\u001b[0m\u001b[0m\n\u001b[0m\u001b[1;32m    168\u001b[0m \u001b[0;34m\u001b[0m\u001b[0m\n\u001b[1;32m    169\u001b[0m     \u001b[0;32mdef\u001b[0m \u001b[0mpipe\u001b[0m\u001b[0;34m(\u001b[0m\u001b[0mself\u001b[0m\u001b[0;34m,\u001b[0m \u001b[0mstream\u001b[0m\u001b[0;34m,\u001b[0m \u001b[0mbatch_size\u001b[0m\u001b[0;34m=\u001b[0m\u001b[0;36m128\u001b[0m\u001b[0;34m)\u001b[0m\u001b[0;34m:\u001b[0m\u001b[0;34m\u001b[0m\u001b[0;34m\u001b[0m\u001b[0m\n",
            "\u001b[0;32m/usr/local/lib/python3.6/dist-packages/thinc/neural/_classes/feed_forward.py\u001b[0m in \u001b[0;36mpredict\u001b[0;34m(self, X)\u001b[0m\n\u001b[1;32m     38\u001b[0m     \u001b[0;32mdef\u001b[0m \u001b[0mpredict\u001b[0m\u001b[0;34m(\u001b[0m\u001b[0mself\u001b[0m\u001b[0;34m,\u001b[0m \u001b[0mX\u001b[0m\u001b[0;34m)\u001b[0m\u001b[0;34m:\u001b[0m\u001b[0;34m\u001b[0m\u001b[0;34m\u001b[0m\u001b[0m\n\u001b[1;32m     39\u001b[0m         \u001b[0;32mfor\u001b[0m \u001b[0mlayer\u001b[0m \u001b[0;32min\u001b[0m \u001b[0mself\u001b[0m\u001b[0;34m.\u001b[0m\u001b[0m_layers\u001b[0m\u001b[0;34m:\u001b[0m\u001b[0;34m\u001b[0m\u001b[0;34m\u001b[0m\u001b[0m\n\u001b[0;32m---> 40\u001b[0;31m             \u001b[0mX\u001b[0m \u001b[0;34m=\u001b[0m \u001b[0mlayer\u001b[0m\u001b[0;34m(\u001b[0m\u001b[0mX\u001b[0m\u001b[0;34m)\u001b[0m\u001b[0;34m\u001b[0m\u001b[0;34m\u001b[0m\u001b[0m\n\u001b[0m\u001b[1;32m     41\u001b[0m         \u001b[0;32mreturn\u001b[0m \u001b[0mX\u001b[0m\u001b[0;34m\u001b[0m\u001b[0;34m\u001b[0m\u001b[0m\n\u001b[1;32m     42\u001b[0m \u001b[0;34m\u001b[0m\u001b[0m\n",
            "\u001b[0;32m/usr/local/lib/python3.6/dist-packages/thinc/neural/_classes/model.py\u001b[0m in \u001b[0;36m__call__\u001b[0;34m(self, x)\u001b[0m\n\u001b[1;32m    165\u001b[0m             \u001b[0mMust\u001b[0m \u001b[0mmatch\u001b[0m \u001b[0mexpected\u001b[0m \u001b[0mshape\u001b[0m\u001b[0;34m\u001b[0m\u001b[0;34m\u001b[0m\u001b[0m\n\u001b[1;32m    166\u001b[0m         \"\"\"\n\u001b[0;32m--> 167\u001b[0;31m         \u001b[0;32mreturn\u001b[0m \u001b[0mself\u001b[0m\u001b[0;34m.\u001b[0m\u001b[0mpredict\u001b[0m\u001b[0;34m(\u001b[0m\u001b[0mx\u001b[0m\u001b[0;34m)\u001b[0m\u001b[0;34m\u001b[0m\u001b[0;34m\u001b[0m\u001b[0m\n\u001b[0m\u001b[1;32m    168\u001b[0m \u001b[0;34m\u001b[0m\u001b[0m\n\u001b[1;32m    169\u001b[0m     \u001b[0;32mdef\u001b[0m \u001b[0mpipe\u001b[0m\u001b[0;34m(\u001b[0m\u001b[0mself\u001b[0m\u001b[0;34m,\u001b[0m \u001b[0mstream\u001b[0m\u001b[0;34m,\u001b[0m \u001b[0mbatch_size\u001b[0m\u001b[0;34m=\u001b[0m\u001b[0;36m128\u001b[0m\u001b[0;34m)\u001b[0m\u001b[0;34m:\u001b[0m\u001b[0;34m\u001b[0m\u001b[0;34m\u001b[0m\u001b[0m\n",
            "\u001b[0;32m/usr/local/lib/python3.6/dist-packages/thinc/api.py\u001b[0m in \u001b[0;36mpredict\u001b[0;34m(seqs_in)\u001b[0m\n\u001b[1;32m    308\u001b[0m     \u001b[0;32mdef\u001b[0m \u001b[0mpredict\u001b[0m\u001b[0;34m(\u001b[0m\u001b[0mseqs_in\u001b[0m\u001b[0;34m)\u001b[0m\u001b[0;34m:\u001b[0m\u001b[0;34m\u001b[0m\u001b[0;34m\u001b[0m\u001b[0m\n\u001b[1;32m    309\u001b[0m         \u001b[0mlengths\u001b[0m \u001b[0;34m=\u001b[0m \u001b[0mlayer\u001b[0m\u001b[0;34m.\u001b[0m\u001b[0mops\u001b[0m\u001b[0;34m.\u001b[0m\u001b[0masarray\u001b[0m\u001b[0;34m(\u001b[0m\u001b[0;34m[\u001b[0m\u001b[0mlen\u001b[0m\u001b[0;34m(\u001b[0m\u001b[0mseq\u001b[0m\u001b[0;34m)\u001b[0m \u001b[0;32mfor\u001b[0m \u001b[0mseq\u001b[0m \u001b[0;32min\u001b[0m \u001b[0mseqs_in\u001b[0m\u001b[0;34m]\u001b[0m\u001b[0;34m)\u001b[0m\u001b[0;34m\u001b[0m\u001b[0;34m\u001b[0m\u001b[0m\n\u001b[0;32m--> 310\u001b[0;31m         \u001b[0mX\u001b[0m \u001b[0;34m=\u001b[0m \u001b[0mlayer\u001b[0m\u001b[0;34m(\u001b[0m\u001b[0mlayer\u001b[0m\u001b[0;34m.\u001b[0m\u001b[0mops\u001b[0m\u001b[0;34m.\u001b[0m\u001b[0mflatten\u001b[0m\u001b[0;34m(\u001b[0m\u001b[0mseqs_in\u001b[0m\u001b[0;34m,\u001b[0m \u001b[0mpad\u001b[0m\u001b[0;34m=\u001b[0m\u001b[0mpad\u001b[0m\u001b[0;34m)\u001b[0m\u001b[0;34m)\u001b[0m\u001b[0;34m\u001b[0m\u001b[0;34m\u001b[0m\u001b[0m\n\u001b[0m\u001b[1;32m    311\u001b[0m         \u001b[0;32mreturn\u001b[0m \u001b[0mlayer\u001b[0m\u001b[0;34m.\u001b[0m\u001b[0mops\u001b[0m\u001b[0;34m.\u001b[0m\u001b[0munflatten\u001b[0m\u001b[0;34m(\u001b[0m\u001b[0mX\u001b[0m\u001b[0;34m,\u001b[0m \u001b[0mlengths\u001b[0m\u001b[0;34m,\u001b[0m \u001b[0mpad\u001b[0m\u001b[0;34m=\u001b[0m\u001b[0mpad\u001b[0m\u001b[0;34m)\u001b[0m\u001b[0;34m\u001b[0m\u001b[0;34m\u001b[0m\u001b[0m\n\u001b[1;32m    312\u001b[0m \u001b[0;34m\u001b[0m\u001b[0m\n",
            "\u001b[0;32m/usr/local/lib/python3.6/dist-packages/thinc/neural/_classes/model.py\u001b[0m in \u001b[0;36m__call__\u001b[0;34m(self, x)\u001b[0m\n\u001b[1;32m    165\u001b[0m             \u001b[0mMust\u001b[0m \u001b[0mmatch\u001b[0m \u001b[0mexpected\u001b[0m \u001b[0mshape\u001b[0m\u001b[0;34m\u001b[0m\u001b[0;34m\u001b[0m\u001b[0m\n\u001b[1;32m    166\u001b[0m         \"\"\"\n\u001b[0;32m--> 167\u001b[0;31m         \u001b[0;32mreturn\u001b[0m \u001b[0mself\u001b[0m\u001b[0;34m.\u001b[0m\u001b[0mpredict\u001b[0m\u001b[0;34m(\u001b[0m\u001b[0mx\u001b[0m\u001b[0;34m)\u001b[0m\u001b[0;34m\u001b[0m\u001b[0;34m\u001b[0m\u001b[0m\n\u001b[0m\u001b[1;32m    168\u001b[0m \u001b[0;34m\u001b[0m\u001b[0m\n\u001b[1;32m    169\u001b[0m     \u001b[0;32mdef\u001b[0m \u001b[0mpipe\u001b[0m\u001b[0;34m(\u001b[0m\u001b[0mself\u001b[0m\u001b[0;34m,\u001b[0m \u001b[0mstream\u001b[0m\u001b[0;34m,\u001b[0m \u001b[0mbatch_size\u001b[0m\u001b[0;34m=\u001b[0m\u001b[0;36m128\u001b[0m\u001b[0;34m)\u001b[0m\u001b[0;34m:\u001b[0m\u001b[0;34m\u001b[0m\u001b[0;34m\u001b[0m\u001b[0m\n",
            "\u001b[0;32m/usr/local/lib/python3.6/dist-packages/thinc/neural/_classes/feed_forward.py\u001b[0m in \u001b[0;36mpredict\u001b[0;34m(self, X)\u001b[0m\n\u001b[1;32m     38\u001b[0m     \u001b[0;32mdef\u001b[0m \u001b[0mpredict\u001b[0m\u001b[0;34m(\u001b[0m\u001b[0mself\u001b[0m\u001b[0;34m,\u001b[0m \u001b[0mX\u001b[0m\u001b[0;34m)\u001b[0m\u001b[0;34m:\u001b[0m\u001b[0;34m\u001b[0m\u001b[0;34m\u001b[0m\u001b[0m\n\u001b[1;32m     39\u001b[0m         \u001b[0;32mfor\u001b[0m \u001b[0mlayer\u001b[0m \u001b[0;32min\u001b[0m \u001b[0mself\u001b[0m\u001b[0;34m.\u001b[0m\u001b[0m_layers\u001b[0m\u001b[0;34m:\u001b[0m\u001b[0;34m\u001b[0m\u001b[0;34m\u001b[0m\u001b[0m\n\u001b[0;32m---> 40\u001b[0;31m             \u001b[0mX\u001b[0m \u001b[0;34m=\u001b[0m \u001b[0mlayer\u001b[0m\u001b[0;34m(\u001b[0m\u001b[0mX\u001b[0m\u001b[0;34m)\u001b[0m\u001b[0;34m\u001b[0m\u001b[0;34m\u001b[0m\u001b[0m\n\u001b[0m\u001b[1;32m     41\u001b[0m         \u001b[0;32mreturn\u001b[0m \u001b[0mX\u001b[0m\u001b[0;34m\u001b[0m\u001b[0;34m\u001b[0m\u001b[0m\n\u001b[1;32m     42\u001b[0m \u001b[0;34m\u001b[0m\u001b[0m\n",
            "\u001b[0;32m/usr/local/lib/python3.6/dist-packages/thinc/neural/_classes/model.py\u001b[0m in \u001b[0;36m__call__\u001b[0;34m(self, x)\u001b[0m\n\u001b[1;32m    165\u001b[0m             \u001b[0mMust\u001b[0m \u001b[0mmatch\u001b[0m \u001b[0mexpected\u001b[0m \u001b[0mshape\u001b[0m\u001b[0;34m\u001b[0m\u001b[0;34m\u001b[0m\u001b[0m\n\u001b[1;32m    166\u001b[0m         \"\"\"\n\u001b[0;32m--> 167\u001b[0;31m         \u001b[0;32mreturn\u001b[0m \u001b[0mself\u001b[0m\u001b[0;34m.\u001b[0m\u001b[0mpredict\u001b[0m\u001b[0;34m(\u001b[0m\u001b[0mx\u001b[0m\u001b[0;34m)\u001b[0m\u001b[0;34m\u001b[0m\u001b[0;34m\u001b[0m\u001b[0m\n\u001b[0m\u001b[1;32m    168\u001b[0m \u001b[0;34m\u001b[0m\u001b[0m\n\u001b[1;32m    169\u001b[0m     \u001b[0;32mdef\u001b[0m \u001b[0mpipe\u001b[0m\u001b[0;34m(\u001b[0m\u001b[0mself\u001b[0m\u001b[0;34m,\u001b[0m \u001b[0mstream\u001b[0m\u001b[0;34m,\u001b[0m \u001b[0mbatch_size\u001b[0m\u001b[0;34m=\u001b[0m\u001b[0;36m128\u001b[0m\u001b[0;34m)\u001b[0m\u001b[0;34m:\u001b[0m\u001b[0;34m\u001b[0m\u001b[0;34m\u001b[0m\u001b[0m\n",
            "\u001b[0;32m/usr/local/lib/python3.6/dist-packages/thinc/neural/_classes/model.py\u001b[0m in \u001b[0;36mpredict\u001b[0;34m(self, X)\u001b[0m\n\u001b[1;32m    129\u001b[0m \u001b[0;34m\u001b[0m\u001b[0m\n\u001b[1;32m    130\u001b[0m     \u001b[0;32mdef\u001b[0m \u001b[0mpredict\u001b[0m\u001b[0;34m(\u001b[0m\u001b[0mself\u001b[0m\u001b[0;34m,\u001b[0m \u001b[0mX\u001b[0m\u001b[0;34m)\u001b[0m\u001b[0;34m:\u001b[0m\u001b[0;34m\u001b[0m\u001b[0;34m\u001b[0m\u001b[0m\n\u001b[0;32m--> 131\u001b[0;31m         \u001b[0my\u001b[0m\u001b[0;34m,\u001b[0m \u001b[0m_\u001b[0m \u001b[0;34m=\u001b[0m \u001b[0mself\u001b[0m\u001b[0;34m.\u001b[0m\u001b[0mbegin_update\u001b[0m\u001b[0;34m(\u001b[0m\u001b[0mX\u001b[0m\u001b[0;34m,\u001b[0m \u001b[0mdrop\u001b[0m\u001b[0;34m=\u001b[0m\u001b[0;32mNone\u001b[0m\u001b[0;34m)\u001b[0m\u001b[0;34m\u001b[0m\u001b[0;34m\u001b[0m\u001b[0m\n\u001b[0m\u001b[1;32m    132\u001b[0m         \u001b[0;32mreturn\u001b[0m \u001b[0my\u001b[0m\u001b[0;34m\u001b[0m\u001b[0;34m\u001b[0m\u001b[0m\n\u001b[1;32m    133\u001b[0m \u001b[0;34m\u001b[0m\u001b[0m\n",
            "\u001b[0;32m/usr/local/lib/python3.6/dist-packages/thinc/api.py\u001b[0m in \u001b[0;36muniqued_fwd\u001b[0;34m(X, drop)\u001b[0m\n\u001b[1;32m    377\u001b[0m         )\n\u001b[1;32m    378\u001b[0m         \u001b[0mX_uniq\u001b[0m \u001b[0;34m=\u001b[0m \u001b[0mlayer\u001b[0m\u001b[0;34m.\u001b[0m\u001b[0mops\u001b[0m\u001b[0;34m.\u001b[0m\u001b[0mxp\u001b[0m\u001b[0;34m.\u001b[0m\u001b[0mascontiguousarray\u001b[0m\u001b[0;34m(\u001b[0m\u001b[0mX\u001b[0m\u001b[0;34m[\u001b[0m\u001b[0mind\u001b[0m\u001b[0;34m]\u001b[0m\u001b[0;34m)\u001b[0m\u001b[0;34m\u001b[0m\u001b[0;34m\u001b[0m\u001b[0m\n\u001b[0;32m--> 379\u001b[0;31m         \u001b[0mY_uniq\u001b[0m\u001b[0;34m,\u001b[0m \u001b[0mbp_Y_uniq\u001b[0m \u001b[0;34m=\u001b[0m \u001b[0mlayer\u001b[0m\u001b[0;34m.\u001b[0m\u001b[0mbegin_update\u001b[0m\u001b[0;34m(\u001b[0m\u001b[0mX_uniq\u001b[0m\u001b[0;34m,\u001b[0m \u001b[0mdrop\u001b[0m\u001b[0;34m=\u001b[0m\u001b[0mdrop\u001b[0m\u001b[0;34m)\u001b[0m\u001b[0;34m\u001b[0m\u001b[0;34m\u001b[0m\u001b[0m\n\u001b[0m\u001b[1;32m    380\u001b[0m         \u001b[0mY\u001b[0m \u001b[0;34m=\u001b[0m \u001b[0mY_uniq\u001b[0m\u001b[0;34m[\u001b[0m\u001b[0minv\u001b[0m\u001b[0;34m]\u001b[0m\u001b[0;34m.\u001b[0m\u001b[0mreshape\u001b[0m\u001b[0;34m(\u001b[0m\u001b[0;34m(\u001b[0m\u001b[0mX\u001b[0m\u001b[0;34m.\u001b[0m\u001b[0mshape\u001b[0m\u001b[0;34m[\u001b[0m\u001b[0;36m0\u001b[0m\u001b[0;34m]\u001b[0m\u001b[0;34m,\u001b[0m\u001b[0;34m)\u001b[0m \u001b[0;34m+\u001b[0m \u001b[0mY_uniq\u001b[0m\u001b[0;34m.\u001b[0m\u001b[0mshape\u001b[0m\u001b[0;34m[\u001b[0m\u001b[0;36m1\u001b[0m\u001b[0;34m:\u001b[0m\u001b[0;34m]\u001b[0m\u001b[0;34m)\u001b[0m\u001b[0;34m\u001b[0m\u001b[0;34m\u001b[0m\u001b[0m\n\u001b[1;32m    381\u001b[0m \u001b[0;34m\u001b[0m\u001b[0m\n",
            "\u001b[0;32m/usr/local/lib/python3.6/dist-packages/thinc/neural/_classes/feed_forward.py\u001b[0m in \u001b[0;36mbegin_update\u001b[0;34m(self, X, drop)\u001b[0m\n\u001b[1;32m     44\u001b[0m         \u001b[0mcallbacks\u001b[0m \u001b[0;34m=\u001b[0m \u001b[0;34m[\u001b[0m\u001b[0;34m]\u001b[0m\u001b[0;34m\u001b[0m\u001b[0;34m\u001b[0m\u001b[0m\n\u001b[1;32m     45\u001b[0m         \u001b[0;32mfor\u001b[0m \u001b[0mlayer\u001b[0m \u001b[0;32min\u001b[0m \u001b[0mself\u001b[0m\u001b[0;34m.\u001b[0m\u001b[0m_layers\u001b[0m\u001b[0;34m:\u001b[0m\u001b[0;34m\u001b[0m\u001b[0;34m\u001b[0m\u001b[0m\n\u001b[0;32m---> 46\u001b[0;31m             \u001b[0mX\u001b[0m\u001b[0;34m,\u001b[0m \u001b[0minc_layer_grad\u001b[0m \u001b[0;34m=\u001b[0m \u001b[0mlayer\u001b[0m\u001b[0;34m.\u001b[0m\u001b[0mbegin_update\u001b[0m\u001b[0;34m(\u001b[0m\u001b[0mX\u001b[0m\u001b[0;34m,\u001b[0m \u001b[0mdrop\u001b[0m\u001b[0;34m=\u001b[0m\u001b[0mdrop\u001b[0m\u001b[0;34m)\u001b[0m\u001b[0;34m\u001b[0m\u001b[0;34m\u001b[0m\u001b[0m\n\u001b[0m\u001b[1;32m     47\u001b[0m             \u001b[0mcallbacks\u001b[0m\u001b[0;34m.\u001b[0m\u001b[0mappend\u001b[0m\u001b[0;34m(\u001b[0m\u001b[0minc_layer_grad\u001b[0m\u001b[0;34m)\u001b[0m\u001b[0;34m\u001b[0m\u001b[0;34m\u001b[0m\u001b[0m\n\u001b[1;32m     48\u001b[0m \u001b[0;34m\u001b[0m\u001b[0m\n",
            "\u001b[0;32m/usr/local/lib/python3.6/dist-packages/thinc/neural/_classes/layernorm.py\u001b[0m in \u001b[0;36mbegin_update\u001b[0;34m(self, X, drop)\u001b[0m\n\u001b[1;32m     60\u001b[0m     \u001b[0;32mdef\u001b[0m \u001b[0mbegin_update\u001b[0m\u001b[0;34m(\u001b[0m\u001b[0mself\u001b[0m\u001b[0;34m,\u001b[0m \u001b[0mX\u001b[0m\u001b[0;34m,\u001b[0m \u001b[0mdrop\u001b[0m\u001b[0;34m=\u001b[0m\u001b[0;36m0.0\u001b[0m\u001b[0;34m)\u001b[0m\u001b[0;34m:\u001b[0m\u001b[0;34m\u001b[0m\u001b[0;34m\u001b[0m\u001b[0m\n\u001b[1;32m     61\u001b[0m         \u001b[0;32mif\u001b[0m \u001b[0mself\u001b[0m\u001b[0;34m.\u001b[0m\u001b[0mchild\u001b[0m \u001b[0;32mis\u001b[0m \u001b[0;32mnot\u001b[0m \u001b[0;32mNone\u001b[0m\u001b[0;34m:\u001b[0m\u001b[0;34m\u001b[0m\u001b[0;34m\u001b[0m\u001b[0m\n\u001b[0;32m---> 62\u001b[0;31m             \u001b[0mX\u001b[0m\u001b[0;34m,\u001b[0m \u001b[0mbackprop_child\u001b[0m \u001b[0;34m=\u001b[0m \u001b[0mself\u001b[0m\u001b[0;34m.\u001b[0m\u001b[0mchild\u001b[0m\u001b[0;34m.\u001b[0m\u001b[0mbegin_update\u001b[0m\u001b[0;34m(\u001b[0m\u001b[0mX\u001b[0m\u001b[0;34m,\u001b[0m \u001b[0mdrop\u001b[0m\u001b[0;34m=\u001b[0m\u001b[0;36m0.0\u001b[0m\u001b[0;34m)\u001b[0m\u001b[0;34m\u001b[0m\u001b[0;34m\u001b[0m\u001b[0m\n\u001b[0m\u001b[1;32m     63\u001b[0m         \u001b[0;32melse\u001b[0m\u001b[0;34m:\u001b[0m\u001b[0;34m\u001b[0m\u001b[0;34m\u001b[0m\u001b[0m\n\u001b[1;32m     64\u001b[0m             \u001b[0mbackprop_child\u001b[0m \u001b[0;34m=\u001b[0m \u001b[0;32mNone\u001b[0m\u001b[0;34m\u001b[0m\u001b[0;34m\u001b[0m\u001b[0m\n",
            "\u001b[0;32m/usr/local/lib/python3.6/dist-packages/thinc/neural/_classes/maxout.py\u001b[0m in \u001b[0;36mbegin_update\u001b[0;34m(self, X__bi, drop)\u001b[0m\n\u001b[1;32m     77\u001b[0m         \u001b[0moutput__boc\u001b[0m \u001b[0;34m+=\u001b[0m \u001b[0mself\u001b[0m\u001b[0;34m.\u001b[0m\u001b[0mb\u001b[0m\u001b[0;34m.\u001b[0m\u001b[0mreshape\u001b[0m\u001b[0;34m(\u001b[0m\u001b[0;34m(\u001b[0m\u001b[0mself\u001b[0m\u001b[0;34m.\u001b[0m\u001b[0mnO\u001b[0m \u001b[0;34m*\u001b[0m \u001b[0mself\u001b[0m\u001b[0;34m.\u001b[0m\u001b[0mnP\u001b[0m\u001b[0;34m,\u001b[0m\u001b[0;34m)\u001b[0m\u001b[0;34m)\u001b[0m\u001b[0;34m\u001b[0m\u001b[0;34m\u001b[0m\u001b[0m\n\u001b[1;32m     78\u001b[0m         \u001b[0moutput__boc\u001b[0m \u001b[0;34m=\u001b[0m \u001b[0moutput__boc\u001b[0m\u001b[0;34m.\u001b[0m\u001b[0mreshape\u001b[0m\u001b[0;34m(\u001b[0m\u001b[0;34m(\u001b[0m\u001b[0moutput__boc\u001b[0m\u001b[0;34m.\u001b[0m\u001b[0mshape\u001b[0m\u001b[0;34m[\u001b[0m\u001b[0;36m0\u001b[0m\u001b[0;34m]\u001b[0m\u001b[0;34m,\u001b[0m \u001b[0mself\u001b[0m\u001b[0;34m.\u001b[0m\u001b[0mnO\u001b[0m\u001b[0;34m,\u001b[0m \u001b[0mself\u001b[0m\u001b[0;34m.\u001b[0m\u001b[0mnP\u001b[0m\u001b[0;34m)\u001b[0m\u001b[0;34m)\u001b[0m\u001b[0;34m\u001b[0m\u001b[0;34m\u001b[0m\u001b[0m\n\u001b[0;32m---> 79\u001b[0;31m         \u001b[0mbest__bo\u001b[0m\u001b[0;34m,\u001b[0m \u001b[0mwhich__bo\u001b[0m \u001b[0;34m=\u001b[0m \u001b[0mself\u001b[0m\u001b[0;34m.\u001b[0m\u001b[0mops\u001b[0m\u001b[0;34m.\u001b[0m\u001b[0mmaxout\u001b[0m\u001b[0;34m(\u001b[0m\u001b[0moutput__boc\u001b[0m\u001b[0;34m)\u001b[0m\u001b[0;34m\u001b[0m\u001b[0;34m\u001b[0m\u001b[0m\n\u001b[0m\u001b[1;32m     80\u001b[0m         \u001b[0mbest__bo\u001b[0m\u001b[0;34m,\u001b[0m \u001b[0mbp_dropout\u001b[0m \u001b[0;34m=\u001b[0m \u001b[0mself\u001b[0m\u001b[0;34m.\u001b[0m\u001b[0mops\u001b[0m\u001b[0;34m.\u001b[0m\u001b[0mdropout\u001b[0m\u001b[0;34m(\u001b[0m\u001b[0mbest__bo\u001b[0m\u001b[0;34m,\u001b[0m \u001b[0mdrop\u001b[0m\u001b[0;34m)\u001b[0m\u001b[0;34m\u001b[0m\u001b[0;34m\u001b[0m\u001b[0m\n\u001b[1;32m     81\u001b[0m \u001b[0;34m\u001b[0m\u001b[0m\n",
            "\u001b[0;31mKeyboardInterrupt\u001b[0m: "
          ]
        }
      ]
    },
    {
      "cell_type": "code",
      "metadata": {
        "colab": {
          "base_uri": "https://localhost:8080/",
          "height": 431
        },
        "id": "nW10xHpSpDd0",
        "outputId": "b82060cc-e72d-4815-f160-ef6d8f34d64a"
      },
      "source": [
        "df3"
      ],
      "execution_count": null,
      "outputs": [
        {
          "output_type": "execute_result",
          "data": {
            "text/html": [
              "<div>\n",
              "<style scoped>\n",
              "    .dataframe tbody tr th:only-of-type {\n",
              "        vertical-align: middle;\n",
              "    }\n",
              "\n",
              "    .dataframe tbody tr th {\n",
              "        vertical-align: top;\n",
              "    }\n",
              "\n",
              "    .dataframe thead th {\n",
              "        text-align: right;\n",
              "    }\n",
              "</style>\n",
              "<table border=\"1\" class=\"dataframe\">\n",
              "  <thead>\n",
              "    <tr style=\"text-align: right;\">\n",
              "      <th></th>\n",
              "      <th>tweet</th>\n",
              "      <th>Sentiment_value</th>\n",
              "      <th>vec</th>\n",
              "    </tr>\n",
              "    <tr>\n",
              "      <th>user</th>\n",
              "      <th></th>\n",
              "      <th></th>\n",
              "      <th></th>\n",
              "    </tr>\n",
              "  </thead>\n",
              "  <tbody>\n",
              "    <tr>\n",
              "      <th>jagadishrjain</th>\n",
              "      <td>rrrameshrrr 50 of the quad japan australia and...</td>\n",
              "      <td>1</td>\n",
              "      <td>[0.09004612, 0.034690373, -0.05848376, -0.0992...</td>\n",
              "    </tr>\n",
              "    <tr>\n",
              "      <th>hellfire_81</th>\n",
              "      <td>coolquad riplegic military grouping httpstcocx...</td>\n",
              "      <td>0</td>\n",
              "      <td>[-0.048197, -0.0028900013, 0.158472, -0.000815...</td>\n",
              "    </tr>\n",
              "    <tr>\n",
              "      <th>Savitri4Ever</th>\n",
              "      <td>hellfire_81 coolquad riplegic military groupin...</td>\n",
              "      <td>0</td>\n",
              "      <td>[-0.04016417, -0.0024083343, 0.13206, -0.00067...</td>\n",
              "    </tr>\n",
              "    <tr>\n",
              "      <th>orfonline</th>\n",
              "      <td>the creation of the quad with implications for...</td>\n",
              "      <td>0</td>\n",
              "      <td>[-0.0034065263, 0.052838676, -0.04663989, -0.0...</td>\n",
              "    </tr>\n",
              "    <tr>\n",
              "      <th>InsightGL</th>\n",
              "      <td>asthana_shashi jaishankar attends east asia su...</td>\n",
              "      <td>0</td>\n",
              "      <td>[0.005938239, 0.046918474, 0.17063224, -0.0793...</td>\n",
              "    </tr>\n",
              "    <tr>\n",
              "      <th>...</th>\n",
              "      <td>...</td>\n",
              "      <td>...</td>\n",
              "      <td>...</td>\n",
              "    </tr>\n",
              "    <tr>\n",
              "      <th>RamKuma19784093</th>\n",
              "      <td>india france discuss counterterrorism cooperat...</td>\n",
              "      <td>0</td>\n",
              "      <td>[-0.2111061, 0.14078437, 0.19124909, -0.041424...</td>\n",
              "    </tr>\n",
              "    <tr>\n",
              "      <th>CPR_India</th>\n",
              "      <td>as quad prepares to meet the chinese challenge...</td>\n",
              "      <td>0</td>\n",
              "      <td>[0.07365824, 0.047069248, -0.04199921, -0.0479...</td>\n",
              "    </tr>\n",
              "    <tr>\n",
              "      <th>Resort_Skelin</th>\n",
              "      <td>every team is different lets create a perfect ...</td>\n",
              "      <td>1</td>\n",
              "      <td>[-0.04819747, 0.14340034, -0.1358337, 0.003916...</td>\n",
              "    </tr>\n",
              "    <tr>\n",
              "      <th>KBhairava1</th>\n",
              "      <td>this here is very tricky yes its true aussies ...</td>\n",
              "      <td>1</td>\n",
              "      <td>[-0.057174828, 0.18994899, -0.1468728, -0.1116...</td>\n",
              "    </tr>\n",
              "    <tr>\n",
              "      <th>Deepakk79951168</th>\n",
              "      <td>cpr_india as quad prepares to meet the chinese...</td>\n",
              "      <td>1</td>\n",
              "      <td>[-0.009540685, 0.053027954, -0.05255686, -0.04...</td>\n",
              "    </tr>\n",
              "  </tbody>\n",
              "</table>\n",
              "<p>29499 rows × 3 columns</p>\n",
              "</div>"
            ],
            "text/plain": [
              "                                                             tweet  ...                                                vec\n",
              "user                                                                ...                                                   \n",
              "jagadishrjain    rrrameshrrr 50 of the quad japan australia and...  ...  [0.09004612, 0.034690373, -0.05848376, -0.0992...\n",
              "hellfire_81      coolquad riplegic military grouping httpstcocx...  ...  [-0.048197, -0.0028900013, 0.158472, -0.000815...\n",
              "Savitri4Ever     hellfire_81 coolquad riplegic military groupin...  ...  [-0.04016417, -0.0024083343, 0.13206, -0.00067...\n",
              "orfonline        the creation of the quad with implications for...  ...  [-0.0034065263, 0.052838676, -0.04663989, -0.0...\n",
              "InsightGL        asthana_shashi jaishankar attends east asia su...  ...  [0.005938239, 0.046918474, 0.17063224, -0.0793...\n",
              "...                                                            ...  ...                                                ...\n",
              "RamKuma19784093  india france discuss counterterrorism cooperat...  ...  [-0.2111061, 0.14078437, 0.19124909, -0.041424...\n",
              "CPR_India        as quad prepares to meet the chinese challenge...  ...  [0.07365824, 0.047069248, -0.04199921, -0.0479...\n",
              "Resort_Skelin    every team is different lets create a perfect ...  ...  [-0.04819747, 0.14340034, -0.1358337, 0.003916...\n",
              "KBhairava1       this here is very tricky yes its true aussies ...  ...  [-0.057174828, 0.18994899, -0.1468728, -0.1116...\n",
              "Deepakk79951168  cpr_india as quad prepares to meet the chinese...  ...  [-0.009540685, 0.053027954, -0.05255686, -0.04...\n",
              "\n",
              "[29499 rows x 3 columns]"
            ]
          },
          "metadata": {
            "tags": []
          },
          "execution_count": 75
        }
      ]
    },
    {
      "cell_type": "code",
      "metadata": {
        "id": "WX8MWw_TpMjt"
      },
      "source": [
        "y=df3['Sentiment_value']"
      ],
      "execution_count": null,
      "outputs": []
    },
    {
      "cell_type": "code",
      "metadata": {
        "id": "pKDD13j2pMnY"
      },
      "source": [
        "X = df3['vec'].to_numpy()\n",
        "X = X.reshape(-1,1)"
      ],
      "execution_count": null,
      "outputs": []
    },
    {
      "cell_type": "code",
      "metadata": {
        "colab": {
          "base_uri": "https://localhost:8080/"
        },
        "id": "o1gsCvWFpxa2",
        "outputId": "b8c788ae-a71d-4b3e-f914-9e9f10a50b53"
      },
      "source": [
        "df3.shape, X.shape"
      ],
      "execution_count": null,
      "outputs": [
        {
          "output_type": "execute_result",
          "data": {
            "text/plain": [
              "((29499, 3), (29499, 1))"
            ]
          },
          "metadata": {
            "tags": []
          },
          "execution_count": 78
        }
      ]
    },
    {
      "cell_type": "code",
      "metadata": {
        "id": "tc4R-50LqHuu"
      },
      "source": [
        "X=np.concatenate(np.concatenate(X,axis = 0),axis = 0).reshape(-1,300)\n"
      ],
      "execution_count": null,
      "outputs": []
    },
    {
      "cell_type": "code",
      "metadata": {
        "id": "ic8Hgzf1qpT-"
      },
      "source": [
        "X_train , X_test , y_train , y_test= train_test_split(X,y,test_size=0.2, random_state=0, stratify=y) "
      ],
      "execution_count": null,
      "outputs": []
    },
    {
      "cell_type": "code",
      "metadata": {
        "colab": {
          "base_uri": "https://localhost:8080/"
        },
        "id": "NE8GNEr1queq",
        "outputId": "c3524bc6-f6d8-42ff-ceb8-a8bc329f46df"
      },
      "source": [
        "X_test.shape, X_test"
      ],
      "execution_count": null,
      "outputs": [
        {
          "output_type": "execute_result",
          "data": {
            "text/plain": [
              "((5900, 300), array([[ 0.17811893, -0.03915342, -0.06457193, ...,  0.18942353,\n",
              "         -0.08440045, -0.02429383],\n",
              "        [ 0.03708239,  0.14212947,  0.02149151, ..., -0.01655268,\n",
              "         -0.07725332,  0.09759342],\n",
              "        [-0.08912952,  0.10476758, -0.02319557, ...,  0.00277692,\n",
              "          0.01585867,  0.07990281],\n",
              "        ...,\n",
              "        [-0.04857615,  0.05300444, -0.1038273 , ...,  0.00338753,\n",
              "         -0.0289232 ,  0.09222812],\n",
              "        [-0.00651754, -0.00507522,  0.02190279, ..., -0.04392143,\n",
              "         -0.03321127,  0.04657936],\n",
              "        [ 0.05335439,  0.06389482,  0.09701247, ...,  0.07037558,\n",
              "         -0.1497407 ,  0.05509168]], dtype=float32))"
            ]
          },
          "metadata": {
            "tags": []
          },
          "execution_count": 81
        }
      ]
    },
    {
      "cell_type": "markdown",
      "metadata": {
        "id": "Xihy3R7wrCpC"
      },
      "source": [
        "NORMALIZATION AND FEATURE STANDARDIZATION( i.e will bring all the features b/w 0 and 1)"
      ]
    },
    {
      "cell_type": "code",
      "metadata": {
        "id": "FtMk8ELMrCpC"
      },
      "source": [
        "from sklearn.preprocessing import MinMaxScaler"
      ],
      "execution_count": null,
      "outputs": []
    },
    {
      "cell_type": "code",
      "metadata": {
        "id": "ZkKl-kKwrCpC"
      },
      "source": [
        "scaler=MinMaxScaler()\n",
        "X_train= scaler.fit_transform(X_train)\n",
        "X_test=scaler.transform(X_test)\n"
      ],
      "execution_count": null,
      "outputs": []
    },
    {
      "cell_type": "code",
      "metadata": {
        "colab": {
          "base_uri": "https://localhost:8080/"
        },
        "id": "2yPjsWaPrCpC",
        "outputId": "fae8e4a7-585e-4c17-9814-753f4fe9c95e"
      },
      "source": [
        "np.min(X_train), np.max(X_train)"
      ],
      "execution_count": null,
      "outputs": [
        {
          "output_type": "execute_result",
          "data": {
            "text/plain": [
              "(0.0, 1.0000001)"
            ]
          },
          "metadata": {
            "tags": []
          },
          "execution_count": 277
        }
      ]
    },
    {
      "cell_type": "markdown",
      "metadata": {
        "id": "BOzGM1oTCNDa"
      },
      "source": [
        "MODEL BUILDING & TRAINING"
      ]
    },
    {
      "cell_type": "code",
      "metadata": {
        "colab": {
          "base_uri": "https://localhost:8080/"
        },
        "id": "lvUt-EtRCRFG",
        "outputId": "429e6e4d-3a55-4f27-8850-faa68fec7b15"
      },
      "source": [
        "import tensorflow as tf\n",
        "from tensorflow import keras\n",
        "from tensorflow.keras import Sequential\n",
        "from tensorflow.keras.layers import Flatten,Dense\n",
        "from tensorflow.keras.optimizers import Adam\n",
        "import nltk\n",
        "nltk.download('punkt')"
      ],
      "execution_count": null,
      "outputs": [
        {
          "output_type": "stream",
          "text": [
            "[nltk_data] Downloading package punkt to /root/nltk_data...\n",
            "[nltk_data]   Unzipping tokenizers/punkt.zip.\n"
          ],
          "name": "stdout"
        },
        {
          "output_type": "execute_result",
          "data": {
            "text/plain": [
              "True"
            ]
          },
          "metadata": {
            "tags": []
          },
          "execution_count": 97
        }
      ]
    },
    {
      "cell_type": "code",
      "metadata": {
        "colab": {
          "base_uri": "https://localhost:8080/"
        },
        "id": "s82RRef0EIA2",
        "outputId": "2fb75a78-7253-4c66-c94e-2c381a0fa456"
      },
      "source": [
        "X.shape[1]"
      ],
      "execution_count": null,
      "outputs": [
        {
          "output_type": "execute_result",
          "data": {
            "text/plain": [
              "300"
            ]
          },
          "metadata": {
            "tags": []
          },
          "execution_count": 98
        }
      ]
    },
    {
      "cell_type": "code",
      "metadata": {
        "id": "SVfqXzCJEMRl"
      },
      "source": [
        "model = Sequential()\n",
        "model.add(Dense(units = 128,activation='relu',input_dim = X.shape[1]))\n",
        "model.add(Dense(128, activation='relu'))\n",
        "model.add(Dense(128, activation='relu'))\n",
        "model.add(Dense(1, activation='sigmoid'))"
      ],
      "execution_count": null,
      "outputs": []
    },
    {
      "cell_type": "code",
      "metadata": {
        "id": "e0EigahsE6AW"
      },
      "source": [
        "model.compile(optimizer=Adam(learning_rate = 0.0005 ),loss = 'binary_crossentropy',metrics=['accuracy'])"
      ],
      "execution_count": null,
      "outputs": []
    },
    {
      "cell_type": "code",
      "metadata": {
        "colab": {
          "base_uri": "https://localhost:8080/"
        },
        "id": "cpfY0FxjR8Tr",
        "outputId": "94bfe4d8-a14f-4008-9cee-29bfad3ecc5c"
      },
      "source": [
        "df3.dtypes"
      ],
      "execution_count": null,
      "outputs": [
        {
          "output_type": "execute_result",
          "data": {
            "text/plain": [
              "tweet              object\n",
              "Sentiment_value     int64\n",
              "vec                object\n",
              "dtype: object"
            ]
          },
          "metadata": {
            "tags": []
          },
          "execution_count": 101
        }
      ]
    },
    {
      "cell_type": "code",
      "metadata": {
        "colab": {
          "base_uri": "https://localhost:8080/"
        },
        "id": "nI4UMIFzFEDt",
        "outputId": "1b3e23b0-4417-4568-e033-74a0c0390b7c"
      },
      "source": [
        "model.fit(X_train, y_train, batch_size=4, epochs=20)"
      ],
      "execution_count": null,
      "outputs": [
        {
          "output_type": "stream",
          "text": [
            "Epoch 1/20\n",
            "5900/5900 [==============================] - 11s 2ms/step - loss: 0.5649 - accuracy: 0.7027\n",
            "Epoch 2/20\n",
            "5900/5900 [==============================] - 10s 2ms/step - loss: 0.4085 - accuracy: 0.8122\n",
            "Epoch 3/20\n",
            "5900/5900 [==============================] - 10s 2ms/step - loss: 0.3669 - accuracy: 0.8359\n",
            "Epoch 4/20\n",
            "5900/5900 [==============================] - 10s 2ms/step - loss: 0.3408 - accuracy: 0.8506\n",
            "Epoch 5/20\n",
            "5900/5900 [==============================] - 10s 2ms/step - loss: 0.3330 - accuracy: 0.8513\n",
            "Epoch 6/20\n",
            "5900/5900 [==============================] - 10s 2ms/step - loss: 0.3141 - accuracy: 0.8611\n",
            "Epoch 7/20\n",
            "5900/5900 [==============================] - 10s 2ms/step - loss: 0.3048 - accuracy: 0.8692\n",
            "Epoch 8/20\n",
            "5900/5900 [==============================] - 10s 2ms/step - loss: 0.2948 - accuracy: 0.8710\n",
            "Epoch 9/20\n",
            "5900/5900 [==============================] - 10s 2ms/step - loss: 0.2900 - accuracy: 0.8710\n",
            "Epoch 10/20\n",
            "5900/5900 [==============================] - 10s 2ms/step - loss: 0.2718 - accuracy: 0.8828\n",
            "Epoch 11/20\n",
            "5900/5900 [==============================] - 10s 2ms/step - loss: 0.2611 - accuracy: 0.8890\n",
            "Epoch 12/20\n",
            "5900/5900 [==============================] - 10s 2ms/step - loss: 0.2542 - accuracy: 0.8923\n",
            "Epoch 13/20\n",
            "5900/5900 [==============================] - 10s 2ms/step - loss: 0.2488 - accuracy: 0.8933\n",
            "Epoch 14/20\n",
            "5900/5900 [==============================] - 11s 2ms/step - loss: 0.2464 - accuracy: 0.8952\n",
            "Epoch 15/20\n",
            "5900/5900 [==============================] - 10s 2ms/step - loss: 0.2433 - accuracy: 0.8948\n",
            "Epoch 16/20\n",
            "5900/5900 [==============================] - 10s 2ms/step - loss: 0.2336 - accuracy: 0.9029\n",
            "Epoch 17/20\n",
            "5900/5900 [==============================] - 10s 2ms/step - loss: 0.2295 - accuracy: 0.9016\n",
            "Epoch 18/20\n",
            "5900/5900 [==============================] - 10s 2ms/step - loss: 0.2190 - accuracy: 0.9076\n",
            "Epoch 19/20\n",
            "5900/5900 [==============================] - 10s 2ms/step - loss: 0.2272 - accuracy: 0.9029\n",
            "Epoch 20/20\n",
            "5900/5900 [==============================] - 10s 2ms/step - loss: 0.2113 - accuracy: 0.9106\n"
          ],
          "name": "stdout"
        },
        {
          "output_type": "execute_result",
          "data": {
            "text/plain": [
              "<tensorflow.python.keras.callbacks.History at 0x7fa1506e8780>"
            ]
          },
          "metadata": {
            "tags": []
          },
          "execution_count": 102
        }
      ]
    },
    {
      "cell_type": "markdown",
      "metadata": {
        "id": "Neww_VS0_T12"
      },
      "source": [
        "CONFUSION MATRIX PLOT"
      ]
    },
    {
      "cell_type": "code",
      "metadata": {
        "colab": {
          "base_uri": "https://localhost:8080/"
        },
        "id": "wiozVfVH_W8P",
        "outputId": "caf635c0-5628-49aa-cdfb-cc79e3843612"
      },
      "source": [
        "!pip install mlxtend"
      ],
      "execution_count": null,
      "outputs": [
        {
          "output_type": "stream",
          "text": [
            "Requirement already satisfied: mlxtend in /usr/local/lib/python3.6/dist-packages (0.14.0)\n",
            "Requirement already satisfied: matplotlib>=1.5.1 in /usr/local/lib/python3.6/dist-packages (from mlxtend) (3.2.2)\n",
            "Requirement already satisfied: setuptools in /usr/local/lib/python3.6/dist-packages (from mlxtend) (51.1.2)\n",
            "Requirement already satisfied: scikit-learn>=0.18 in /usr/local/lib/python3.6/dist-packages (from mlxtend) (0.22.2.post1)\n",
            "Requirement already satisfied: pandas>=0.17.1 in /usr/local/lib/python3.6/dist-packages (from mlxtend) (1.1.5)\n",
            "Requirement already satisfied: numpy>=1.10.4 in /usr/local/lib/python3.6/dist-packages (from mlxtend) (1.19.5)\n",
            "Requirement already satisfied: scipy>=0.17 in /usr/local/lib/python3.6/dist-packages (from mlxtend) (1.4.1)\n",
            "Requirement already satisfied: python-dateutil>=2.1 in /usr/local/lib/python3.6/dist-packages (from matplotlib>=1.5.1->mlxtend) (2.8.1)\n",
            "Requirement already satisfied: cycler>=0.10 in /usr/local/lib/python3.6/dist-packages (from matplotlib>=1.5.1->mlxtend) (0.10.0)\n",
            "Requirement already satisfied: pyparsing!=2.0.4,!=2.1.2,!=2.1.6,>=2.0.1 in /usr/local/lib/python3.6/dist-packages (from matplotlib>=1.5.1->mlxtend) (2.4.7)\n",
            "Requirement already satisfied: kiwisolver>=1.0.1 in /usr/local/lib/python3.6/dist-packages (from matplotlib>=1.5.1->mlxtend) (1.3.1)\n",
            "Requirement already satisfied: joblib>=0.11 in /usr/local/lib/python3.6/dist-packages (from scikit-learn>=0.18->mlxtend) (1.0.0)\n",
            "Requirement already satisfied: pytz>=2017.2 in /usr/local/lib/python3.6/dist-packages (from pandas>=0.17.1->mlxtend) (2018.9)\n",
            "Requirement already satisfied: six>=1.5 in /usr/local/lib/python3.6/dist-packages (from python-dateutil>=2.1->matplotlib>=1.5.1->mlxtend) (1.15.0)\n"
          ],
          "name": "stdout"
        }
      ]
    },
    {
      "cell_type": "code",
      "metadata": {
        "id": "aU8wuzxU_m90"
      },
      "source": [
        "y_pred = model.predict_classes(X_test)"
      ],
      "execution_count": null,
      "outputs": []
    },
    {
      "cell_type": "code",
      "metadata": {
        "colab": {
          "base_uri": "https://localhost:8080/"
        },
        "id": "ggJqtujU_zon",
        "outputId": "5e7e4e1b-82d4-4ca4-d7e0-668c97fec6a9"
      },
      "source": [
        "confusion_matrix(y_test,y_pred)"
      ],
      "execution_count": null,
      "outputs": [
        {
          "output_type": "execute_result",
          "data": {
            "text/plain": [
              "array([[3294,  169],\n",
              "       [ 380, 2057]])"
            ]
          },
          "metadata": {
            "tags": []
          },
          "execution_count": 105
        }
      ]
    },
    {
      "cell_type": "code",
      "metadata": {
        "id": "wBKATdrVr5N1"
      },
      "source": [
        "from mlxtend.plotting import plot_confusion_matrix"
      ],
      "execution_count": null,
      "outputs": []
    },
    {
      "cell_type": "code",
      "metadata": {
        "colab": {
          "base_uri": "https://localhost:8080/",
          "height": 361
        },
        "id": "ioBdLK4nsGq5",
        "outputId": "71103336-cf1d-45d1-983b-b4d0ba2387d9"
      },
      "source": [
        "plot_confusion_matrix(confusion_matrix(y_test,y_pred))\n",
        "plt.show()"
      ],
      "execution_count": null,
      "outputs": [
        {
          "output_type": "display_data",
          "data": {
            "image/png": "[encoded data removed]",
            "text/plain": [
              "<Figure size 576x396 with 1 Axes>"
            ]
          },
          "metadata": {
            "tags": []
          }
        }
      ]
    },
    {
      "cell_type": "code",
      "metadata": {
        "colab": {
          "base_uri": "https://localhost:8080/"
        },
        "id": "fXFiWifQsSTg",
        "outputId": "4dd9cad2-67bf-412e-e829-af88b1e82a45"
      },
      "source": [
        "print(classification_report(y_test,y_pred))"
      ],
      "execution_count": null,
      "outputs": [
        {
          "output_type": "stream",
          "text": [
            "              precision    recall  f1-score   support\n",
            "\n",
            "           0       0.90      0.95      0.92      3463\n",
            "           1       0.92      0.84      0.88      2437\n",
            "\n",
            "    accuracy                           0.91      5900\n",
            "   macro avg       0.91      0.90      0.90      5900\n",
            "weighted avg       0.91      0.91      0.91      5900\n",
            "\n"
          ],
          "name": "stdout"
        }
      ]
    },
    {
      "cell_type": "markdown",
      "metadata": {
        "id": "lcnvwO4nsl1a"
      },
      "source": [
        "Setting custom Threshold"
      ]
    },
    {
      "cell_type": "code",
      "metadata": {
        "id": "K49AQbb0spwv"
      },
      "source": [
        "from sklearn.metrics import precision_score, recall_score"
      ],
      "execution_count": null,
      "outputs": []
    },
    {
      "cell_type": "code",
      "metadata": {
        "id": "FG9tClMFs5GU"
      },
      "source": [
        "y_pred = model.predict(X_test)"
      ],
      "execution_count": null,
      "outputs": []
    },
    {
      "cell_type": "code",
      "metadata": {
        "colab": {
          "base_uri": "https://localhost:8080/"
        },
        "id": "2KLgVfKXtC0E",
        "outputId": "3fd4128f-0909-4832-94a9-0b020c297275"
      },
      "source": [
        "y_pred"
      ],
      "execution_count": null,
      "outputs": [
        {
          "output_type": "execute_result",
          "data": {
            "text/plain": [
              "array([[7.9931259e-02],\n",
              "       [7.7418435e-01],\n",
              "       [1.8772483e-04],\n",
              "       ...,\n",
              "       [9.4908381e-01],\n",
              "       [6.6570938e-02],\n",
              "       [2.6479512e-02]], dtype=float32)"
            ]
          },
          "metadata": {
            "tags": []
          },
          "execution_count": 111
        }
      ]
    },
    {
      "cell_type": "code",
      "metadata": {
        "colab": {
          "base_uri": "https://localhost:8080/"
        },
        "id": "ajYmW7-ttH0O",
        "outputId": "41e6fea6-aa01-46e9-f1a8-6d14bc0a1eef"
      },
      "source": [
        "for i in [0.30,0.35, 0.40, 0.45, 0.50,0.55, 0.60,0.65, 0.70, 0.75]:\n",
        "  classes = [1 if val>i else 0 for val in y_pred]\n",
        "  print(i,\"-->>\", precision_score(y_test,classes),recall_score(y_test, classes))"
      ],
      "execution_count": null,
      "outputs": [
        {
          "output_type": "stream",
          "text": [
            "0.3 -->> 0.8615205585725368 0.9113664341403365\n",
            "0.35 -->> 0.8803866290777286 0.8970045137464095\n",
            "0.4 -->> 0.8982909545644019 0.884283955683217\n",
            "0.45 -->> 0.9077458659704091 0.8559704554780467\n",
            "0.5 -->> 0.9240790655884995 0.8440705785802216\n",
            "0.55 -->> 0.9325688073394496 0.8342224045958145\n",
            "0.6 -->> 0.9400468384074941 0.8235535494460402\n",
            "0.65 -->> 0.9484088717454194 0.8071399261386951\n",
            "0.7 -->> 0.9576271186440678 0.7882642593352482\n",
            "0.75 -->> 0.9670442842430484 0.7706196142798523\n"
          ],
          "name": "stdout"
        }
      ]
    },
    {
      "cell_type": "code",
      "metadata": {
        "id": "DObkC7Klu0g0"
      },
      "source": [
        " classes = [1 if val>0.75 else 0 for val in y_pred]"
      ],
      "execution_count": null,
      "outputs": []
    },
    {
      "cell_type": "code",
      "metadata": {
        "colab": {
          "base_uri": "https://localhost:8080/",
          "height": 378
        },
        "id": "Y5mB4y2Du4Yq",
        "outputId": "ac17a581-cf3a-488c-dd3e-357ae2206be9"
      },
      "source": [
        "plot_confusion_matrix(confusion_matrix(y_test,classes))\n",
        "plt.show"
      ],
      "execution_count": null,
      "outputs": [
        {
          "output_type": "execute_result",
          "data": {
            "text/plain": [
              "<function matplotlib.pyplot.show>"
            ]
          },
          "metadata": {
            "tags": []
          },
          "execution_count": 115
        },
        {
          "output_type": "display_data",
          "data": {
            "image/png": "[encoded data removed]",
            "text/plain": [
              "<Figure size 576x396 with 1 Axes>"
            ]
          },
          "metadata": {
            "tags": []
          }
        }
      ]
    },
    {
      "cell_type": "markdown",
      "metadata": {
        "id": "ytXxSkcfvRs3"
      },
      "source": [
        "ann is done now CNN"
      ]
    },
    {
      "cell_type": "code",
      "metadata": {
        "id": "GRwjSy_LvQwo"
      },
      "source": [
        "from tensorflow.keras import Sequential \n",
        "from tensorflow.keras.layers import Flatten, Dense, Conv1D, BatchNormalization,Dropout"
      ],
      "execution_count": null,
      "outputs": []
    },
    {
      "cell_type": "code",
      "metadata": {
        "colab": {
          "base_uri": "https://localhost:8080/"
        },
        "id": "_Rev4NIYv3Nl",
        "outputId": "233ef391-0c62-4b14-b2e9-3b26444b19ca"
      },
      "source": [
        "X_train.shape"
      ],
      "execution_count": null,
      "outputs": [
        {
          "output_type": "execute_result",
          "data": {
            "text/plain": [
              "(23599, 300)"
            ]
          },
          "metadata": {
            "tags": []
          },
          "execution_count": 117
        }
      ]
    },
    {
      "cell_type": "code",
      "metadata": {
        "id": "nTQNA1Fuv7YZ"
      },
      "source": [
        "X_train = X_train.reshape(X_train.shape[0], X_train.shape[1],1)\n",
        "X_test = X_test.reshape(X_test.shape[0],X_test.shape[1],1)"
      ],
      "execution_count": null,
      "outputs": []
    },
    {
      "cell_type": "code",
      "metadata": {
        "colab": {
          "base_uri": "https://localhost:8080/"
        },
        "id": "fHsvzYFpwghz",
        "outputId": "519915b9-5879-400b-b9a1-6e2b091a4bd8"
      },
      "source": [
        "X_train.shape, X_test.shape"
      ],
      "execution_count": null,
      "outputs": [
        {
          "output_type": "execute_result",
          "data": {
            "text/plain": [
              "((23599, 300, 1), (5900, 300, 1))"
            ]
          },
          "metadata": {
            "tags": []
          },
          "execution_count": 119
        }
      ]
    },
    {
      "cell_type": "code",
      "metadata": {
        "id": "l7I3fodgwkPu"
      },
      "source": [
        "model = Sequential()\n",
        "model.add(Conv1D(32,2, activation= 'relu', input_shape = X_train[0].shape))\n",
        "model.add(BatchNormalization())\n",
        "model.add(Dropout(0.2))\n",
        "\n",
        "model.add(Flatten())\n",
        "model.add(Dense(64,activation='relu'))\n",
        "model.add(Dropout(0.3))\n",
        "\n",
        "model.add(Dense(1, activation='sigmoid'))"
      ],
      "execution_count": null,
      "outputs": []
    },
    {
      "cell_type": "code",
      "metadata": {
        "colab": {
          "base_uri": "https://localhost:8080/"
        },
        "id": "1L3U0eh1xm2Y",
        "outputId": "f6541201-6f38-40e0-a074-e959350190bf"
      },
      "source": [
        "model.summary()"
      ],
      "execution_count": null,
      "outputs": [
        {
          "output_type": "stream",
          "text": [
            "Model: \"sequential_1\"\n",
            "_________________________________________________________________\n",
            "Layer (type)                 Output Shape              Param #   \n",
            "=================================================================\n",
            "conv1d (Conv1D)              (None, 299, 32)           96        \n",
            "_________________________________________________________________\n",
            "batch_normalization (BatchNo (None, 299, 32)           128       \n",
            "_________________________________________________________________\n",
            "dropout (Dropout)            (None, 299, 32)           0         \n",
            "_________________________________________________________________\n",
            "flatten (Flatten)            (None, 9568)              0         \n",
            "_________________________________________________________________\n",
            "dense_4 (Dense)              (None, 64)                612416    \n",
            "_________________________________________________________________\n",
            "dropout_1 (Dropout)          (None, 64)                0         \n",
            "_________________________________________________________________\n",
            "dense_5 (Dense)              (None, 1)                 65        \n",
            "=================================================================\n",
            "Total params: 612,705\n",
            "Trainable params: 612,641\n",
            "Non-trainable params: 64\n",
            "_________________________________________________________________\n"
          ],
          "name": "stdout"
        }
      ]
    },
    {
      "cell_type": "code",
      "metadata": {
        "colab": {
          "base_uri": "https://localhost:8080/"
        },
        "id": "6gqobJm8xrU_",
        "outputId": "a7467752-0f91-4296-b983-51e70e3dd2dc"
      },
      "source": [
        "epochs = 20\n",
        "model.compile(optimizer=Adam(0.00001),loss= 'binary_crossentropy',metrics=['accuracy'])\n",
        "history = model.fit(X_train, y_train, epochs=epochs, validation_data=(X_test,y_test))"
      ],
      "execution_count": null,
      "outputs": [
        {
          "output_type": "stream",
          "text": [
            "Epoch 1/20\n",
            "738/738 [==============================] - 16s 20ms/step - loss: 0.5956 - accuracy: 0.6766 - val_loss: 0.4055 - val_accuracy: 0.8198\n",
            "Epoch 2/20\n",
            "738/738 [==============================] - 15s 20ms/step - loss: 0.4062 - accuracy: 0.8127 - val_loss: 0.3260 - val_accuracy: 0.8605\n",
            "Epoch 3/20\n",
            "738/738 [==============================] - 14s 20ms/step - loss: 0.3562 - accuracy: 0.8448 - val_loss: 0.2943 - val_accuracy: 0.8781\n",
            "Epoch 4/20\n",
            "738/738 [==============================] - 14s 20ms/step - loss: 0.3223 - accuracy: 0.8652 - val_loss: 0.2740 - val_accuracy: 0.8875\n",
            "Epoch 5/20\n",
            "738/738 [==============================] - 14s 20ms/step - loss: 0.2970 - accuracy: 0.8783 - val_loss: 0.2596 - val_accuracy: 0.8966\n",
            "Epoch 6/20\n",
            "738/738 [==============================] - 14s 20ms/step - loss: 0.2815 - accuracy: 0.8854 - val_loss: 0.2473 - val_accuracy: 0.8998\n",
            "Epoch 7/20\n",
            "738/738 [==============================] - 14s 20ms/step - loss: 0.2646 - accuracy: 0.8974 - val_loss: 0.2354 - val_accuracy: 0.9061\n",
            "Epoch 8/20\n",
            "738/738 [==============================] - 15s 20ms/step - loss: 0.2591 - accuracy: 0.8930 - val_loss: 0.2266 - val_accuracy: 0.9122\n",
            "Epoch 9/20\n",
            "738/738 [==============================] - 15s 20ms/step - loss: 0.2435 - accuracy: 0.9040 - val_loss: 0.2186 - val_accuracy: 0.9144\n",
            "Epoch 10/20\n",
            "738/738 [==============================] - 15s 20ms/step - loss: 0.2283 - accuracy: 0.9145 - val_loss: 0.2115 - val_accuracy: 0.9169\n",
            "Epoch 11/20\n",
            "738/738 [==============================] - 16s 22ms/step - loss: 0.2281 - accuracy: 0.9108 - val_loss: 0.2027 - val_accuracy: 0.9232\n",
            "Epoch 12/20\n",
            "738/738 [==============================] - 16s 21ms/step - loss: 0.2174 - accuracy: 0.9167 - val_loss: 0.1979 - val_accuracy: 0.9247\n",
            "Epoch 13/20\n",
            "738/738 [==============================] - 15s 20ms/step - loss: 0.2135 - accuracy: 0.9161 - val_loss: 0.1919 - val_accuracy: 0.9290\n",
            "Epoch 14/20\n",
            "738/738 [==============================] - 15s 20ms/step - loss: 0.1987 - accuracy: 0.9214 - val_loss: 0.1873 - val_accuracy: 0.9303\n",
            "Epoch 15/20\n",
            "738/738 [==============================] - 15s 20ms/step - loss: 0.1981 - accuracy: 0.9225 - val_loss: 0.1812 - val_accuracy: 0.9317\n",
            "Epoch 16/20\n",
            "738/738 [==============================] - 15s 20ms/step - loss: 0.1949 - accuracy: 0.9237 - val_loss: 0.1770 - val_accuracy: 0.9342\n",
            "Epoch 17/20\n",
            "738/738 [==============================] - 15s 20ms/step - loss: 0.1907 - accuracy: 0.9276 - val_loss: 0.1728 - val_accuracy: 0.9373\n",
            "Epoch 18/20\n",
            "738/738 [==============================] - 15s 20ms/step - loss: 0.1843 - accuracy: 0.9284 - val_loss: 0.1688 - val_accuracy: 0.9381\n",
            "Epoch 19/20\n",
            "738/738 [==============================] - 15s 20ms/step - loss: 0.1792 - accuracy: 0.9329 - val_loss: 0.1656 - val_accuracy: 0.9403\n",
            "Epoch 20/20\n",
            "738/738 [==============================] - 15s 20ms/step - loss: 0.1738 - accuracy: 0.9368 - val_loss: 0.1621 - val_accuracy: 0.9420\n"
          ],
          "name": "stdout"
        }
      ]
    },
    {
      "cell_type": "markdown",
      "metadata": {
        "id": "Q6Sf-9sxzDqO"
      },
      "source": [
        "PLOT LEARNING CURVE"
      ]
    },
    {
      "cell_type": "code",
      "metadata": {
        "colab": {
          "base_uri": "https://localhost:8080/"
        },
        "id": "S_dO1RSXy5Hf",
        "outputId": "6bf35c5f-4b8c-4bfe-a89a-a57c0b427e0c"
      },
      "source": [
        "history.history.keys()"
      ],
      "execution_count": null,
      "outputs": [
        {
          "output_type": "execute_result",
          "data": {
            "text/plain": [
              "dict_keys(['loss', 'accuracy', 'val_loss', 'val_accuracy'])"
            ]
          },
          "metadata": {
            "tags": []
          },
          "execution_count": 123
        }
      ]
    },
    {
      "cell_type": "code",
      "metadata": {
        "id": "EFvQAKtvzTrd"
      },
      "source": [
        "def plot_learningCurve(history,epoch):\n",
        "  #PLOT TRAINING AND VALIDATION ACCURACY VALUES\n",
        "  epoch_range = range(1, epoch+1)\n",
        "  plt.plot(epoch_range,history.history['accuracy'])\n",
        "  plt.plot(epoch_range,history.history['val_accuracy'])\n",
        "  plt.title('Model accuracy')\n",
        "  plt.ylabel('Accuracy')\n",
        "  plt.xlabel('Epoch')\n",
        "  plt.legend(['Train', 'Val'], loc = 'upper left')\n",
        "  plt.show()\n",
        "  #PLOT TRAINING & VALIDATION LOSS VALUES\n",
        "  plt.plot(epoch_range,history.history['loss'])\n",
        "  plt.plot(epoch_range,history.history['val_loss'])\n",
        "  plt.title('Model loss')\n",
        "  plt.ylabel('Loss')\n",
        "  plt.xlabel('Epoch')\n",
        "  plt.legend(['Train', 'Val'], loc = 'upper left')\n",
        "  plt.show()"
      ],
      "execution_count": null,
      "outputs": []
    },
    {
      "cell_type": "code",
      "metadata": {
        "colab": {
          "base_uri": "https://localhost:8080/",
          "height": 735
        },
        "id": "VKkPMa1w1O9P",
        "outputId": "2994248e-2439-41fa-e6e6-b7cffdc20c33"
      },
      "source": [
        "plot_learningCurve(history, epochs)"
      ],
      "execution_count": null,
      "outputs": [
        {
          "output_type": "display_data",
          "data": {
            "image/png": "[encoded data removed]",
            "text/plain": [
              "<Figure size 576x396 with 1 Axes>"
            ]
          },
          "metadata": {
            "tags": []
          }
        },
        {
          "output_type": "display_data",
          "data": {
            "image/png": "[encoded data removed]",
            "text/plain": [
              "<Figure size 576x396 with 1 Axes>"
            ]
          },
          "metadata": {
            "tags": []
          }
        }
      ]
    },
    {
      "cell_type": "code",
      "metadata": {
        "id": "NkBZMjrvqHQD"
      },
      "source": [
        ""
      ],
      "execution_count": null,
      "outputs": []
    }
  ]
}